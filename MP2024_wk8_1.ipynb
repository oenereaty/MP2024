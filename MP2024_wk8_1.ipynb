{
  "nbformat": 4,
  "nbformat_minor": 0,
  "metadata": {
    "colab": {
      "provenance": [],
      "gpuType": "T4",
      "authorship_tag": "ABX9TyP+Goftp34pZAMGt6kucNrZ",
      "include_colab_link": true
    },
    "kernelspec": {
      "name": "python3",
      "display_name": "Python 3"
    },
    "language_info": {
      "name": "python"
    },
    "accelerator": "GPU"
  },
  "cells": [
    {
      "cell_type": "markdown",
      "metadata": {
        "id": "view-in-github",
        "colab_type": "text"
      },
      "source": [
        "<a href=\"https://colab.research.google.com/github/oenereaty/MP2024/blob/main/MP2024_wk8_1.ipynb\" target=\"_parent\"><img src=\"https://colab.research.google.com/assets/colab-badge.svg\" alt=\"Open In Colab\"/></a>"
      ]
    },
    {
      "cell_type": "markdown",
      "source": [
        "# 모듈\n"
      ],
      "metadata": {
        "id": "OV6LWItbpP6H"
      }
    },
    {
      "cell_type": "code",
      "execution_count": 1,
      "metadata": {
        "id": "C-r2eu_BpCzI"
      },
      "outputs": [],
      "source": [
        "from collections.abc import Iterable\n",
        "\n",
        "def my_show_list(item, max_depth=2, max_items=5):\n",
        "    \"\"\"Displays type, length, and content of nested items up to level 2.\"\"\"\n",
        "\n",
        "    # Level 1 information\n",
        "    item_type = type(item).__name__\n",
        "    try:\n",
        "        item_len = len(item)\n",
        "    except TypeError:\n",
        "        item_len = None  # If length cannot be determined\n",
        "\n",
        "    item_str = repr(item)\n",
        "    if len(item_str) > 50:\n",
        "        content = f\"{item_str[:25]} ... {item_str[-25:]}\"\n",
        "    else:\n",
        "        content = item_str\n",
        "\n",
        "    info = f\"Level 1 - Type: {item_type}\"\n",
        "    if item_len is not None:\n",
        "        info += f\", Length: {item_len}\"\n",
        "    info += f\", Content: {content}\"\n",
        "    print(info)\n",
        "\n",
        "    # Level 2 information (only if item is Iterable)\n",
        "    if isinstance(item, Iterable) and not isinstance(item, (str, bytes)):\n",
        "        if item_len is None:\n",
        "            return  # Skip if length cannot be determined\n",
        "        for idx, subitem in enumerate(item):\n",
        "            if idx == max_items // 2 and item_len > max_items:\n",
        "                print(f\"     ...\")\n",
        "            elif idx >= max_items and idx < item_len - max_items // 2:\n",
        "                continue\n",
        "\n",
        "            subitem_type = type(subitem).__name__\n",
        "            try:\n",
        "                subitem_len = len(subitem)\n",
        "            except TypeError:\n",
        "                subitem_len = None\n",
        "\n",
        "            subitem_str = repr(subitem)\n",
        "            if len(subitem_str) > 50:\n",
        "                sub_content = f\"{subitem_str[:25]} ... {subitem_str[-25:]}\"\n",
        "            else:\n",
        "                sub_content = subitem_str\n",
        "\n",
        "            sub_info = f\"     Level 2 - Type: {subitem_type}\"\n",
        "            if subitem_len is not None:\n",
        "                sub_info += f\", Length: {subitem_len}\"\n",
        "            sub_info += f\", Content: {sub_content}\"\n",
        "            print(sub_info)"
      ]
    },
    {
      "cell_type": "code",
      "source": [
        "import numpy as np"
      ],
      "metadata": {
        "id": "tQ97ruYNpZZc"
      },
      "execution_count": 2,
      "outputs": []
    },
    {
      "cell_type": "code",
      "source": [
        "np"
      ],
      "metadata": {
        "colab": {
          "base_uri": "https://localhost:8080/"
        },
        "id": "U4SP5mZhpdPI",
        "outputId": "08c23fc4-c561-40fe-fdff-def91dd4203d"
      },
      "execution_count": 3,
      "outputs": [
        {
          "output_type": "execute_result",
          "data": {
            "text/plain": [
              "<module 'numpy' from '/usr/local/lib/python3.10/dist-packages/numpy/__init__.py'>"
            ]
          },
          "metadata": {},
          "execution_count": 3
        }
      ]
    },
    {
      "cell_type": "code",
      "source": [
        "!pip install git+https://github.com/guebin/mp2024pkg.git"
      ],
      "metadata": {
        "colab": {
          "base_uri": "https://localhost:8080/"
        },
        "id": "2lhb3l6BpHcX",
        "outputId": "b26bc922-35b4-4366-af76-2fa008d486cd"
      },
      "execution_count": 4,
      "outputs": [
        {
          "output_type": "stream",
          "name": "stdout",
          "text": [
            "Collecting git+https://github.com/guebin/mp2024pkg.git\n",
            "  Cloning https://github.com/guebin/mp2024pkg.git to /tmp/pip-req-build-xg_xlbyo\n",
            "  Running command git clone --filter=blob:none --quiet https://github.com/guebin/mp2024pkg.git /tmp/pip-req-build-xg_xlbyo\n",
            "  Resolved https://github.com/guebin/mp2024pkg.git to commit a4fe1b53001396307c793830b1fcb371a92c55ca\n",
            "  Preparing metadata (setup.py) ... \u001b[?25l\u001b[?25hdone\n"
          ]
        }
      ]
    },
    {
      "cell_type": "code",
      "source": [
        "#!pip uninstall mp2024pkg -y\n",
        "# 이걸 실행하면 위에서 생긴 폴더가 삭제"
      ],
      "metadata": {
        "id": "FHy0fzNBqasv"
      },
      "execution_count": 5,
      "outputs": []
    },
    {
      "cell_type": "code",
      "source": [
        "import mp2024pkg"
      ],
      "metadata": {
        "id": "tvENbTCMqf5v"
      },
      "execution_count": 6,
      "outputs": []
    },
    {
      "cell_type": "code",
      "source": [
        "lst = [\n",
        "    [1]*500,\n",
        "    dict(a=[2]*100,b='123'),\n",
        "    'python',\n",
        "    (1,2,[3,4])\n",
        "]\n",
        "#lst"
      ],
      "metadata": {
        "id": "ajfqyHq9rULI"
      },
      "execution_count": 7,
      "outputs": []
    },
    {
      "cell_type": "code",
      "source": [
        "mp2024pkg.show_list(lst)"
      ],
      "metadata": {
        "colab": {
          "base_uri": "https://localhost:8080/"
        },
        "id": "5swFjQzerP24",
        "outputId": "572ab2b6-5169-47cd-9257-635a68c2623e"
      },
      "execution_count": 8,
      "outputs": [
        {
          "output_type": "stream",
          "name": "stdout",
          "text": [
            "Level 1 - Type: list, Length: 4, Content: [[1, 1, 1, 1, 1, 1, 1, 1, ... 'python', (1, 2, [3, 4])]\n",
            "     Level 2 - Type: list, Length: 500, Content: [1, 1, 1, 1, 1, 1, 1, 1,  ... , 1, 1, 1, 1, 1, 1, 1, 1]\n",
            "     Level 2 - Type: dict, Length: 2, Content: {'a': [2, 2, 2, 2, 2, 2,  ...  2, 2, 2, 2], 'b': '123'}\n",
            "     Level 2 - Type: str, Length: 6, Content: 'python'\n",
            "     Level 2 - Type: tuple, Length: 3, Content: (1, 2, [3, 4])\n"
          ]
        }
      ]
    },
    {
      "cell_type": "code",
      "source": [
        "import numpy as np\n",
        "import torch\n",
        "dct = dict(\n",
        "    lst = [1,2,3]*100,\n",
        "    tpl = (2,3,4),\n",
        "    np_array = np.random.randn(100),\n",
        "    torch = torch.tensor([1])\n",
        ")\n",
        "#dct"
      ],
      "metadata": {
        "id": "i9PJFy5drRYs"
      },
      "execution_count": 9,
      "outputs": []
    },
    {
      "cell_type": "code",
      "source": [
        "mp2024pkg.show_dict(dct)"
      ],
      "metadata": {
        "colab": {
          "base_uri": "https://localhost:8080/"
        },
        "id": "ESnRavotrbdi",
        "outputId": "595f8145-1fc8-442f-8090-e9bd81de6f24"
      },
      "execution_count": 10,
      "outputs": [
        {
          "output_type": "stream",
          "name": "stdout",
          "text": [
            "Dictionary Overview:\n",
            "Total keys: 4\n",
            "Keys: ['lst', 'tpl', 'np_array', 'torch']\n",
            "\n",
            "1. Key: 'lst'\n",
            "   - Type: list\n",
            "   - Length: 300\n",
            "   - Values: [1, 2, 3, 1, 2, 3, 1, 2, 3, 1, 2, 3, 1, 2, 3, 1, 2, 3, 1, 2, 3, 1, 2, 3, 1, 2, 3, 1, 2, 3, 1, 2, 3, ...\n",
            "\n",
            "2. Key: 'tpl'\n",
            "   - Type: tuple\n",
            "   - Length: 3\n",
            "   - Values: (2, 3, 4)\n",
            "\n",
            "3. Key: 'np_array'\n",
            "   - Type: ndarray\n",
            "   - Length: 100\n",
            "   - Values: [ 0.04927241  0.16008749  0.99942464  1.54494688  1.04486755 -1.72647258\n",
            "  0.44409835  1.04845483 -0...\n",
            "\n",
            "4. Key: 'torch'\n",
            "   - Type: Tensor\n",
            "   - Length: 1\n",
            "   - Values: tensor([1])\n",
            "\n"
          ]
        }
      ]
    },
    {
      "cell_type": "code",
      "source": [
        "import mp2024pkg"
      ],
      "metadata": {
        "id": "Fy1ZwYwlsuF5"
      },
      "execution_count": 11,
      "outputs": []
    },
    {
      "cell_type": "code",
      "source": [
        "mp2024pkg.show_list([1,2,[3,4]])"
      ],
      "metadata": {
        "colab": {
          "base_uri": "https://localhost:8080/"
        },
        "id": "aqzAsQPkrpQP",
        "outputId": "db868533-e9ef-4239-abff-4041430e991d"
      },
      "execution_count": 12,
      "outputs": [
        {
          "output_type": "stream",
          "name": "stdout",
          "text": [
            "Level 1 - Type: list, Length: 3, Content: [1, 2, [3, 4]]\n",
            "     Level 2 - Type: int, Content: 1\n",
            "     Level 2 - Type: int, Content: 2\n",
            "     Level 2 - Type: list, Length: 2, Content: [3, 4]\n"
          ]
        }
      ]
    },
    {
      "cell_type": "code",
      "source": [
        "!rm -rf /usr/local/lib/python3.10/dist-packages/mp2024pkg\n",
        "!rm -rf /usr/local/lib/python3.10/dist-packages/mp2024pkg-1.0.dist-info"
      ],
      "metadata": {
        "id": "qBdxinpVrvxr"
      },
      "execution_count": 13,
      "outputs": []
    },
    {
      "cell_type": "markdown",
      "source": [
        "제어판-프로그램 삭제 느낌??"
      ],
      "metadata": {
        "id": "rQFITe3GvDSo"
      }
    },
    {
      "cell_type": "code",
      "source": [
        "!pip install git+https://github.com/guebin/mp2024pkg.git"
      ],
      "metadata": {
        "colab": {
          "base_uri": "https://localhost:8080/",
          "height": 357
        },
        "id": "-exVkDeivBx0",
        "outputId": "208ed041-b6a7-4a34-e686-2cb4de2c8989"
      },
      "execution_count": 14,
      "outputs": [
        {
          "output_type": "stream",
          "name": "stdout",
          "text": [
            "Collecting git+https://github.com/guebin/mp2024pkg.git\n",
            "  Cloning https://github.com/guebin/mp2024pkg.git to /tmp/pip-req-build-gcovneuj\n",
            "  Running command git clone --filter=blob:none --quiet https://github.com/guebin/mp2024pkg.git /tmp/pip-req-build-gcovneuj\n",
            "  Resolved https://github.com/guebin/mp2024pkg.git to commit a4fe1b53001396307c793830b1fcb371a92c55ca\n",
            "  Preparing metadata (setup.py) ... \u001b[?25l\u001b[?25hdone\n",
            "Building wheels for collected packages: mp2024pkg\n",
            "  Building wheel for mp2024pkg (setup.py) ... \u001b[?25l\u001b[?25hdone\n",
            "  Created wheel for mp2024pkg: filename=mp2024pkg-1.0-py3-none-any.whl size=3361 sha256=a87180589254c4ee05b9fc789f86a868b8650f6dd8cf7497dc9a1d6735ab91de\n",
            "  Stored in directory: /tmp/pip-ephem-wheel-cache-svschxfm/wheels/34/e6/bd/d7e7b36b46f974e90ffd4f6308065d303cde840f9c0e0b0892\n",
            "Successfully built mp2024pkg\n",
            "Installing collected packages: mp2024pkg\n",
            "Successfully installed mp2024pkg-1.0\n"
          ]
        },
        {
          "output_type": "display_data",
          "data": {
            "application/vnd.colab-display-data+json": {
              "pip_warning": {
                "packages": [
                  "mp2024pkg"
                ]
              },
              "id": "3d40dddd592046748e5058703a7fa937"
            }
          },
          "metadata": {}
        }
      ]
    },
    {
      "cell_type": "code",
      "source": [
        "import mp2024pkg"
      ],
      "metadata": {
        "id": "yI-tVecqvJ7h"
      },
      "execution_count": 15,
      "outputs": []
    },
    {
      "cell_type": "markdown",
      "source": [
        "## 예시 1 (mp2024pkg.show_dict)"
      ],
      "metadata": {
        "id": "n9Sy83Q4zuAc"
      }
    },
    {
      "cell_type": "code",
      "source": [
        "mp2024pkg.show_dict({'a':[1,2,3],'b':[2,3,4]})"
      ],
      "metadata": {
        "colab": {
          "base_uri": "https://localhost:8080/"
        },
        "id": "u7WPn_1Gy8VD",
        "outputId": "2ecd4fa4-d81e-4903-87db-ffca819f99a2"
      },
      "execution_count": 18,
      "outputs": [
        {
          "output_type": "stream",
          "name": "stdout",
          "text": [
            "Dictionary Overview:\n",
            "Total keys: 2\n",
            "Keys: ['a', 'b']\n",
            "\n",
            "1. Key: 'a'\n",
            "   - Type: list\n",
            "   - Length: 3\n",
            "   - Values: [1, 2, 3]\n",
            "\n",
            "2. Key: 'b'\n",
            "   - Type: list\n",
            "   - Length: 3\n",
            "   - Values: [2, 3, 4]\n",
            "\n"
          ]
        }
      ]
    },
    {
      "cell_type": "code",
      "source": [
        "mp2024pkg.show_list([[1],[1,2]])"
      ],
      "metadata": {
        "colab": {
          "base_uri": "https://localhost:8080/"
        },
        "id": "WkXGm5tDy-cx",
        "outputId": "f70faf28-3c43-4437-e6cd-df37fbb267f8"
      },
      "execution_count": 19,
      "outputs": [
        {
          "output_type": "stream",
          "name": "stdout",
          "text": [
            "Level 1 - Type: list, Length: 2, Content: [[1], [1, 2]]\n",
            "     Level 2 - Type: list, Length: 1, Content: [1]\n",
            "     Level 2 - Type: list, Length: 2, Content: [1, 2]\n"
          ]
        }
      ]
    },
    {
      "cell_type": "markdown",
      "source": [
        "## 예시 2 (from mp2024pkg import show_list)"
      ],
      "metadata": {
        "id": "lBACLtifzvxc"
      }
    },
    {
      "cell_type": "code",
      "source": [
        "from mp2024pkg import show_list"
      ],
      "metadata": {
        "id": "6EVYdGOBzoZs"
      },
      "execution_count": 20,
      "outputs": []
    },
    {
      "cell_type": "markdown",
      "source": [
        "## 예시 3 (import mp2024pkg as mp)"
      ],
      "metadata": {
        "id": "iq6tk7U20Wrz"
      }
    },
    {
      "cell_type": "code",
      "source": [
        "import mp2024pkg as mp\n",
        "# 나는 restart를 안 해서 아래와 mp2023pkg.show_list 또는 show_list 와 같은 함수를 써도 출력이 되는 것임"
      ],
      "metadata": {
        "id": "TJqC4GX10rMy"
      },
      "execution_count": 36,
      "outputs": []
    },
    {
      "cell_type": "code",
      "source": [
        "mp2024pkg.show_list([[1],[1,2]])"
      ],
      "metadata": {
        "colab": {
          "base_uri": "https://localhost:8080/"
        },
        "id": "tCwsWsyk0XoM",
        "outputId": "3f23cdf5-543f-4e30-bf18-8f19c472a850"
      },
      "execution_count": 25,
      "outputs": [
        {
          "output_type": "stream",
          "name": "stdout",
          "text": [
            "Level 1 - Type: list, Length: 2, Content: [[1], [1, 2]]\n",
            "     Level 2 - Type: list, Length: 1, Content: [1]\n",
            "     Level 2 - Type: list, Length: 2, Content: [1, 2]\n"
          ]
        }
      ]
    },
    {
      "cell_type": "code",
      "source": [
        "show_list([[1],[1,2]])"
      ],
      "metadata": {
        "colab": {
          "base_uri": "https://localhost:8080/"
        },
        "id": "50vTluh-0oNE",
        "outputId": "d7782fd0-0057-4987-dbf5-f1bce1bf8152"
      },
      "execution_count": 26,
      "outputs": [
        {
          "output_type": "stream",
          "name": "stdout",
          "text": [
            "Level 1 - Type: list, Length: 2, Content: [[1], [1, 2]]\n",
            "     Level 2 - Type: list, Length: 1, Content: [1]\n",
            "     Level 2 - Type: list, Length: 2, Content: [1, 2]\n"
          ]
        }
      ]
    },
    {
      "cell_type": "code",
      "source": [
        "mp.show_dict({'a':[1,2,3],'b':[2,3,4]})"
      ],
      "metadata": {
        "colab": {
          "base_uri": "https://localhost:8080/"
        },
        "id": "-MOSxOaN1Ce8",
        "outputId": "5b1cc586-d6dc-424c-9daf-001ef68a83a9"
      },
      "execution_count": 27,
      "outputs": [
        {
          "output_type": "stream",
          "name": "stdout",
          "text": [
            "Dictionary Overview:\n",
            "Total keys: 2\n",
            "Keys: ['a', 'b']\n",
            "\n",
            "1. Key: 'a'\n",
            "   - Type: list\n",
            "   - Length: 3\n",
            "   - Values: [1, 2, 3]\n",
            "\n",
            "2. Key: 'b'\n",
            "   - Type: list\n",
            "   - Length: 3\n",
            "   - Values: [2, 3, 4]\n",
            "\n"
          ]
        }
      ]
    },
    {
      "cell_type": "code",
      "source": [
        "mp.show_list([[1],[1,2]])"
      ],
      "metadata": {
        "colab": {
          "base_uri": "https://localhost:8080/"
        },
        "id": "I1z8CUnM1FV5",
        "outputId": "9b707b6d-f514-4701-c1d2-f3c5a8c5b592"
      },
      "execution_count": 28,
      "outputs": [
        {
          "output_type": "stream",
          "name": "stdout",
          "text": [
            "Level 1 - Type: list, Length: 2, Content: [[1], [1, 2]]\n",
            "     Level 2 - Type: list, Length: 1, Content: [1]\n",
            "     Level 2 - Type: list, Length: 2, Content: [1, 2]\n"
          ]
        }
      ]
    },
    {
      "cell_type": "markdown",
      "source": [
        "## 예시 5 (from mp2024pkg import *)"
      ],
      "metadata": {
        "id": "xnlpg2WH1QoB"
      }
    },
    {
      "cell_type": "code",
      "source": [
        "from mp2024pkg import *\n",
        "# 다 불러오고 싶어! 라는 의미의 *"
      ],
      "metadata": {
        "id": "scrh7CHi1Pvd"
      },
      "execution_count": 31,
      "outputs": []
    },
    {
      "cell_type": "code",
      "source": [
        "show_dict({'a':[1,2,3],'b':[2,3,4]})"
      ],
      "metadata": {
        "colab": {
          "base_uri": "https://localhost:8080/"
        },
        "id": "pVDJCkET1X15",
        "outputId": "53cea60d-7dd9-471b-c509-f76a59736587"
      },
      "execution_count": 32,
      "outputs": [
        {
          "output_type": "stream",
          "name": "stdout",
          "text": [
            "Dictionary Overview:\n",
            "Total keys: 2\n",
            "Keys: ['a', 'b']\n",
            "\n",
            "1. Key: 'a'\n",
            "   - Type: list\n",
            "   - Length: 3\n",
            "   - Values: [1, 2, 3]\n",
            "\n",
            "2. Key: 'b'\n",
            "   - Type: list\n",
            "   - Length: 3\n",
            "   - Values: [2, 3, 4]\n",
            "\n"
          ]
        }
      ]
    },
    {
      "cell_type": "code",
      "source": [
        "show_list([[1],[1,2]])"
      ],
      "metadata": {
        "colab": {
          "base_uri": "https://localhost:8080/"
        },
        "id": "C4whwGh21bpy",
        "outputId": "8fdcea34-8e49-4159-a95b-cf355cf00427"
      },
      "execution_count": 33,
      "outputs": [
        {
          "output_type": "stream",
          "name": "stdout",
          "text": [
            "Level 1 - Type: list, Length: 2, Content: [[1], [1, 2]]\n",
            "     Level 2 - Type: list, Length: 1, Content: [1]\n",
            "     Level 2 - Type: list, Length: 2, Content: [1, 2]\n"
          ]
        }
      ]
    },
    {
      "cell_type": "code",
      "source": [],
      "metadata": {
        "id": "IjqwVc1J1edn"
      },
      "execution_count": null,
      "outputs": []
    },
    {
      "cell_type": "markdown",
      "source": [
        "## 예시 6 (from mp2024pkg import show_dict as sd)"
      ],
      "metadata": {
        "id": "mJ0PuQeo1gGl"
      }
    },
    {
      "cell_type": "code",
      "source": [
        "from mp2024pkg import show_dict as sd"
      ],
      "metadata": {
        "id": "RkFaz-cf1jUS"
      },
      "execution_count": 34,
      "outputs": []
    },
    {
      "cell_type": "markdown",
      "source": [
        "`show_dict` 의 별칭을 `sd`로 설정함"
      ],
      "metadata": {
        "id": "UWCeYg0S1mFv"
      }
    },
    {
      "cell_type": "code",
      "source": [
        "sd({'a':[1,2,3],'b':[2,3,4]})"
      ],
      "metadata": {
        "colab": {
          "base_uri": "https://localhost:8080/"
        },
        "id": "Fj89hmBZ1kuN",
        "outputId": "f6314dbd-93bb-4279-cef4-53c607775590"
      },
      "execution_count": 37,
      "outputs": [
        {
          "output_type": "stream",
          "name": "stdout",
          "text": [
            "Dictionary Overview:\n",
            "Total keys: 2\n",
            "Keys: ['a', 'b']\n",
            "\n",
            "1. Key: 'a'\n",
            "   - Type: list\n",
            "   - Length: 3\n",
            "   - Values: [1, 2, 3]\n",
            "\n",
            "2. Key: 'b'\n",
            "   - Type: list\n",
            "   - Length: 3\n",
            "   - Values: [2, 3, 4]\n",
            "\n"
          ]
        }
      ]
    },
    {
      "cell_type": "markdown",
      "source": [
        "## 예시 7(from mp2024pkg import show_dict as sd import mp2024pkg)"
      ],
      "metadata": {
        "id": "OgeyEbw52AsU"
      }
    },
    {
      "cell_type": "code",
      "source": [
        "from mp2024pkg import show_dict as sd\n",
        "import mp2024pkg"
      ],
      "metadata": {
        "id": "1Rw31upS185n"
      },
      "execution_count": 38,
      "outputs": []
    },
    {
      "cell_type": "markdown",
      "source": [
        "```python\n",
        "1. sd({'a':[1,2,3],'b':[2,3,4]})\n",
        "2. mp2024pkg.show_dict({'a':[1,2,3],'b':[2,3,4]})\n",
        "```\n",
        "\n",
        "두 개의 출력값이 동일하다는 것을 나타내기 위해\n",
        "\n",
        "```python\n",
        "from mp2024pkg import show_dict as sd\n",
        "import mp2024pkg\n",
        "```\n",
        "라고 import 함\n",
        "\n"
      ],
      "metadata": {
        "id": "ob5HJGpF2PwD"
      }
    },
    {
      "cell_type": "code",
      "source": [
        "sd({'a':[1,2,3],'b':[2,3,4]})"
      ],
      "metadata": {
        "colab": {
          "base_uri": "https://localhost:8080/"
        },
        "id": "vYTKqfXK2DxH",
        "outputId": "1147cffe-cf79-41db-8e6a-b64a14d0c75b"
      },
      "execution_count": 39,
      "outputs": [
        {
          "output_type": "stream",
          "name": "stdout",
          "text": [
            "Dictionary Overview:\n",
            "Total keys: 2\n",
            "Keys: ['a', 'b']\n",
            "\n",
            "1. Key: 'a'\n",
            "   - Type: list\n",
            "   - Length: 3\n",
            "   - Values: [1, 2, 3]\n",
            "\n",
            "2. Key: 'b'\n",
            "   - Type: list\n",
            "   - Length: 3\n",
            "   - Values: [2, 3, 4]\n",
            "\n"
          ]
        }
      ]
    },
    {
      "cell_type": "code",
      "source": [
        "mp2024pkg.show_dict({'a':[1,2,3],'b':[2,3,4]})"
      ],
      "metadata": {
        "colab": {
          "base_uri": "https://localhost:8080/"
        },
        "id": "z1WW2SaU2oLV",
        "outputId": "f89cb54f-34ff-4b4d-b1ec-d46372640ec9"
      },
      "execution_count": 40,
      "outputs": [
        {
          "output_type": "stream",
          "name": "stdout",
          "text": [
            "Dictionary Overview:\n",
            "Total keys: 2\n",
            "Keys: ['a', 'b']\n",
            "\n",
            "1. Key: 'a'\n",
            "   - Type: list\n",
            "   - Length: 3\n",
            "   - Values: [1, 2, 3]\n",
            "\n",
            "2. Key: 'b'\n",
            "   - Type: list\n",
            "   - Length: 3\n",
            "   - Values: [2, 3, 4]\n",
            "\n"
          ]
        }
      ]
    },
    {
      "cell_type": "code",
      "source": [],
      "metadata": {
        "id": "VY78g3Pj2t_U"
      },
      "execution_count": null,
      "outputs": []
    }
  ]
}