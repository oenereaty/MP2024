{
 "cells": [
  {
   "metadata": {},
   "cell_type": "markdown",
   "source": "git에 추가하면 어떻게 되는 것이죠",
   "id": "434dc6fffe9cf374"
  },
  {
   "metadata": {},
   "cell_type": "markdown",
   "source": "개개개개신기하다",
   "id": "ba21304e243ff47b"
  },
  {
   "metadata": {},
   "cell_type": "code",
   "outputs": [],
   "execution_count": null,
   "source": "",
   "id": "4ccbaf99940f1600"
  }
 ],
 "metadata": {
  "kernelspec": {
   "display_name": "Python 3",
   "language": "python",
   "name": "python3"
  },
  "language_info": {
   "codemirror_mode": {
    "name": "ipython",
    "version": 2
   },
   "file_extension": ".py",
   "mimetype": "text/x-python",
   "name": "python",
   "nbconvert_exporter": "python",
   "pygments_lexer": "ipython2",
   "version": "2.7.6"
  }
 },
 "nbformat": 4,
 "nbformat_minor": 5
}
