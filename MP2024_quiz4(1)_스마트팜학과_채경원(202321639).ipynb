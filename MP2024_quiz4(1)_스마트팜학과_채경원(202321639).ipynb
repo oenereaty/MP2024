{
  "nbformat": 4,
  "nbformat_minor": 0,
  "metadata": {
    "colab": {
      "provenance": [],
      "gpuType": "T4",
      "authorship_tag": "ABX9TyPNHX+jyaFlQV8MwvhMuYSw",
      "include_colab_link": true
    },
    "kernelspec": {
      "name": "python3",
      "display_name": "Python 3"
    },
    "language_info": {
      "name": "python"
    },
    "accelerator": "GPU"
  },
  "cells": [
    {
      "cell_type": "markdown",
      "metadata": {
        "id": "view-in-github",
        "colab_type": "text"
      },
      "source": [
        "<a href=\"https://colab.research.google.com/github/oenereaty/MP2024/blob/main/MP2024_quiz4(1)_%EC%8A%A4%EB%A7%88%ED%8A%B8%ED%8C%9C%ED%95%99%EA%B3%BC_%EC%B1%84%EA%B2%BD%EC%9B%90(202321639).ipynb\" target=\"_parent\"><img src=\"https://colab.research.google.com/assets/colab-badge.svg\" alt=\"Open In Colab\"/></a>"
      ]
    },
    {
      "cell_type": "markdown",
      "source": [
        "# 데이터 불러오기"
      ],
      "metadata": {
        "id": "uoufE8iO9Nn0"
      }
    },
    {
      "cell_type": "code",
      "source": [
        "pip install transformers datasets evaluate accelerate pillow torchvision scikit-learn"
      ],
      "metadata": {
        "colab": {
          "base_uri": "https://localhost:8080/"
        },
        "id": "TwjNQZ6L9EnU",
        "outputId": "bc31e887-c65f-412a-83a7-4112db239aed"
      },
      "execution_count": 6,
      "outputs": [
        {
          "output_type": "stream",
          "name": "stdout",
          "text": [
            "Requirement already satisfied: transformers in /usr/local/lib/python3.10/dist-packages (4.44.2)\n",
            "Requirement already satisfied: datasets in /usr/local/lib/python3.10/dist-packages (3.0.1)\n",
            "Requirement already satisfied: evaluate in /usr/local/lib/python3.10/dist-packages (0.4.3)\n",
            "Requirement already satisfied: accelerate in /usr/local/lib/python3.10/dist-packages (0.34.2)\n",
            "Requirement already satisfied: pillow in /usr/local/lib/python3.10/dist-packages (10.4.0)\n",
            "Requirement already satisfied: torchvision in /usr/local/lib/python3.10/dist-packages (0.19.1+cu121)\n",
            "Requirement already satisfied: scikit-learn in /usr/local/lib/python3.10/dist-packages (1.5.2)\n",
            "Requirement already satisfied: filelock in /usr/local/lib/python3.10/dist-packages (from transformers) (3.16.1)\n",
            "Requirement already satisfied: huggingface-hub<1.0,>=0.23.2 in /usr/local/lib/python3.10/dist-packages (from transformers) (0.24.7)\n",
            "Requirement already satisfied: numpy>=1.17 in /usr/local/lib/python3.10/dist-packages (from transformers) (1.26.4)\n",
            "Requirement already satisfied: packaging>=20.0 in /usr/local/lib/python3.10/dist-packages (from transformers) (24.1)\n",
            "Requirement already satisfied: pyyaml>=5.1 in /usr/local/lib/python3.10/dist-packages (from transformers) (6.0.2)\n",
            "Requirement already satisfied: regex!=2019.12.17 in /usr/local/lib/python3.10/dist-packages (from transformers) (2024.9.11)\n",
            "Requirement already satisfied: requests in /usr/local/lib/python3.10/dist-packages (from transformers) (2.32.3)\n",
            "Requirement already satisfied: safetensors>=0.4.1 in /usr/local/lib/python3.10/dist-packages (from transformers) (0.4.5)\n",
            "Requirement already satisfied: tokenizers<0.20,>=0.19 in /usr/local/lib/python3.10/dist-packages (from transformers) (0.19.1)\n",
            "Requirement already satisfied: tqdm>=4.27 in /usr/local/lib/python3.10/dist-packages (from transformers) (4.66.5)\n",
            "Requirement already satisfied: pyarrow>=15.0.0 in /usr/local/lib/python3.10/dist-packages (from datasets) (16.1.0)\n",
            "Requirement already satisfied: dill<0.3.9,>=0.3.0 in /usr/local/lib/python3.10/dist-packages (from datasets) (0.3.8)\n",
            "Requirement already satisfied: pandas in /usr/local/lib/python3.10/dist-packages (from datasets) (2.2.2)\n",
            "Requirement already satisfied: xxhash in /usr/local/lib/python3.10/dist-packages (from datasets) (3.5.0)\n",
            "Requirement already satisfied: multiprocess in /usr/local/lib/python3.10/dist-packages (from datasets) (0.70.16)\n",
            "Requirement already satisfied: fsspec<=2024.6.1,>=2023.1.0 in /usr/local/lib/python3.10/dist-packages (from fsspec[http]<=2024.6.1,>=2023.1.0->datasets) (2024.6.1)\n",
            "Requirement already satisfied: aiohttp in /usr/local/lib/python3.10/dist-packages (from datasets) (3.10.10)\n",
            "Requirement already satisfied: psutil in /usr/local/lib/python3.10/dist-packages (from accelerate) (5.9.5)\n",
            "Requirement already satisfied: torch>=1.10.0 in /usr/local/lib/python3.10/dist-packages (from accelerate) (2.4.1+cu121)\n",
            "Requirement already satisfied: typing-extensions>=4.8.0 in /usr/local/lib/python3.10/dist-packages (from torch>=1.10.0->accelerate) (4.12.2)\n",
            "Requirement already satisfied: sympy in /usr/local/lib/python3.10/dist-packages (from torch>=1.10.0->accelerate) (1.13.3)\n",
            "Requirement already satisfied: networkx in /usr/local/lib/python3.10/dist-packages (from torch>=1.10.0->accelerate) (3.4.1)\n",
            "Requirement already satisfied: jinja2 in /usr/local/lib/python3.10/dist-packages (from torch>=1.10.0->accelerate) (3.1.4)\n",
            "Requirement already satisfied: scipy>=1.6.0 in /usr/local/lib/python3.10/dist-packages (from scikit-learn) (1.13.1)\n",
            "Requirement already satisfied: joblib>=1.2.0 in /usr/local/lib/python3.10/dist-packages (from scikit-learn) (1.4.2)\n",
            "Requirement already satisfied: threadpoolctl>=3.1.0 in /usr/local/lib/python3.10/dist-packages (from scikit-learn) (3.5.0)\n",
            "Requirement already satisfied: aiohappyeyeballs>=2.3.0 in /usr/local/lib/python3.10/dist-packages (from aiohttp->datasets) (2.4.3)\n",
            "Requirement already satisfied: aiosignal>=1.1.2 in /usr/local/lib/python3.10/dist-packages (from aiohttp->datasets) (1.3.1)\n",
            "Requirement already satisfied: attrs>=17.3.0 in /usr/local/lib/python3.10/dist-packages (from aiohttp->datasets) (24.2.0)\n",
            "Requirement already satisfied: frozenlist>=1.1.1 in /usr/local/lib/python3.10/dist-packages (from aiohttp->datasets) (1.4.1)\n",
            "Requirement already satisfied: multidict<7.0,>=4.5 in /usr/local/lib/python3.10/dist-packages (from aiohttp->datasets) (6.1.0)\n",
            "Requirement already satisfied: yarl<2.0,>=1.12.0 in /usr/local/lib/python3.10/dist-packages (from aiohttp->datasets) (1.15.2)\n",
            "Requirement already satisfied: async-timeout<5.0,>=4.0 in /usr/local/lib/python3.10/dist-packages (from aiohttp->datasets) (4.0.3)\n",
            "Requirement already satisfied: charset-normalizer<4,>=2 in /usr/local/lib/python3.10/dist-packages (from requests->transformers) (3.4.0)\n",
            "Requirement already satisfied: idna<4,>=2.5 in /usr/local/lib/python3.10/dist-packages (from requests->transformers) (3.10)\n",
            "Requirement already satisfied: urllib3<3,>=1.21.1 in /usr/local/lib/python3.10/dist-packages (from requests->transformers) (2.2.3)\n",
            "Requirement already satisfied: certifi>=2017.4.17 in /usr/local/lib/python3.10/dist-packages (from requests->transformers) (2024.8.30)\n",
            "Requirement already satisfied: python-dateutil>=2.8.2 in /usr/local/lib/python3.10/dist-packages (from pandas->datasets) (2.8.2)\n",
            "Requirement already satisfied: pytz>=2020.1 in /usr/local/lib/python3.10/dist-packages (from pandas->datasets) (2024.2)\n",
            "Requirement already satisfied: tzdata>=2022.7 in /usr/local/lib/python3.10/dist-packages (from pandas->datasets) (2024.2)\n",
            "Requirement already satisfied: six>=1.5 in /usr/local/lib/python3.10/dist-packages (from python-dateutil>=2.8.2->pandas->datasets) (1.16.0)\n",
            "Requirement already satisfied: propcache>=0.2.0 in /usr/local/lib/python3.10/dist-packages (from yarl<2.0,>=1.12.0->aiohttp->datasets) (0.2.0)\n",
            "Requirement already satisfied: MarkupSafe>=2.0 in /usr/local/lib/python3.10/dist-packages (from jinja2->torch>=1.10.0->accelerate) (3.0.1)\n",
            "Requirement already satisfied: mpmath<1.4,>=1.1.0 in /usr/local/lib/python3.10/dist-packages (from sympy->torch>=1.10.0->accelerate) (1.3.0)\n"
          ]
        }
      ]
    },
    {
      "cell_type": "code",
      "execution_count": 7,
      "metadata": {
        "id": "iH14iGr48GO0"
      },
      "outputs": [],
      "source": [
        "import datasets\n",
        "import transformers\n",
        "import torchvision.transforms\n",
        "import evaluate\n",
        "import numpy as np"
      ]
    },
    {
      "cell_type": "code",
      "source": [
        "beans = datasets.load_dataset('beans')\n",
        "beans"
      ],
      "metadata": {
        "colab": {
          "base_uri": "https://localhost:8080/"
        },
        "id": "eRUemJQe9E71",
        "outputId": "f1fe719d-f87d-4dd8-d8e7-42163cc76653"
      },
      "execution_count": 8,
      "outputs": [
        {
          "output_type": "stream",
          "name": "stderr",
          "text": [
            "/usr/local/lib/python3.10/dist-packages/huggingface_hub/utils/_token.py:89: UserWarning: \n",
            "The secret `HF_TOKEN` does not exist in your Colab secrets.\n",
            "To authenticate with the Hugging Face Hub, create a token in your settings tab (https://huggingface.co/settings/tokens), set it as secret in your Google Colab and restart your session.\n",
            "You will be able to reuse this secret in all of your notebooks.\n",
            "Please note that authentication is recommended but still optional to access public models or datasets.\n",
            "  warnings.warn(\n"
          ]
        },
        {
          "output_type": "execute_result",
          "data": {
            "text/plain": [
              "DatasetDict({\n",
              "    train: Dataset({\n",
              "        features: ['image_file_path', 'image', 'labels'],\n",
              "        num_rows: 1034\n",
              "    })\n",
              "    validation: Dataset({\n",
              "        features: ['image_file_path', 'image', 'labels'],\n",
              "        num_rows: 133\n",
              "    })\n",
              "    test: Dataset({\n",
              "        features: ['image_file_path', 'image', 'labels'],\n",
              "        num_rows: 128\n",
              "    })\n",
              "})"
            ]
          },
          "metadata": {},
          "execution_count": 8
        }
      ]
    },
    {
      "cell_type": "markdown",
      "source": [
        "(1) beans['train'][10] 에 포함된 이미지의 크기와 라벨을 확인하라.\n",
        "\n"
      ],
      "metadata": {
        "id": "9HPFn1Lc97UN"
      }
    },
    {
      "cell_type": "code",
      "source": [
        "beans['train'][10]"
      ],
      "metadata": {
        "colab": {
          "base_uri": "https://localhost:8080/"
        },
        "id": "2xMw7agz9SnN",
        "outputId": "8e0ea88d-331e-47fd-8690-6470475f32fd"
      },
      "execution_count": 9,
      "outputs": [
        {
          "output_type": "execute_result",
          "data": {
            "text/plain": [
              "{'image_file_path': '/home/albert/.cache/huggingface/datasets/downloads/extracted/967f0d9f61a7a8de58892c6fab6f02317c06faf3e19fba6a07b0885a9a7142c7/train/angular_leaf_spot/angular_leaf_spot_train.107.jpg',\n",
              " 'image': <PIL.JpegImagePlugin.JpegImageFile image mode=RGB size=500x500>,\n",
              " 'labels': 0}"
            ]
          },
          "metadata": {},
          "execution_count": 9
        }
      ]
    },
    {
      "cell_type": "code",
      "source": [
        "자르고크기조정하기 = torchvision.transforms.RandomResizedCrop((224,224))"
      ],
      "metadata": {
        "id": "MtPks4kp9dvl"
      },
      "execution_count": 10,
      "outputs": []
    },
    {
      "cell_type": "code",
      "source": [
        "img = beans['train'][10]['image']"
      ],
      "metadata": {
        "id": "vB84-uUC-Mxy"
      },
      "execution_count": 11,
      "outputs": []
    },
    {
      "cell_type": "code",
      "source": [
        "자르고크기조정하기(img)"
      ],
      "metadata": {
        "colab": {
          "base_uri": "https://localhost:8080/",
          "height": 241
        },
        "id": "yl781OyZ-Fz9",
        "outputId": "9925375a-1c53-4356-c6de-9b709a4d33c4"
      },
      "execution_count": 12,
      "outputs": [
        {
          "output_type": "execute_result",
          "data": {
            "text/plain": [
              "<PIL.Image.Image image mode=RGB size=224x224>"
            ],
            "image/png": "[encoded data removed]",
            "image/jpeg": "[encoded data removed]"
          },
          "metadata": {},
          "execution_count": 12
        }
      ]
    },
    {
      "cell_type": "code",
      "source": [
        "텐서화하기 = torchvision.transforms.ToTensor()"
      ],
      "metadata": {
        "id": "yu4XQapj-UCR"
      },
      "execution_count": 13,
      "outputs": []
    },
    {
      "cell_type": "code",
      "source": [
        "텐서화하기(img)"
      ],
      "metadata": {
        "colab": {
          "base_uri": "https://localhost:8080/"
        },
        "id": "XlEz-Yg1-gis",
        "outputId": "fb7ce18e-0fb7-4ce0-a1d1-d6de40ec7c7a"
      },
      "execution_count": 14,
      "outputs": [
        {
          "output_type": "execute_result",
          "data": {
            "text/plain": [
              "tensor([[[0.4706, 0.5255, 0.4549,  ..., 0.4941, 0.4471, 0.3608],\n",
              "         [0.5529, 0.5529, 0.4549,  ..., 0.6118, 0.5294, 0.4667],\n",
              "         [0.4157, 0.5451, 0.6157,  ..., 0.6706, 0.5961, 0.5333],\n",
              "         ...,\n",
              "         [0.7412, 0.6471, 0.5137,  ..., 0.3686, 0.3216, 0.2824],\n",
              "         [0.7216, 0.6588, 0.5569,  ..., 0.3961, 0.3412, 0.2941],\n",
              "         [0.6471, 0.6588, 0.5804,  ..., 0.3804, 0.3490, 0.3098]],\n",
              "\n",
              "        [[0.2863, 0.3412, 0.2784,  ..., 0.3255, 0.2824, 0.1961],\n",
              "         [0.3686, 0.3686, 0.2706,  ..., 0.4353, 0.3608, 0.2980],\n",
              "         [0.2275, 0.3647, 0.4353,  ..., 0.4824, 0.4118, 0.3490],\n",
              "         ...,\n",
              "         [0.7647, 0.6902, 0.5882,  ..., 0.2863, 0.2588, 0.2275],\n",
              "         [0.7333, 0.6980, 0.6314,  ..., 0.3137, 0.2706, 0.2314],\n",
              "         [0.6549, 0.6863, 0.6549,  ..., 0.2980, 0.2784, 0.2471]],\n",
              "\n",
              "        [[0.2078, 0.2627, 0.1961,  ..., 0.2588, 0.2275, 0.1412],\n",
              "         [0.2902, 0.2902, 0.1922,  ..., 0.3608, 0.2941, 0.2353],\n",
              "         [0.1412, 0.2745, 0.3451,  ..., 0.3961, 0.3333, 0.2706],\n",
              "         ...,\n",
              "         [0.4824, 0.3922, 0.2667,  ..., 0.2039, 0.2000, 0.1765],\n",
              "         [0.4706, 0.4196, 0.3216,  ..., 0.2314, 0.2157, 0.1804],\n",
              "         [0.4000, 0.4196, 0.3451,  ..., 0.2157, 0.2235, 0.1961]]])"
            ]
          },
          "metadata": {},
          "execution_count": 14
        }
      ]
    },
    {
      "cell_type": "code",
      "source": [
        "표준화하기 = torchvision.transforms.Normalize(mean=[0.5,0.5,0.5],std=[0.5,0.5,0.5])"
      ],
      "metadata": {
        "id": "X6FvXBM4-j_l"
      },
      "execution_count": 15,
      "outputs": []
    },
    {
      "cell_type": "code",
      "source": [
        "이미지처리하기 = torchvision.transforms.Compose([자르고크기조정하기, 텐서화하기, 표준화하기])"
      ],
      "metadata": {
        "id": "TCTjc10e-p2c"
      },
      "execution_count": 16,
      "outputs": []
    },
    {
      "cell_type": "code",
      "source": [
        "이미지처리하기(img)"
      ],
      "metadata": {
        "colab": {
          "base_uri": "https://localhost:8080/"
        },
        "id": "VlbiRms7AoRt",
        "outputId": "69d6be48-8995-4044-d73f-62987619693a"
      },
      "execution_count": 22,
      "outputs": [
        {
          "output_type": "execute_result",
          "data": {
            "text/plain": [
              "tensor([[[-0.2000,  0.0902,  0.1843,  ..., -0.1216,  0.0824,  0.3020],\n",
              "         [-0.1373,  0.0824,  0.2392,  ..., -0.1216, -0.0118,  0.2157],\n",
              "         [ 0.1059,  0.0431,  0.2471,  ..., -0.1922,  0.0510,  0.3333],\n",
              "         ...,\n",
              "         [ 0.4118,  0.4039,  0.3882,  ..., -0.0588,  0.2157,  0.2549],\n",
              "         [ 0.4196,  0.4196,  0.4118,  ...,  0.1686,  0.2471,  0.2549],\n",
              "         [ 0.4196,  0.4353,  0.4353,  ...,  0.4588,  0.3255,  0.0196]],\n",
              "\n",
              "        [[-0.4588, -0.1686,  0.0510,  ..., -0.3961, -0.2157, -0.0118],\n",
              "         [-0.4980, -0.2784, -0.0196,  ..., -0.4118, -0.3098, -0.1059],\n",
              "         [-0.2863, -0.3412, -0.0667,  ..., -0.4824, -0.2471,  0.0118],\n",
              "         ...,\n",
              "         [ 0.6784,  0.6784,  0.6627,  ..., -0.4902, -0.2078, -0.1608],\n",
              "         [ 0.6941,  0.6941,  0.6863,  ..., -0.2549, -0.1686, -0.1451],\n",
              "         [ 0.6863,  0.7098,  0.7098,  ...,  0.0353, -0.0824, -0.3804]],\n",
              "\n",
              "        [[-0.7569, -0.4667, -0.3961,  ..., -0.4667, -0.3647, -0.2235],\n",
              "         [-0.7176, -0.4902, -0.3490,  ..., -0.4667, -0.4431, -0.3098],\n",
              "         [-0.4902, -0.5373, -0.3412,  ..., -0.5843, -0.3882, -0.1686],\n",
              "         ...,\n",
              "         [ 0.4667,  0.4824,  0.4902,  ..., -0.6941, -0.4196, -0.3725],\n",
              "         [ 0.4667,  0.4980,  0.5137,  ..., -0.4902, -0.4039, -0.3647],\n",
              "         [ 0.4667,  0.5137,  0.5373,  ..., -0.2000, -0.3255, -0.5922]]])"
            ]
          },
          "metadata": {},
          "execution_count": 22
        }
      ]
    },
    {
      "cell_type": "code",
      "source": [
        "image_processor = transformers.AutoImageProcessor.from_pretrained(\"google/vit-base-patch16-224-in21k\")\n",
        "def transforms(examples):\n",
        "    _transforms = torchvision.transforms.Compose([\n",
        "        torchvision.transforms.RandomResizedCrop(224),\n",
        "        torchvision.transforms.ToTensor(),\n",
        "        torchvision.transforms.Normalize(mean=[0.5]*3, std=[0.5]*3)\n",
        "    ])\n",
        "    examples[\"pixel_values\"] = [_transforms(img) for img in examples[\"image\"]]\n",
        "    del examples[\"image\"]\n",
        "    return examples\n",
        "beans = beans.with_transform(transforms)"
      ],
      "metadata": {
        "colab": {
          "base_uri": "https://localhost:8080/"
        },
        "id": "Mq6VwMK7_ZpF",
        "outputId": "db1fd67c-d4e8-431e-897d-58c00656d158"
      },
      "execution_count": 17,
      "outputs": [
        {
          "output_type": "stream",
          "name": "stderr",
          "text": [
            "Fast image processor class <class 'transformers.models.vit.image_processing_vit_fast.ViTImageProcessorFast'> is available for this model. Using slow image processor class. To use the fast image processor class set `use_fast=True`.\n"
          ]
        }
      ]
    },
    {
      "cell_type": "code",
      "source": [
        "labels = beans[\"train\"].features[\"labels\"].names\n",
        "label2id, id2label = dict(), dict()\n",
        "for i, label in enumerate(labels):\n",
        "    label2id[label] = str(i)\n",
        "    id2label[str(i)] = label"
      ],
      "metadata": {
        "id": "OUYHzx8j_KX9"
      },
      "execution_count": 18,
      "outputs": []
    },
    {
      "cell_type": "code",
      "source": [
        "model = transformers.AutoModelForImageClassification.from_pretrained(\n",
        "    \"google/vit-base-patch16-224-in21k\",\n",
        "    num_labels=3,\n",
        "    id2label=id2label,\n",
        "    label2id=label2id,\n",
        ")"
      ],
      "metadata": {
        "colab": {
          "base_uri": "https://localhost:8080/"
        },
        "id": "OMVt3j4f-3gN",
        "outputId": "6086eb04-60af-466b-e78c-9888a8abb9c0"
      },
      "execution_count": 19,
      "outputs": [
        {
          "output_type": "stream",
          "name": "stderr",
          "text": [
            "Some weights of ViTForImageClassification were not initialized from the model checkpoint at google/vit-base-patch16-224-in21k and are newly initialized: ['classifier.bias', 'classifier.weight']\n",
            "You should probably TRAIN this model on a down-stream task to be able to use it for predictions and inference.\n"
          ]
        }
      ]
    },
    {
      "cell_type": "code",
      "source": [
        "data_collator = transformers.DefaultDataCollator()\n",
        "accuracy = evaluate.load(\"accuracy\")\n",
        "def compute_metrics(eval_pred):\n",
        "    predictions, labels = eval_pred\n",
        "    predictions = np.argmax(predictions, axis=1)\n",
        "    return accuracy.compute(predictions=predictions, references=labels)\n",
        "training_args = transformers.TrainingArguments(\n",
        "    output_dir=\"my_awesome_food_model\",\n",
        "    remove_unused_columns=False,\n",
        "    eval_strategy=\"epoch\",\n",
        "    save_strategy=\"epoch\",\n",
        "    learning_rate=5e-5,\n",
        "    per_device_train_batch_size=16,\n",
        "    gradient_accumulation_steps=4,\n",
        "    per_device_eval_batch_size=16,\n",
        "    num_train_epochs=3,\n",
        "    warmup_ratio=0.1,\n",
        "    logging_steps=10,\n",
        "    load_best_model_at_end=True,\n",
        "    metric_for_best_model=\"accuracy\",\n",
        "    push_to_hub=False,\n",
        "    report_to=\"none\"\n",
        ")"
      ],
      "metadata": {
        "id": "SFW8sIbm-9qc"
      },
      "execution_count": 20,
      "outputs": []
    },
    {
      "cell_type": "code",
      "source": [
        "trainer = transformers.Trainer(\n",
        "    model=model,\n",
        "    args=training_args,\n",
        "    data_collator=data_collator,\n",
        "    train_dataset=beans[\"train\"],\n",
        "    eval_dataset=beans[\"validation\"],\n",
        "    tokenizer=image_processor,\n",
        "    compute_metrics=compute_metrics,\n",
        ")"
      ],
      "metadata": {
        "id": "apOSYMCb_eVz"
      },
      "execution_count": 21,
      "outputs": []
    },
    {
      "cell_type": "code",
      "source": [
        "trainer.train()"
      ],
      "metadata": {
        "colab": {
          "base_uri": "https://localhost:8080/",
          "height": 225
        },
        "id": "y9dGvTwV_f9b",
        "outputId": "df3570c3-be3b-4b29-d6c9-058b79c76a92"
      },
      "execution_count": 23,
      "outputs": [
        {
          "output_type": "display_data",
          "data": {
            "text/plain": [
              "<IPython.core.display.HTML object>"
            ],
            "text/html": [
              "\n",
              "    <div>\n",
              "      \n",
              "      <progress value='48' max='48' style='width:300px; height:20px; vertical-align: middle;'></progress>\n",
              "      [48/48 02:39, Epoch 2/3]\n",
              "    </div>\n",
              "    <table border=\"1\" class=\"dataframe\">\n",
              "  <thead>\n",
              " <tr style=\"text-align: left;\">\n",
              "      <th>Epoch</th>\n",
              "      <th>Training Loss</th>\n",
              "      <th>Validation Loss</th>\n",
              "      <th>Accuracy</th>\n",
              "    </tr>\n",
              "  </thead>\n",
              "  <tbody>\n",
              "    <tr>\n",
              "      <td>0</td>\n",
              "      <td>1.056800</td>\n",
              "      <td>0.689241</td>\n",
              "      <td>0.872180</td>\n",
              "    </tr>\n",
              "    <tr>\n",
              "      <td>1</td>\n",
              "      <td>0.519100</td>\n",
              "      <td>0.371820</td>\n",
              "      <td>0.954887</td>\n",
              "    </tr>\n",
              "    <tr>\n",
              "      <td>2</td>\n",
              "      <td>0.385900</td>\n",
              "      <td>0.307389</td>\n",
              "      <td>0.962406</td>\n",
              "    </tr>\n",
              "  </tbody>\n",
              "</table><p>"
            ]
          },
          "metadata": {}
        },
        {
          "output_type": "execute_result",
          "data": {
            "text/plain": [
              "TrainOutput(global_step=48, training_loss=0.6187677135070165, metrics={'train_runtime': 162.9638, 'train_samples_per_second': 19.035, 'train_steps_per_second': 0.295, 'total_flos': 2.3712761350139904e+17, 'train_loss': 0.6187677135070165, 'epoch': 2.953846153846154})"
            ]
          },
          "metadata": {},
          "execution_count": 23
        }
      ]
    },
    {
      "cell_type": "code",
      "source": [
        "beans_transformed = beans.with_transform(transforms)"
      ],
      "metadata": {
        "id": "gkUySTboCABT"
      },
      "execution_count": 30,
      "outputs": []
    },
    {
      "cell_type": "markdown",
      "source": [
        "# 예측하기"
      ],
      "metadata": {
        "id": "5FILFt_GBQzD"
      }
    },
    {
      "cell_type": "code",
      "source": [
        "classifier = transformers.pipeline(\"image-classification\", model=\"my_awesome_food_model/checkpoint-48\")"
      ],
      "metadata": {
        "colab": {
          "base_uri": "https://localhost:8080/"
        },
        "id": "UNQU3igKBu60",
        "outputId": "6a867f95-d534-484d-a499-04339e888a70"
      },
      "execution_count": 28,
      "outputs": [
        {
          "output_type": "stream",
          "name": "stderr",
          "text": [
            "Hardware accelerator e.g. GPU is available in the environment, but no `device` argument is passed to the `Pipeline` object. Model will be on CPU.\n"
          ]
        }
      ]
    },
    {
      "cell_type": "code",
      "source": [
        "classifier(img)"
      ],
      "metadata": {
        "colab": {
          "base_uri": "https://localhost:8080/"
        },
        "id": "NsLxAjbL_lha",
        "outputId": "275753a6-8ec1-4b9f-9e37-4bad34c9cde1"
      },
      "execution_count": 29,
      "outputs": [
        {
          "output_type": "execute_result",
          "data": {
            "text/plain": [
              "[{'label': 'bean_rust', 'score': 0.679704487323761},\n",
              " {'label': 'angular_leaf_spot', 'score': 0.6339754462242126},\n",
              " {'label': 'healthy', 'score': 0.25313863158226013}]"
            ]
          },
          "metadata": {},
          "execution_count": 29
        }
      ]
    },
    {
      "cell_type": "code",
      "source": [
        "trainer.predict(beans_transformed['train'])"
      ],
      "metadata": {
        "colab": {
          "base_uri": "https://localhost:8080/",
          "height": 182
        },
        "id": "dbl9fQzFC-QB",
        "outputId": "53456dee-8f89-405e-f312-f5771bfc671a"
      },
      "execution_count": 41,
      "outputs": [
        {
          "output_type": "display_data",
          "data": {
            "text/plain": [
              "<IPython.core.display.HTML object>"
            ],
            "text/html": []
          },
          "metadata": {}
        },
        {
          "output_type": "execute_result",
          "data": {
            "text/plain": [
              "PredictionOutput(predictions=array([[ 1.025704  ,  0.3668623 , -0.97352374],\n",
              "       [ 1.2564719 ,  0.04623776, -1.2054094 ],\n",
              "       [ 1.2993977 , -0.06771174, -1.0536737 ],\n",
              "       ...,\n",
              "       [-1.1806563 , -0.86010295,  1.5090137 ],\n",
              "       [-1.1696538 , -0.9121308 ,  1.4884229 ],\n",
              "       [-1.2457342 , -0.8071898 ,  1.4382474 ]], dtype=float32), label_ids=array([0, 0, 0, ..., 2, 2, 2]), metrics={'test_loss': 0.3165731728076935, 'test_accuracy': 0.9545454545454546, 'test_runtime': 20.5204, 'test_samples_per_second': 50.389, 'test_steps_per_second': 3.168})"
            ]
          },
          "metadata": {},
          "execution_count": 41
        }
      ]
    },
    {
      "cell_type": "code",
      "source": [
        "type(beans_transformed['train'])"
      ],
      "metadata": {
        "colab": {
          "base_uri": "https://localhost:8080/",
          "height": 139
        },
        "id": "DABsHvewDS46",
        "outputId": "003b207c-41bb-4197-bbdf-472cdcdac4ac"
      },
      "execution_count": 42,
      "outputs": [
        {
          "output_type": "execute_result",
          "data": {
            "text/plain": [
              "datasets.arrow_dataset.Dataset"
            ],
            "text/html": [
              "<div style=\"max-width:800px; border: 1px solid var(--colab-border-color);\"><style>\n",
              "      pre.function-repr-contents {\n",
              "        overflow-x: auto;\n",
              "        padding: 8px 12px;\n",
              "        max-height: 500px;\n",
              "      }\n",
              "\n",
              "      pre.function-repr-contents.function-repr-contents-collapsed {\n",
              "        cursor: pointer;\n",
              "        max-height: 100px;\n",
              "      }\n",
              "    </style>\n",
              "    <pre style=\"white-space: initial; background:\n",
              "         var(--colab-secondary-surface-color); padding: 8px 12px;\n",
              "         border-bottom: 1px solid var(--colab-border-color);\"><b>datasets.arrow_dataset.Dataset</b><br/>def __init__(arrow_table: Table, info: Optional[DatasetInfo]=None, split: Optional[NamedSplit]=None, indices_table: Optional[Table]=None, fingerprint: Optional[str]=None)</pre><pre class=\"function-repr-contents function-repr-contents-collapsed\" style=\"\"><a class=\"filepath\" style=\"display:none\" href=\"#\">/usr/local/lib/python3.10/dist-packages/datasets/arrow_dataset.py</a>A Dataset backed by an Arrow table.</pre>\n",
              "      <script>\n",
              "      if (google.colab.kernel.accessAllowed && google.colab.files && google.colab.files.view) {\n",
              "        for (const element of document.querySelectorAll('.filepath')) {\n",
              "          element.style.display = 'block'\n",
              "          element.onclick = (event) => {\n",
              "            event.preventDefault();\n",
              "            event.stopPropagation();\n",
              "            google.colab.files.view(element.textContent, 631);\n",
              "          };\n",
              "        }\n",
              "      }\n",
              "      for (const element of document.querySelectorAll('.function-repr-contents')) {\n",
              "        element.onclick = (event) => {\n",
              "          event.preventDefault();\n",
              "          event.stopPropagation();\n",
              "          element.classList.toggle('function-repr-contents-collapsed');\n",
              "        };\n",
              "      }\n",
              "      </script>\n",
              "      </div>"
            ]
          },
          "metadata": {},
          "execution_count": 42
        }
      ]
    },
    {
      "cell_type": "code",
      "source": [
        "type(img)"
      ],
      "metadata": {
        "colab": {
          "base_uri": "https://localhost:8080/",
          "height": 121
        },
        "id": "LagYwjr1DeGS",
        "outputId": "9555fda8-b099-423e-8dfb-62b48862fb22"
      },
      "execution_count": 43,
      "outputs": [
        {
          "output_type": "execute_result",
          "data": {
            "text/plain": [
              "PIL.JpegImagePlugin.JpegImageFile"
            ],
            "text/html": [
              "<div style=\"max-width:800px; border: 1px solid var(--colab-border-color);\"><style>\n",
              "      pre.function-repr-contents {\n",
              "        overflow-x: auto;\n",
              "        padding: 8px 12px;\n",
              "        max-height: 500px;\n",
              "      }\n",
              "\n",
              "      pre.function-repr-contents.function-repr-contents-collapsed {\n",
              "        cursor: pointer;\n",
              "        max-height: 100px;\n",
              "      }\n",
              "    </style>\n",
              "    <pre style=\"white-space: initial; background:\n",
              "         var(--colab-secondary-surface-color); padding: 8px 12px;\n",
              "         border-bottom: 1px solid var(--colab-border-color);\"><b>PIL.JpegImagePlugin.JpegImageFile</b><br/>def __init__(fp=None, filename=None)</pre><pre class=\"function-repr-contents function-repr-contents-collapsed\" style=\"\"><a class=\"filepath\" style=\"display:none\" href=\"#\">/usr/local/lib/python3.10/dist-packages/PIL/JpegImagePlugin.py</a>Base class for image file format handlers.</pre>\n",
              "      <script>\n",
              "      if (google.colab.kernel.accessAllowed && google.colab.files && google.colab.files.view) {\n",
              "        for (const element of document.querySelectorAll('.filepath')) {\n",
              "          element.style.display = 'block'\n",
              "          element.onclick = (event) => {\n",
              "            event.preventDefault();\n",
              "            event.stopPropagation();\n",
              "            google.colab.files.view(element.textContent, 327);\n",
              "          };\n",
              "        }\n",
              "      }\n",
              "      for (const element of document.querySelectorAll('.function-repr-contents')) {\n",
              "        element.onclick = (event) => {\n",
              "          event.preventDefault();\n",
              "          event.stopPropagation();\n",
              "          element.classList.toggle('function-repr-contents-collapsed');\n",
              "        };\n",
              "      }\n",
              "      </script>\n",
              "      </div>"
            ]
          },
          "metadata": {},
          "execution_count": 43
        }
      ]
    },
    {
      "cell_type": "code",
      "source": [
        "type(beans['train'][10])"
      ],
      "metadata": {
        "colab": {
          "base_uri": "https://localhost:8080/"
        },
        "id": "EkLKaVTbDfxK",
        "outputId": "07608986-3389-4aef-e0a1-b0ee3210bdec"
      },
      "execution_count": 44,
      "outputs": [
        {
          "output_type": "execute_result",
          "data": {
            "text/plain": [
              "dict"
            ]
          },
          "metadata": {},
          "execution_count": 44
        }
      ]
    },
    {
      "cell_type": "code",
      "source": [
        "이미지처리하기(img)"
      ],
      "metadata": {
        "colab": {
          "base_uri": "https://localhost:8080/"
        },
        "id": "qdL3swH7FMu-",
        "outputId": "6f3b64cc-80e1-4a58-8ce9-d61daf185437"
      },
      "execution_count": 55,
      "outputs": [
        {
          "output_type": "execute_result",
          "data": {
            "text/plain": [
              "tensor([[[-0.0902, -0.0824, -0.1373,  ...,  0.3490,  0.1765, -0.1294],\n",
              "         [-0.2392, -0.0745, -0.0510,  ...,  0.2549,  0.1843, -0.0275],\n",
              "         [-0.2078, -0.2314,  0.0039,  ...,  0.1922,  0.1529,  0.1294],\n",
              "         ...,\n",
              "         [-0.7882, -0.7725, -0.7961,  ...,  0.0667,  0.0510,  0.0824],\n",
              "         [-0.7490, -0.6235, -0.6471,  ..., -0.0039,  0.0039,  0.0353],\n",
              "         [-0.7961, -0.7098, -0.6078,  ..., -0.0745, -0.0588, -0.0353]],\n",
              "\n",
              "        [[-0.3098, -0.2784, -0.3098,  ...,  0.0118, -0.1686, -0.4745],\n",
              "         [-0.5137, -0.3490, -0.3176,  ..., -0.0824, -0.1608, -0.3725],\n",
              "         [-0.5059, -0.5529, -0.3255,  ..., -0.1373, -0.1843, -0.2000],\n",
              "         ...,\n",
              "         [-0.3725, -0.3490, -0.3569,  ...,  0.4196,  0.3961,  0.3804],\n",
              "         [-0.3333, -0.1922, -0.1843,  ...,  0.4118,  0.4118,  0.3961],\n",
              "         [-0.3804, -0.2784, -0.1529,  ...,  0.3804,  0.4039,  0.4118]],\n",
              "\n",
              "        [[-0.4902, -0.5373, -0.6314,  ..., -0.1922, -0.3647, -0.6314],\n",
              "         [-0.6157, -0.5137, -0.5608,  ..., -0.2706, -0.3647, -0.5686],\n",
              "         [-0.6000, -0.6549, -0.4667,  ..., -0.3020, -0.3725, -0.4118],\n",
              "         ...,\n",
              "         [-0.9059, -0.8824, -0.8902,  ..., -0.0431, -0.0588, -0.0745],\n",
              "         [-0.8667, -0.7255, -0.7176,  ..., -0.0824, -0.0745, -0.0980],\n",
              "         [-0.8980, -0.8039, -0.6941,  ..., -0.1451, -0.1294, -0.1373]]])"
            ]
          },
          "metadata": {},
          "execution_count": 55
        }
      ]
    },
    {
      "cell_type": "code",
      "source": [
        "data_collator(이미지처리하기(img))"
      ],
      "metadata": {
        "colab": {
          "base_uri": "https://localhost:8080/"
        },
        "id": "xGuvpiVMFPtF",
        "outputId": "2b05e54f-74d4-4b48-8cd2-fa925dc4ddd9"
      },
      "execution_count": 63,
      "outputs": [
        {
          "output_type": "execute_result",
          "data": {
            "text/plain": [
              "{}"
            ]
          },
          "metadata": {},
          "execution_count": 63
        }
      ]
    },
    {
      "cell_type": "code",
      "source": [
        "으악 = beans_transformed['train'][10]['pixel_values']"
      ],
      "metadata": {
        "id": "9FNRpMCYFm9w"
      },
      "execution_count": 66,
      "outputs": []
    },
    {
      "cell_type": "code",
      "source": [
        "model(으악)"
      ],
      "metadata": {
        "colab": {
          "base_uri": "https://localhost:8080/",
          "height": 318
        },
        "id": "XMa-L5OgDqP6",
        "outputId": "17b46ee8-f703-4935-da8f-dcf2456df542"
      },
      "execution_count": 67,
      "outputs": [
        {
          "output_type": "error",
          "ename": "ValueError",
          "evalue": "not enough values to unpack (expected 4, got 3)",
          "traceback": [
            "\u001b[0;31m---------------------------------------------------------------------------\u001b[0m",
            "\u001b[0;31mValueError\u001b[0m                                Traceback (most recent call last)",
            "\u001b[0;32m<ipython-input-67-15992dc29ca5>\u001b[0m in \u001b[0;36m<cell line: 1>\u001b[0;34m()\u001b[0m\n\u001b[0;32m----> 1\u001b[0;31m \u001b[0mmodel\u001b[0m\u001b[0;34m(\u001b[0m\u001b[0m으악\u001b[0m\u001b[0;34m)\u001b[0m\u001b[0;34m\u001b[0m\u001b[0;34m\u001b[0m\u001b[0m\n\u001b[0m",
            "\u001b[0;32m/usr/local/lib/python3.10/dist-packages/torch/nn/modules/module.py\u001b[0m in \u001b[0;36m_wrapped_call_impl\u001b[0;34m(self, *args, **kwargs)\u001b[0m\n\u001b[1;32m   1551\u001b[0m             \u001b[0;32mreturn\u001b[0m \u001b[0mself\u001b[0m\u001b[0;34m.\u001b[0m\u001b[0m_compiled_call_impl\u001b[0m\u001b[0;34m(\u001b[0m\u001b[0;34m*\u001b[0m\u001b[0margs\u001b[0m\u001b[0;34m,\u001b[0m \u001b[0;34m**\u001b[0m\u001b[0mkwargs\u001b[0m\u001b[0;34m)\u001b[0m  \u001b[0;31m# type: ignore[misc]\u001b[0m\u001b[0;34m\u001b[0m\u001b[0;34m\u001b[0m\u001b[0m\n\u001b[1;32m   1552\u001b[0m         \u001b[0;32melse\u001b[0m\u001b[0;34m:\u001b[0m\u001b[0;34m\u001b[0m\u001b[0;34m\u001b[0m\u001b[0m\n\u001b[0;32m-> 1553\u001b[0;31m             \u001b[0;32mreturn\u001b[0m \u001b[0mself\u001b[0m\u001b[0;34m.\u001b[0m\u001b[0m_call_impl\u001b[0m\u001b[0;34m(\u001b[0m\u001b[0;34m*\u001b[0m\u001b[0margs\u001b[0m\u001b[0;34m,\u001b[0m \u001b[0;34m**\u001b[0m\u001b[0mkwargs\u001b[0m\u001b[0;34m)\u001b[0m\u001b[0;34m\u001b[0m\u001b[0;34m\u001b[0m\u001b[0m\n\u001b[0m\u001b[1;32m   1554\u001b[0m \u001b[0;34m\u001b[0m\u001b[0m\n\u001b[1;32m   1555\u001b[0m     \u001b[0;32mdef\u001b[0m \u001b[0m_call_impl\u001b[0m\u001b[0;34m(\u001b[0m\u001b[0mself\u001b[0m\u001b[0;34m,\u001b[0m \u001b[0;34m*\u001b[0m\u001b[0margs\u001b[0m\u001b[0;34m,\u001b[0m \u001b[0;34m**\u001b[0m\u001b[0mkwargs\u001b[0m\u001b[0;34m)\u001b[0m\u001b[0;34m:\u001b[0m\u001b[0;34m\u001b[0m\u001b[0;34m\u001b[0m\u001b[0m\n",
            "\u001b[0;32m/usr/local/lib/python3.10/dist-packages/torch/nn/modules/module.py\u001b[0m in \u001b[0;36m_call_impl\u001b[0;34m(self, *args, **kwargs)\u001b[0m\n\u001b[1;32m   1560\u001b[0m                 \u001b[0;32mor\u001b[0m \u001b[0m_global_backward_pre_hooks\u001b[0m \u001b[0;32mor\u001b[0m \u001b[0m_global_backward_hooks\u001b[0m\u001b[0;34m\u001b[0m\u001b[0;34m\u001b[0m\u001b[0m\n\u001b[1;32m   1561\u001b[0m                 or _global_forward_hooks or _global_forward_pre_hooks):\n\u001b[0;32m-> 1562\u001b[0;31m             \u001b[0;32mreturn\u001b[0m \u001b[0mforward_call\u001b[0m\u001b[0;34m(\u001b[0m\u001b[0;34m*\u001b[0m\u001b[0margs\u001b[0m\u001b[0;34m,\u001b[0m \u001b[0;34m**\u001b[0m\u001b[0mkwargs\u001b[0m\u001b[0;34m)\u001b[0m\u001b[0;34m\u001b[0m\u001b[0;34m\u001b[0m\u001b[0m\n\u001b[0m\u001b[1;32m   1563\u001b[0m \u001b[0;34m\u001b[0m\u001b[0m\n\u001b[1;32m   1564\u001b[0m         \u001b[0;32mtry\u001b[0m\u001b[0;34m:\u001b[0m\u001b[0;34m\u001b[0m\u001b[0;34m\u001b[0m\u001b[0m\n",
            "\u001b[0;32m/usr/local/lib/python3.10/dist-packages/transformers/models/vit/modeling_vit.py\u001b[0m in \u001b[0;36mforward\u001b[0;34m(self, pixel_values, head_mask, labels, output_attentions, output_hidden_states, interpolate_pos_encoding, return_dict)\u001b[0m\n\u001b[1;32m    829\u001b[0m         \u001b[0mreturn_dict\u001b[0m \u001b[0;34m=\u001b[0m \u001b[0mreturn_dict\u001b[0m \u001b[0;32mif\u001b[0m \u001b[0mreturn_dict\u001b[0m \u001b[0;32mis\u001b[0m \u001b[0;32mnot\u001b[0m \u001b[0;32mNone\u001b[0m \u001b[0;32melse\u001b[0m \u001b[0mself\u001b[0m\u001b[0;34m.\u001b[0m\u001b[0mconfig\u001b[0m\u001b[0;34m.\u001b[0m\u001b[0muse_return_dict\u001b[0m\u001b[0;34m\u001b[0m\u001b[0;34m\u001b[0m\u001b[0m\n\u001b[1;32m    830\u001b[0m \u001b[0;34m\u001b[0m\u001b[0m\n\u001b[0;32m--> 831\u001b[0;31m         outputs = self.vit(\n\u001b[0m\u001b[1;32m    832\u001b[0m             \u001b[0mpixel_values\u001b[0m\u001b[0;34m,\u001b[0m\u001b[0;34m\u001b[0m\u001b[0;34m\u001b[0m\u001b[0m\n\u001b[1;32m    833\u001b[0m             \u001b[0mhead_mask\u001b[0m\u001b[0;34m=\u001b[0m\u001b[0mhead_mask\u001b[0m\u001b[0;34m,\u001b[0m\u001b[0;34m\u001b[0m\u001b[0;34m\u001b[0m\u001b[0m\n",
            "\u001b[0;32m/usr/local/lib/python3.10/dist-packages/torch/nn/modules/module.py\u001b[0m in \u001b[0;36m_wrapped_call_impl\u001b[0;34m(self, *args, **kwargs)\u001b[0m\n\u001b[1;32m   1551\u001b[0m             \u001b[0;32mreturn\u001b[0m \u001b[0mself\u001b[0m\u001b[0;34m.\u001b[0m\u001b[0m_compiled_call_impl\u001b[0m\u001b[0;34m(\u001b[0m\u001b[0;34m*\u001b[0m\u001b[0margs\u001b[0m\u001b[0;34m,\u001b[0m \u001b[0;34m**\u001b[0m\u001b[0mkwargs\u001b[0m\u001b[0;34m)\u001b[0m  \u001b[0;31m# type: ignore[misc]\u001b[0m\u001b[0;34m\u001b[0m\u001b[0;34m\u001b[0m\u001b[0m\n\u001b[1;32m   1552\u001b[0m         \u001b[0;32melse\u001b[0m\u001b[0;34m:\u001b[0m\u001b[0;34m\u001b[0m\u001b[0;34m\u001b[0m\u001b[0m\n\u001b[0;32m-> 1553\u001b[0;31m             \u001b[0;32mreturn\u001b[0m \u001b[0mself\u001b[0m\u001b[0;34m.\u001b[0m\u001b[0m_call_impl\u001b[0m\u001b[0;34m(\u001b[0m\u001b[0;34m*\u001b[0m\u001b[0margs\u001b[0m\u001b[0;34m,\u001b[0m \u001b[0;34m**\u001b[0m\u001b[0mkwargs\u001b[0m\u001b[0;34m)\u001b[0m\u001b[0;34m\u001b[0m\u001b[0;34m\u001b[0m\u001b[0m\n\u001b[0m\u001b[1;32m   1554\u001b[0m \u001b[0;34m\u001b[0m\u001b[0m\n\u001b[1;32m   1555\u001b[0m     \u001b[0;32mdef\u001b[0m \u001b[0m_call_impl\u001b[0m\u001b[0;34m(\u001b[0m\u001b[0mself\u001b[0m\u001b[0;34m,\u001b[0m \u001b[0;34m*\u001b[0m\u001b[0margs\u001b[0m\u001b[0;34m,\u001b[0m \u001b[0;34m**\u001b[0m\u001b[0mkwargs\u001b[0m\u001b[0;34m)\u001b[0m\u001b[0;34m:\u001b[0m\u001b[0;34m\u001b[0m\u001b[0;34m\u001b[0m\u001b[0m\n",
            "\u001b[0;32m/usr/local/lib/python3.10/dist-packages/torch/nn/modules/module.py\u001b[0m in \u001b[0;36m_call_impl\u001b[0;34m(self, *args, **kwargs)\u001b[0m\n\u001b[1;32m   1560\u001b[0m                 \u001b[0;32mor\u001b[0m \u001b[0m_global_backward_pre_hooks\u001b[0m \u001b[0;32mor\u001b[0m \u001b[0m_global_backward_hooks\u001b[0m\u001b[0;34m\u001b[0m\u001b[0;34m\u001b[0m\u001b[0m\n\u001b[1;32m   1561\u001b[0m                 or _global_forward_hooks or _global_forward_pre_hooks):\n\u001b[0;32m-> 1562\u001b[0;31m             \u001b[0;32mreturn\u001b[0m \u001b[0mforward_call\u001b[0m\u001b[0;34m(\u001b[0m\u001b[0;34m*\u001b[0m\u001b[0margs\u001b[0m\u001b[0;34m,\u001b[0m \u001b[0;34m**\u001b[0m\u001b[0mkwargs\u001b[0m\u001b[0;34m)\u001b[0m\u001b[0;34m\u001b[0m\u001b[0;34m\u001b[0m\u001b[0m\n\u001b[0m\u001b[1;32m   1563\u001b[0m \u001b[0;34m\u001b[0m\u001b[0m\n\u001b[1;32m   1564\u001b[0m         \u001b[0;32mtry\u001b[0m\u001b[0;34m:\u001b[0m\u001b[0;34m\u001b[0m\u001b[0;34m\u001b[0m\u001b[0m\n",
            "\u001b[0;32m/usr/local/lib/python3.10/dist-packages/transformers/models/vit/modeling_vit.py\u001b[0m in \u001b[0;36mforward\u001b[0;34m(self, pixel_values, bool_masked_pos, head_mask, output_attentions, output_hidden_states, interpolate_pos_encoding, return_dict)\u001b[0m\n\u001b[1;32m    608\u001b[0m             \u001b[0mpixel_values\u001b[0m \u001b[0;34m=\u001b[0m \u001b[0mpixel_values\u001b[0m\u001b[0;34m.\u001b[0m\u001b[0mto\u001b[0m\u001b[0;34m(\u001b[0m\u001b[0mexpected_dtype\u001b[0m\u001b[0;34m)\u001b[0m\u001b[0;34m\u001b[0m\u001b[0;34m\u001b[0m\u001b[0m\n\u001b[1;32m    609\u001b[0m \u001b[0;34m\u001b[0m\u001b[0m\n\u001b[0;32m--> 610\u001b[0;31m         embedding_output = self.embeddings(\n\u001b[0m\u001b[1;32m    611\u001b[0m             \u001b[0mpixel_values\u001b[0m\u001b[0;34m,\u001b[0m \u001b[0mbool_masked_pos\u001b[0m\u001b[0;34m=\u001b[0m\u001b[0mbool_masked_pos\u001b[0m\u001b[0;34m,\u001b[0m \u001b[0minterpolate_pos_encoding\u001b[0m\u001b[0;34m=\u001b[0m\u001b[0minterpolate_pos_encoding\u001b[0m\u001b[0;34m\u001b[0m\u001b[0;34m\u001b[0m\u001b[0m\n\u001b[1;32m    612\u001b[0m         )\n",
            "\u001b[0;32m/usr/local/lib/python3.10/dist-packages/torch/nn/modules/module.py\u001b[0m in \u001b[0;36m_wrapped_call_impl\u001b[0;34m(self, *args, **kwargs)\u001b[0m\n\u001b[1;32m   1551\u001b[0m             \u001b[0;32mreturn\u001b[0m \u001b[0mself\u001b[0m\u001b[0;34m.\u001b[0m\u001b[0m_compiled_call_impl\u001b[0m\u001b[0;34m(\u001b[0m\u001b[0;34m*\u001b[0m\u001b[0margs\u001b[0m\u001b[0;34m,\u001b[0m \u001b[0;34m**\u001b[0m\u001b[0mkwargs\u001b[0m\u001b[0;34m)\u001b[0m  \u001b[0;31m# type: ignore[misc]\u001b[0m\u001b[0;34m\u001b[0m\u001b[0;34m\u001b[0m\u001b[0m\n\u001b[1;32m   1552\u001b[0m         \u001b[0;32melse\u001b[0m\u001b[0;34m:\u001b[0m\u001b[0;34m\u001b[0m\u001b[0;34m\u001b[0m\u001b[0m\n\u001b[0;32m-> 1553\u001b[0;31m             \u001b[0;32mreturn\u001b[0m \u001b[0mself\u001b[0m\u001b[0;34m.\u001b[0m\u001b[0m_call_impl\u001b[0m\u001b[0;34m(\u001b[0m\u001b[0;34m*\u001b[0m\u001b[0margs\u001b[0m\u001b[0;34m,\u001b[0m \u001b[0;34m**\u001b[0m\u001b[0mkwargs\u001b[0m\u001b[0;34m)\u001b[0m\u001b[0;34m\u001b[0m\u001b[0;34m\u001b[0m\u001b[0m\n\u001b[0m\u001b[1;32m   1554\u001b[0m \u001b[0;34m\u001b[0m\u001b[0m\n\u001b[1;32m   1555\u001b[0m     \u001b[0;32mdef\u001b[0m \u001b[0m_call_impl\u001b[0m\u001b[0;34m(\u001b[0m\u001b[0mself\u001b[0m\u001b[0;34m,\u001b[0m \u001b[0;34m*\u001b[0m\u001b[0margs\u001b[0m\u001b[0;34m,\u001b[0m \u001b[0;34m**\u001b[0m\u001b[0mkwargs\u001b[0m\u001b[0;34m)\u001b[0m\u001b[0;34m:\u001b[0m\u001b[0;34m\u001b[0m\u001b[0;34m\u001b[0m\u001b[0m\n",
            "\u001b[0;32m/usr/local/lib/python3.10/dist-packages/torch/nn/modules/module.py\u001b[0m in \u001b[0;36m_call_impl\u001b[0;34m(self, *args, **kwargs)\u001b[0m\n\u001b[1;32m   1560\u001b[0m                 \u001b[0;32mor\u001b[0m \u001b[0m_global_backward_pre_hooks\u001b[0m \u001b[0;32mor\u001b[0m \u001b[0m_global_backward_hooks\u001b[0m\u001b[0;34m\u001b[0m\u001b[0;34m\u001b[0m\u001b[0m\n\u001b[1;32m   1561\u001b[0m                 or _global_forward_hooks or _global_forward_pre_hooks):\n\u001b[0;32m-> 1562\u001b[0;31m             \u001b[0;32mreturn\u001b[0m \u001b[0mforward_call\u001b[0m\u001b[0;34m(\u001b[0m\u001b[0;34m*\u001b[0m\u001b[0margs\u001b[0m\u001b[0;34m,\u001b[0m \u001b[0;34m**\u001b[0m\u001b[0mkwargs\u001b[0m\u001b[0;34m)\u001b[0m\u001b[0;34m\u001b[0m\u001b[0;34m\u001b[0m\u001b[0m\n\u001b[0m\u001b[1;32m   1563\u001b[0m \u001b[0;34m\u001b[0m\u001b[0m\n\u001b[1;32m   1564\u001b[0m         \u001b[0;32mtry\u001b[0m\u001b[0;34m:\u001b[0m\u001b[0;34m\u001b[0m\u001b[0;34m\u001b[0m\u001b[0m\n",
            "\u001b[0;32m/usr/local/lib/python3.10/dist-packages/transformers/models/vit/modeling_vit.py\u001b[0m in \u001b[0;36mforward\u001b[0;34m(self, pixel_values, bool_masked_pos, interpolate_pos_encoding)\u001b[0m\n\u001b[1;32m    112\u001b[0m         \u001b[0minterpolate_pos_encoding\u001b[0m\u001b[0;34m:\u001b[0m \u001b[0mbool\u001b[0m \u001b[0;34m=\u001b[0m \u001b[0;32mFalse\u001b[0m\u001b[0;34m,\u001b[0m\u001b[0;34m\u001b[0m\u001b[0;34m\u001b[0m\u001b[0m\n\u001b[1;32m    113\u001b[0m     ) -> torch.Tensor:\n\u001b[0;32m--> 114\u001b[0;31m         \u001b[0mbatch_size\u001b[0m\u001b[0;34m,\u001b[0m \u001b[0mnum_channels\u001b[0m\u001b[0;34m,\u001b[0m \u001b[0mheight\u001b[0m\u001b[0;34m,\u001b[0m \u001b[0mwidth\u001b[0m \u001b[0;34m=\u001b[0m \u001b[0mpixel_values\u001b[0m\u001b[0;34m.\u001b[0m\u001b[0mshape\u001b[0m\u001b[0;34m\u001b[0m\u001b[0;34m\u001b[0m\u001b[0m\n\u001b[0m\u001b[1;32m    115\u001b[0m         \u001b[0membeddings\u001b[0m \u001b[0;34m=\u001b[0m \u001b[0mself\u001b[0m\u001b[0;34m.\u001b[0m\u001b[0mpatch_embeddings\u001b[0m\u001b[0;34m(\u001b[0m\u001b[0mpixel_values\u001b[0m\u001b[0;34m,\u001b[0m \u001b[0minterpolate_pos_encoding\u001b[0m\u001b[0;34m=\u001b[0m\u001b[0minterpolate_pos_encoding\u001b[0m\u001b[0;34m)\u001b[0m\u001b[0;34m\u001b[0m\u001b[0;34m\u001b[0m\u001b[0m\n\u001b[1;32m    116\u001b[0m \u001b[0;34m\u001b[0m\u001b[0m\n",
            "\u001b[0;31mValueError\u001b[0m: not enough values to unpack (expected 4, got 3)"
          ]
        }
      ]
    },
    {
      "cell_type": "code",
      "source": [
        "trainer.predict(beans['test'])"
      ],
      "metadata": {
        "colab": {
          "base_uri": "https://localhost:8080/",
          "height": 1000
        },
        "id": "KupcENLYGTlU",
        "outputId": "c2ea5e4d-d517-4119-dcdb-134ff891626e"
      },
      "execution_count": 71,
      "outputs": [
        {
          "output_type": "display_data",
          "data": {
            "text/plain": [
              "<IPython.core.display.HTML object>"
            ],
            "text/html": [
              "\n",
              "    <div>\n",
              "      \n",
              "      <progress value='15' max='48' style='width:300px; height:20px; vertical-align: middle;'></progress>\n",
              "      [15/48 00:33 < 01:26, 0.38 it/s, Epoch 0.86/3]\n",
              "    </div>\n",
              "    <table border=\"1\" class=\"dataframe\">\n",
              "  <thead>\n",
              " <tr style=\"text-align: left;\">\n",
              "      <th>Epoch</th>\n",
              "      <th>Training Loss</th>\n",
              "      <th>Validation Loss</th>\n",
              "    </tr>\n",
              "  </thead>\n",
              "  <tbody>\n",
              "  </tbody>\n",
              "</table><p>\n",
              "    <div>\n",
              "      \n",
              "      <progress value='8' max='8' style='width:300px; height:20px; vertical-align: middle;'></progress>\n",
              "      [8/8 00:02]\n",
              "    </div>\n",
              "    "
            ]
          },
          "metadata": {}
        },
        {
          "output_type": "execute_result",
          "data": {
            "text/plain": [
              "PredictionOutput(predictions=array([[ 1.8760319 , -0.41068164, -1.2496443 ],\n",
              "       [ 1.8768375 , -0.76635796, -0.857106  ],\n",
              "       [ 1.9198481 , -0.6405256 , -1.071097  ],\n",
              "       [ 1.9941891 , -0.67667013, -1.0728728 ],\n",
              "       [ 1.8020024 , -0.59396774, -0.9860665 ],\n",
              "       [ 1.8664358 , -0.65306693, -0.9365182 ],\n",
              "       [ 1.5400345 ,  0.12006211, -1.392486  ],\n",
              "       [ 1.9770246 , -0.6116987 , -1.0248221 ],\n",
              "       [ 1.9445101 , -0.55770636, -1.0360034 ],\n",
              "       [ 1.9195127 , -0.9021877 , -0.80493295],\n",
              "       [ 1.9525621 , -0.7719199 , -0.85497946],\n",
              "       [ 1.8149748 , -0.83997375, -0.90203094],\n",
              "       [ 1.6859903 , -0.16226956, -1.3512886 ],\n",
              "       [ 1.8339036 , -0.35574016, -1.1371678 ],\n",
              "       [ 1.9746044 , -0.7822137 , -1.0124209 ],\n",
              "       [ 1.8615478 , -0.6219957 , -0.9376369 ],\n",
              "       [ 1.8543845 , -0.7078797 , -0.95888126],\n",
              "       [ 1.6088645 , -0.5836082 , -0.9323118 ],\n",
              "       [ 2.0011654 , -0.8611447 , -0.77186006],\n",
              "       [ 1.9708481 , -0.6085163 , -1.1769125 ],\n",
              "       [ 1.1938238 , -0.40002975, -0.81589204],\n",
              "       [ 1.9301515 , -0.38865122, -1.2239938 ],\n",
              "       [ 1.9914893 , -0.77277136, -0.93773615],\n",
              "       [ 1.9821029 , -0.5830553 , -1.0602381 ],\n",
              "       [ 1.742397  , -0.248175  , -1.2974638 ],\n",
              "       [ 1.9965355 , -0.67339206, -1.0586253 ],\n",
              "       [ 1.8344867 , -0.6625934 , -0.9229977 ],\n",
              "       [ 0.01584858, -0.84994584,  0.65916646],\n",
              "       [ 2.014223  , -0.6043402 , -0.99974394],\n",
              "       [ 1.8294957 , -0.4832283 , -1.1535593 ],\n",
              "       [ 0.4199081 ,  0.80011183, -1.1372932 ],\n",
              "       [ 1.9664757 , -0.84847283, -0.9271905 ],\n",
              "       [ 1.6737235 , -0.8051312 , -0.72625387],\n",
              "       [ 1.7840911 , -0.34742928, -1.2621264 ],\n",
              "       [ 1.6055336 , -0.19579975, -1.2770478 ],\n",
              "       [ 1.8446366 , -0.48457542, -1.1982632 ],\n",
              "       [ 1.8517796 , -0.7594662 , -0.8335191 ],\n",
              "       [ 1.6759984 , -0.23736551, -1.1043211 ],\n",
              "       [ 1.6989204 , -0.23183781, -1.2024999 ],\n",
              "       [ 1.8815498 , -0.5220919 , -1.0994617 ],\n",
              "       [ 1.6957895 , -0.17318778, -1.2182451 ],\n",
              "       [ 1.881989  , -0.52790034, -1.1724049 ],\n",
              "       [ 1.790311  , -0.94175893, -0.6917273 ],\n",
              "       [-0.9074923 ,  1.9093691 , -0.8211309 ],\n",
              "       [-0.71706456,  1.8192798 , -1.0053512 ],\n",
              "       [-0.48776937,  1.5878576 , -0.9376161 ],\n",
              "       [-1.3274195 ,  1.214776  , -0.15010257],\n",
              "       [-0.6379812 ,  1.8444088 , -1.0876143 ],\n",
              "       [-0.8034445 ,  0.9306713 , -0.30183434],\n",
              "       [ 0.07370975,  1.2645895 , -1.2423924 ],\n",
              "       [ 1.7034658 , -0.22904256, -1.3441458 ],\n",
              "       [-1.1815122 ,  1.6368783 , -0.5568693 ],\n",
              "       [ 0.3398028 ,  1.4480749 , -1.562798  ],\n",
              "       [-0.7333037 ,  1.902377  , -1.0549171 ],\n",
              "       [-0.7295049 ,  1.7746234 , -1.0041037 ],\n",
              "       [-0.2840212 ,  1.6252164 , -1.2418767 ],\n",
              "       [-0.776091  ,  1.777975  , -0.8924592 ],\n",
              "       [-1.076634  ,  1.6520827 , -0.6483122 ],\n",
              "       [-0.3946345 ,  1.6056048 , -1.1030794 ],\n",
              "       [ 0.0276158 ,  1.1915822 , -1.222735  ],\n",
              "       [-0.7880029 ,  1.722069  , -0.89491177],\n",
              "       [-0.2975723 ,  1.5489742 , -1.1356388 ],\n",
              "       [-0.5179733 ,  1.8918144 , -1.1081475 ],\n",
              "       [ 0.07457476,  0.5058032 , -0.40809295],\n",
              "       [ 0.49433267,  1.0257651 , -1.3776447 ],\n",
              "       [-1.0330092 ,  1.8146645 , -0.81502897],\n",
              "       [-0.79221606,  1.7859988 , -0.82287997],\n",
              "       [-0.20098451,  1.6860532 , -1.2896057 ],\n",
              "       [-0.03532498,  1.4606116 , -1.3801638 ],\n",
              "       [-0.2585761 ,  1.7117639 , -1.2623664 ],\n",
              "       [-0.7532446 ,  1.4892603 , -0.8861374 ],\n",
              "       [-1.3195723 ,  1.024949  , -0.01904351],\n",
              "       [-0.6082778 ,  1.7894241 , -1.0909436 ],\n",
              "       [ 1.7653499 , -0.19671082, -1.3797942 ],\n",
              "       [-1.4425215 ,  0.86602896,  0.2622901 ],\n",
              "       [-0.72061324,  1.9239408 , -1.0435764 ],\n",
              "       [-0.6539497 ,  1.7838527 , -0.9715595 ],\n",
              "       [-0.79099065,  1.8364197 , -0.90827036],\n",
              "       [-0.92068404,  1.7406999 , -0.8626069 ],\n",
              "       [-1.0926381 ,  1.5553806 , -0.65309346],\n",
              "       [-0.8466544 ,  1.491371  , -0.643553  ],\n",
              "       [-0.48479536,  1.8512629 , -1.122883  ],\n",
              "       [-0.74327177,  1.5175339 , -0.81150234],\n",
              "       [-0.8711897 ,  1.1238195 , -0.33035782],\n",
              "       [-0.61744785,  1.7195958 , -1.0863907 ],\n",
              "       [ 0.02085845,  1.610736  , -1.3226856 ],\n",
              "       [-1.2480338 , -1.0965782 ,  1.8322294 ],\n",
              "       [-1.2820443 , -0.8299796 ,  1.7177039 ],\n",
              "       [-1.2824166 ,  1.1148174 , -0.04674181],\n",
              "       [-1.1102586 , -0.8397596 ,  1.5668696 ],\n",
              "       [-1.177655  , -1.1609746 ,  1.8216157 ],\n",
              "       [-0.89782596, -0.8871832 ,  1.3412628 ],\n",
              "       [-1.177059  , -1.0595143 ,  1.8482233 ],\n",
              "       [-1.0081471 , -1.3058122 ,  1.8023129 ],\n",
              "       [-1.2393965 ,  0.30553254,  0.72356224],\n",
              "       [-1.1186292 , -1.1829908 ,  1.7969209 ],\n",
              "       [-1.121206  , -1.0042701 ,  1.6691617 ],\n",
              "       [-1.091303  , -1.1804639 ,  1.7430279 ],\n",
              "       [-1.1436273 , -1.2330277 ,  1.831784  ],\n",
              "       [-1.3392218 , -0.87868136,  1.6416065 ],\n",
              "       [-1.0713668 , -1.1977855 ,  1.7557098 ],\n",
              "       [-1.3010542 , -0.93923855,  1.7674345 ],\n",
              "       [-1.1139566 , -1.2384984 ,  1.835264  ],\n",
              "       [-1.3493226 ,  0.6157875 ,  0.4862562 ],\n",
              "       [-1.1991761 , -1.0748811 ,  1.7474397 ],\n",
              "       [-1.2679639 , -1.0848964 ,  1.791316  ],\n",
              "       [-1.0989434 , -1.0469325 ,  1.6960183 ],\n",
              "       [-1.3828963 , -0.84239393,  1.5837754 ],\n",
              "       [-1.0788429 , -1.1743644 ,  1.7839031 ],\n",
              "       [-1.2390077 , -1.1185732 ,  1.8280913 ],\n",
              "       [-1.1572245 , -0.9934052 ,  1.7035769 ],\n",
              "       [-1.1613177 , -1.1930681 ,  1.8051734 ],\n",
              "       [-1.0672768 , -1.23276   ,  1.7550876 ],\n",
              "       [-1.1917398 , -1.1382943 ,  1.7705572 ],\n",
              "       [-1.1955317 , -1.0743682 ,  1.8247277 ],\n",
              "       [-0.6867134 ,  1.5875211 , -0.8265658 ],\n",
              "       [-1.2050536 , -0.9833618 ,  1.6206769 ],\n",
              "       [-1.2701931 , -1.118936  ,  1.7835237 ],\n",
              "       [-1.086627  , -1.2157539 ,  1.7678756 ],\n",
              "       [-1.0623828 , -1.1947099 ,  1.7277133 ],\n",
              "       [-1.2563725 , -1.0132662 ,  1.81081   ],\n",
              "       [-1.0738412 , -0.75179744,  1.397062  ],\n",
              "       [-1.1035297 , -1.1150723 ,  1.8387406 ],\n",
              "       [-1.1540202 , -1.1091561 ,  1.7115514 ],\n",
              "       [-1.291873  , -0.73681265,  1.5096925 ],\n",
              "       [-1.045601  , -1.1446396 ,  1.7533722 ],\n",
              "       [-1.1086963 , -1.2105744 ,  1.7869873 ],\n",
              "       [-1.2934933 , -0.96513873,  1.7290448 ]], dtype=float32), label_ids=array([0, 0, 0, 0, 0, 0, 0, 0, 0, 0, 0, 0, 0, 0, 0, 0, 0, 0, 0, 0, 0, 0,\n",
              "       0, 0, 0, 0, 0, 0, 0, 0, 0, 0, 0, 0, 0, 0, 0, 0, 0, 0, 0, 0, 0, 1,\n",
              "       1, 1, 1, 1, 1, 1, 1, 1, 1, 1, 1, 1, 1, 1, 1, 1, 1, 1, 1, 1, 1, 1,\n",
              "       1, 1, 1, 1, 1, 1, 1, 1, 1, 1, 1, 1, 1, 1, 1, 1, 1, 1, 1, 1, 2, 2,\n",
              "       2, 2, 2, 2, 2, 2, 2, 2, 2, 2, 2, 2, 2, 2, 2, 2, 2, 2, 2, 2, 2, 2,\n",
              "       2, 2, 2, 2, 2, 2, 2, 2, 2, 2, 2, 2, 2, 2, 2, 2, 2, 2]), metrics={'test_loss': 0.24274258315563202, 'test_accuracy': 0.9453125, 'test_runtime': 3.1365, 'test_samples_per_second': 40.81, 'test_steps_per_second': 2.551})"
            ]
          },
          "metadata": {},
          "execution_count": 71
        }
      ]
    },
    {
      "cell_type": "code",
      "source": [
        "trainer.predict(beans['validation'])"
      ],
      "metadata": {
        "colab": {
          "base_uri": "https://localhost:8080/",
          "height": 1000
        },
        "id": "EH3Pwae5GjS4",
        "outputId": "710a1dc9-0d58-4d46-bd44-703dbaad1096"
      },
      "execution_count": 74,
      "outputs": [
        {
          "output_type": "display_data",
          "data": {
            "text/plain": [
              "<IPython.core.display.HTML object>"
            ],
            "text/html": [
              "\n",
              "    <div>\n",
              "      \n",
              "      <progress value='15' max='48' style='width:300px; height:20px; vertical-align: middle;'></progress>\n",
              "      [15/48 00:33 < 01:26, 0.38 it/s, Epoch 0.86/3]\n",
              "    </div>\n",
              "    <table border=\"1\" class=\"dataframe\">\n",
              "  <thead>\n",
              " <tr style=\"text-align: left;\">\n",
              "      <th>Epoch</th>\n",
              "      <th>Training Loss</th>\n",
              "      <th>Validation Loss</th>\n",
              "    </tr>\n",
              "  </thead>\n",
              "  <tbody>\n",
              "  </tbody>\n",
              "</table><p>\n",
              "    <div>\n",
              "      \n",
              "      <progress value='9' max='9' style='width:300px; height:20px; vertical-align: middle;'></progress>\n",
              "      [9/9 00:02]\n",
              "    </div>\n",
              "    "
            ]
          },
          "metadata": {}
        },
        {
          "output_type": "execute_result",
          "data": {
            "text/plain": [
              "PredictionOutput(predictions=array([[ 1.5375315e+00, -9.7038811e-01, -4.3356791e-01],\n",
              "       [ 1.9573224e+00, -6.1474681e-01, -1.1199616e+00],\n",
              "       [ 1.6675673e+00, -3.3315530e-01, -1.2280464e+00],\n",
              "       [ 1.7297657e+00, -6.6215718e-01, -9.5322722e-01],\n",
              "       [ 1.8235358e+00, -4.4375530e-01, -1.1883149e+00],\n",
              "       [ 1.8117914e+00, -7.4375576e-01, -9.1908127e-01],\n",
              "       [ 1.5459042e+00,  1.5167684e-04, -1.4747425e+00],\n",
              "       [ 1.8506449e+00, -5.9740335e-01, -1.0526283e+00],\n",
              "       [ 1.9216129e+00, -5.1549393e-01, -1.0881524e+00],\n",
              "       [ 3.6919184e-02, -1.1626189e+00,  7.9290509e-01],\n",
              "       [ 3.2267588e-01,  7.5485384e-01, -8.7296981e-01],\n",
              "       [ 1.7669513e+00, -8.7237185e-01, -7.6249272e-01],\n",
              "       [ 1.7530341e+00, -5.3297925e-01, -1.0570909e+00],\n",
              "       [ 9.7144377e-01,  3.8838798e-01, -1.2091483e+00],\n",
              "       [ 1.8884512e+00, -6.9608825e-01, -9.2444181e-01],\n",
              "       [ 1.7942605e+00, -7.8489566e-01, -7.9222500e-01],\n",
              "       [ 1.9375218e+00, -6.4082330e-01, -1.0423021e+00],\n",
              "       [ 1.9624571e+00, -5.6577212e-01, -1.0582505e+00],\n",
              "       [ 1.9740982e+00, -7.0463610e-01, -1.0732635e+00],\n",
              "       [ 1.5872877e+00, -8.4439403e-01, -6.7909640e-01],\n",
              "       [ 1.8430737e+00, -6.3411391e-01, -9.6040368e-01],\n",
              "       [ 1.6111681e+00, -6.9066173e-01, -7.3982239e-01],\n",
              "       [ 1.7454474e+00, -7.0279568e-01, -8.7176430e-01],\n",
              "       [ 1.9956139e+00, -7.7116120e-01, -9.3490010e-01],\n",
              "       [ 1.3934476e+00, -3.8380496e-02, -1.1088182e+00],\n",
              "       [ 1.7161828e+00, -5.4332155e-01, -1.1084276e+00],\n",
              "       [ 1.9000635e+00, -7.8625077e-01, -8.2073128e-01],\n",
              "       [ 1.8210516e+00, -5.2817243e-01, -1.0258626e+00],\n",
              "       [ 1.5011779e+00, -1.5102759e-02, -1.2304782e+00],\n",
              "       [ 1.9005197e+00, -8.3189774e-01, -8.7405390e-01],\n",
              "       [ 1.8777235e+00, -7.5609010e-01, -9.7128803e-01],\n",
              "       [-1.3712095e-01,  1.6010087e+00, -1.2903594e+00],\n",
              "       [ 1.8113092e+00, -8.1874108e-01, -8.1814539e-01],\n",
              "       [ 9.4403094e-01,  7.4895662e-01, -1.5640877e+00],\n",
              "       [ 1.7563859e+00, -5.9078544e-01, -9.3727857e-01],\n",
              "       [ 5.3530735e-01, -7.3543030e-01, -4.3908056e-02],\n",
              "       [ 1.6946777e+00, -1.4558814e-01, -1.4416113e+00],\n",
              "       [ 1.9337630e+00, -8.5062182e-01, -8.4863389e-01],\n",
              "       [ 1.8075970e+00, -8.0181277e-01, -7.5388956e-01],\n",
              "       [ 1.7795485e+00, -5.4397100e-01, -1.0707628e+00],\n",
              "       [ 1.8807349e+00, -5.0516051e-01, -1.0917497e+00],\n",
              "       [ 1.7767351e+00, -3.1617188e-01, -1.2703235e+00],\n",
              "       [ 1.4067196e+00, -1.1934416e-01, -1.0589796e+00],\n",
              "       [ 1.9742472e+00, -7.4309331e-01, -9.6888214e-01],\n",
              "       [-1.0137653e+00,  1.7751777e+00, -8.6953539e-01],\n",
              "       [-4.9414283e-01,  1.7498518e+00, -1.1215954e+00],\n",
              "       [-1.0885073e+00,  1.7681888e+00, -7.9551250e-01],\n",
              "       [-8.2170123e-01,  1.8696743e+00, -9.4905096e-01],\n",
              "       [-2.8419077e-01,  1.1939989e+00, -7.9215062e-01],\n",
              "       [-1.2828504e+00,  1.3205837e+00, -1.0331879e-01],\n",
              "       [-1.1181290e+00,  1.6409339e+00, -5.4114556e-01],\n",
              "       [-7.0766205e-01,  1.7127063e+00, -9.7447544e-01],\n",
              "       [-1.4541979e+00, -2.0543522e-01,  1.3266853e+00],\n",
              "       [-6.7316866e-01,  1.8445654e+00, -1.0393558e+00],\n",
              "       [-1.0390640e+00,  1.8743283e+00, -7.8859812e-01],\n",
              "       [-2.5773364e-01,  1.7454829e+00, -1.0971622e+00],\n",
              "       [ 9.5853871e-01,  1.3440341e-01, -1.0024513e+00],\n",
              "       [-8.8503414e-01,  1.7116460e+00, -7.3918128e-01],\n",
              "       [-9.5364523e-01,  1.7853723e+00, -8.5911244e-01],\n",
              "       [-8.7986594e-01,  1.8854917e+00, -8.3569014e-01],\n",
              "       [-5.7033616e-01,  8.9433783e-01, -5.2181876e-01],\n",
              "       [-6.8957877e-01,  1.7409816e+00, -1.0391505e+00],\n",
              "       [-9.9131936e-01,  1.8455549e+00, -8.1315786e-01],\n",
              "       [-9.2587346e-01,  1.7809266e+00, -7.7652824e-01],\n",
              "       [-7.9047376e-01,  1.8788041e+00, -9.4050598e-01],\n",
              "       [-5.1313442e-01,  1.6091083e+00, -1.0820267e+00],\n",
              "       [-1.1223774e+00,  1.7606636e+00, -6.1821616e-01],\n",
              "       [-6.3392389e-01,  1.8877938e+00, -1.1245641e+00],\n",
              "       [-1.3796945e+00,  1.3133993e+00, -7.2315499e-02],\n",
              "       [-6.1446846e-01,  1.7585860e+00, -9.0200049e-01],\n",
              "       [-1.2739190e+00,  1.4378074e+00, -3.3662483e-01],\n",
              "       [-7.8640050e-01,  1.7987025e+00, -9.5851707e-01],\n",
              "       [ 1.0806367e+00,  4.1459730e-01, -1.3664187e+00],\n",
              "       [-6.5310246e-01,  1.8634950e+00, -8.9273840e-01],\n",
              "       [-1.3905022e+00, -7.3912019e-01,  1.5926915e+00],\n",
              "       [-5.5576420e-01,  1.7810969e+00, -1.0272464e+00],\n",
              "       [ 9.8316896e-01,  5.6451702e-01, -1.2717681e+00],\n",
              "       [-6.2212420e-01,  1.8436438e+00, -1.1255345e+00],\n",
              "       [-7.6277900e-01,  1.6661288e+00, -8.2278621e-01],\n",
              "       [-7.2880411e-01,  1.8538667e+00, -9.6723580e-01],\n",
              "       [-8.0697286e-01,  1.8141899e+00, -9.6067673e-01],\n",
              "       [-3.1368488e-01,  1.7620535e+00, -1.1646585e+00],\n",
              "       [-5.9679538e-01,  1.6248689e+00, -8.7012476e-01],\n",
              "       [-6.0473633e-01,  1.8747903e+00, -1.0530181e+00],\n",
              "       [-8.7619412e-01,  1.4368852e+00, -7.1322405e-01],\n",
              "       [-6.4616269e-01,  1.8378671e+00, -1.0850815e+00],\n",
              "       [-1.3109830e-01,  1.5967417e+00, -1.1838990e+00],\n",
              "       [-9.6542674e-01,  1.7097460e+00, -7.6836360e-01],\n",
              "       [-1.0365566e+00,  1.8079295e+00, -7.0408618e-01],\n",
              "       [-1.2780197e+00, -7.3505539e-01,  1.5544250e+00],\n",
              "       [-1.5220774e+00, -4.0801531e-01,  1.4452871e+00],\n",
              "       [-1.2783575e+00, -9.5114332e-01,  1.7541770e+00],\n",
              "       [-1.2559793e+00, -1.1396954e+00,  1.8529779e+00],\n",
              "       [-9.4821703e-01, -1.2705015e+00,  1.7428688e+00],\n",
              "       [-9.0275675e-01, -1.2915863e+00,  1.7319607e+00],\n",
              "       [-1.1855723e+00, -1.0576965e+00,  1.8091347e+00],\n",
              "       [-1.1789645e+00, -1.1814004e+00,  1.8390875e+00],\n",
              "       [-1.0673071e+00, -1.2415825e+00,  1.8207887e+00],\n",
              "       [-1.1613393e+00, -1.1563197e+00,  1.7690805e+00],\n",
              "       [-1.0390023e+00, -1.2367945e+00,  1.8021003e+00],\n",
              "       [-1.0242200e+00, -1.1677650e+00,  1.7502505e+00],\n",
              "       [-1.2214825e+00, -1.0574616e+00,  1.8189080e+00],\n",
              "       [-1.0680835e+00, -7.4385166e-01,  1.4270439e+00],\n",
              "       [-1.0840247e+00, -1.2115247e+00,  1.7777859e+00],\n",
              "       [-1.1175177e+00, -9.9507928e-01,  1.6544381e+00],\n",
              "       [-1.1035424e+00, -1.0582093e+00,  1.7009522e+00],\n",
              "       [-1.1406661e+00, -1.1165715e+00,  1.7781920e+00],\n",
              "       [-1.3262194e+00, -8.6941665e-01,  1.6522045e+00],\n",
              "       [-1.4320561e+00, -9.4492480e-02,  1.1083270e+00],\n",
              "       [-1.2347802e+00, -1.1190673e+00,  1.8333571e+00],\n",
              "       [-1.2829541e+00, -9.6631432e-01,  1.7956438e+00],\n",
              "       [-1.0027803e+00, -7.7267706e-01,  1.4105239e+00],\n",
              "       [-1.4446795e+00, -5.7691348e-01,  1.5272664e+00],\n",
              "       [-9.4726455e-01, -1.2929510e+00,  1.7432402e+00],\n",
              "       [-9.8942065e-01, -1.1861970e+00,  1.6987640e+00],\n",
              "       [-1.1805143e+00, -1.1265061e+00,  1.8363626e+00],\n",
              "       [-1.0008856e+00, -1.2993212e+00,  1.8296136e+00],\n",
              "       [-1.2830541e+00, -9.6271044e-01,  1.7918061e+00],\n",
              "       [-1.0239347e+00, -1.0936420e+00,  1.6806726e+00],\n",
              "       [-1.1707320e+00, -1.1506433e+00,  1.7354735e+00],\n",
              "       [-1.1020750e+00, -1.2520795e+00,  1.7531861e+00],\n",
              "       [-9.7380781e-01, -1.1137986e+00,  1.6668411e+00],\n",
              "       [-1.1832377e+00, -1.1364352e+00,  1.7358701e+00],\n",
              "       [-1.0631438e+00, -1.2249658e+00,  1.7865690e+00],\n",
              "       [-1.1647234e+00, -1.0145893e+00,  1.5911468e+00],\n",
              "       [-1.0954206e+00, -1.2646866e+00,  1.8257995e+00],\n",
              "       [-1.2587674e+00, -1.0819143e+00,  1.7787056e+00],\n",
              "       [-1.2353843e+00, -9.3152839e-01,  1.6471684e+00],\n",
              "       [-1.0849299e+00, -1.2042229e+00,  1.7327403e+00],\n",
              "       [-1.2510833e+00, -1.0528340e+00,  1.7966470e+00],\n",
              "       [-1.2502518e+00, -1.0362000e+00,  1.7543786e+00],\n",
              "       [-1.1091399e+00, -1.1652811e+00,  1.7709275e+00],\n",
              "       [-1.1633176e+00, -1.1554422e+00,  1.8107651e+00]], dtype=float32), label_ids=array([0, 0, 0, 0, 0, 0, 0, 0, 0, 0, 0, 0, 0, 0, 0, 0, 0, 0, 0, 0, 0, 0,\n",
              "       0, 0, 0, 0, 0, 0, 0, 0, 0, 0, 0, 0, 0, 0, 0, 0, 0, 0, 0, 0, 0, 0,\n",
              "       1, 1, 1, 1, 1, 1, 1, 1, 1, 1, 1, 1, 1, 1, 1, 1, 1, 1, 1, 1, 1, 1,\n",
              "       1, 1, 1, 1, 1, 1, 1, 1, 1, 1, 1, 1, 1, 1, 1, 1, 1, 1, 1, 1, 1, 1,\n",
              "       1, 2, 2, 2, 2, 2, 2, 2, 2, 2, 2, 2, 2, 2, 2, 2, 2, 2, 2, 2, 2, 2,\n",
              "       2, 2, 2, 2, 2, 2, 2, 2, 2, 2, 2, 2, 2, 2, 2, 2, 2, 2, 2, 2, 2, 2,\n",
              "       2]), metrics={'test_loss': 0.23380494117736816, 'test_accuracy': 0.9398496240601504, 'test_runtime': 3.2604, 'test_samples_per_second': 40.793, 'test_steps_per_second': 2.76})"
            ]
          },
          "metadata": {},
          "execution_count": 74
        }
      ]
    },
    {
      "cell_type": "code",
      "source": [
        "trainer.predict(beans['train'])"
      ],
      "metadata": {
        "colab": {
          "base_uri": "https://localhost:8080/",
          "height": 261
        },
        "id": "4LucQCVnGe6O",
        "outputId": "ff3460c1-843b-48ad-8dc5-3120c5373a3a"
      },
      "execution_count": 75,
      "outputs": [
        {
          "output_type": "display_data",
          "data": {
            "text/plain": [
              "<IPython.core.display.HTML object>"
            ],
            "text/html": [
              "\n",
              "    <div>\n",
              "      \n",
              "      <progress value='15' max='48' style='width:300px; height:20px; vertical-align: middle;'></progress>\n",
              "      [15/48 00:33 < 01:26, 0.38 it/s, Epoch 0.86/3]\n",
              "    </div>\n",
              "    <table border=\"1\" class=\"dataframe\">\n",
              "  <thead>\n",
              " <tr style=\"text-align: left;\">\n",
              "      <th>Epoch</th>\n",
              "      <th>Training Loss</th>\n",
              "      <th>Validation Loss</th>\n",
              "    </tr>\n",
              "  </thead>\n",
              "  <tbody>\n",
              "  </tbody>\n",
              "</table><p>\n",
              "    <div>\n",
              "      \n",
              "      <progress value='65' max='65' style='width:300px; height:20px; vertical-align: middle;'></progress>\n",
              "      [65/65 00:26]\n",
              "    </div>\n",
              "    "
            ]
          },
          "metadata": {}
        },
        {
          "output_type": "execute_result",
          "data": {
            "text/plain": [
              "PredictionOutput(predictions=array([[ 1.5581366 ,  0.02614913, -1.4224638 ],\n",
              "       [ 1.8072882 , -0.29889366, -1.2408351 ],\n",
              "       [ 1.3936051 ,  0.27597386, -1.4231894 ],\n",
              "       ...,\n",
              "       [-1.1177254 , -1.1717849 ,  1.7943952 ],\n",
              "       [-1.0993326 , -1.2252554 ,  1.8512884 ],\n",
              "       [-1.2534726 , -1.1437368 ,  1.8002505 ]], dtype=float32), label_ids=array([0, 0, 0, ..., 2, 2, 2]), metrics={'test_loss': 0.20979832112789154, 'test_accuracy': 0.9593810444874274, 'test_runtime': 27.3799, 'test_samples_per_second': 37.765, 'test_steps_per_second': 2.374})"
            ]
          },
          "metadata": {},
          "execution_count": 75
        }
      ]
    },
    {
      "cell_type": "code",
      "source": [
        "trainer.predict(beans_transformed['test'])"
      ],
      "metadata": {
        "colab": {
          "base_uri": "https://localhost:8080/",
          "height": 1000
        },
        "id": "XOmJHozdGbhW",
        "outputId": "d9269db9-9fff-4f93-c39a-8f34d4e56ceb"
      },
      "execution_count": 73,
      "outputs": [
        {
          "output_type": "display_data",
          "data": {
            "text/plain": [
              "<IPython.core.display.HTML object>"
            ],
            "text/html": [
              "\n",
              "    <div>\n",
              "      \n",
              "      <progress value='15' max='48' style='width:300px; height:20px; vertical-align: middle;'></progress>\n",
              "      [15/48 00:33 < 01:26, 0.38 it/s, Epoch 0.86/3]\n",
              "    </div>\n",
              "    <table border=\"1\" class=\"dataframe\">\n",
              "  <thead>\n",
              " <tr style=\"text-align: left;\">\n",
              "      <th>Epoch</th>\n",
              "      <th>Training Loss</th>\n",
              "      <th>Validation Loss</th>\n",
              "    </tr>\n",
              "  </thead>\n",
              "  <tbody>\n",
              "  </tbody>\n",
              "</table><p>\n",
              "    <div>\n",
              "      \n",
              "      <progress value='8' max='8' style='width:300px; height:20px; vertical-align: middle;'></progress>\n",
              "      [8/8 00:02]\n",
              "    </div>\n",
              "    "
            ]
          },
          "metadata": {}
        },
        {
          "output_type": "execute_result",
          "data": {
            "text/plain": [
              "PredictionOutput(predictions=array([[ 1.6221086 , -0.17860422, -1.243974  ],\n",
              "       [ 1.9087827 , -0.694586  , -0.95524263],\n",
              "       [ 1.9117025 , -0.6577291 , -1.0279742 ],\n",
              "       [ 1.9867253 , -0.78470784, -0.98818153],\n",
              "       [ 1.8579216 , -0.5152057 , -1.1862099 ],\n",
              "       [ 1.892953  , -0.47644565, -1.1601417 ],\n",
              "       [ 1.8584311 , -0.35298812, -1.2199724 ],\n",
              "       [ 1.9750102 , -0.6704113 , -1.0002463 ],\n",
              "       [ 1.9388096 , -0.7273329 , -0.9613616 ],\n",
              "       [ 2.0007632 , -0.6763515 , -1.0696399 ],\n",
              "       [ 1.9403844 , -0.74476767, -0.93954396],\n",
              "       [ 1.7085892 , -0.8818456 , -0.68582296],\n",
              "       [ 1.8324535 , -0.3604847 , -1.1791259 ],\n",
              "       [ 1.7687527 , -0.31821343, -1.1240261 ],\n",
              "       [ 1.8646482 , -0.39855227, -1.2083791 ],\n",
              "       [ 1.9847798 , -0.84605175, -0.9092881 ],\n",
              "       [ 1.8566734 , -0.68256027, -0.9287507 ],\n",
              "       [ 1.5630708 , -0.4153743 , -1.0561248 ],\n",
              "       [ 1.9093782 , -0.84169006, -0.7239886 ],\n",
              "       [ 1.9842734 , -0.6983016 , -1.0828646 ],\n",
              "       [ 1.7631134 , -0.6335303 , -0.98234326],\n",
              "       [ 1.8212523 , -0.36454582, -1.1440154 ],\n",
              "       [ 1.9813392 , -0.72305554, -0.98515195],\n",
              "       [ 1.9533036 , -0.7491353 , -0.9005324 ],\n",
              "       [ 1.9814327 , -0.69937253, -1.0871468 ],\n",
              "       [ 2.0209126 , -0.78292185, -0.9651158 ],\n",
              "       [ 1.8574692 , -0.6334893 , -0.97455394],\n",
              "       [ 0.6745711 , -0.38268867, -0.37035355],\n",
              "       [ 1.8572263 , -0.5102386 , -1.0671674 ],\n",
              "       [ 1.8285427 , -0.5753798 , -1.0111548 ],\n",
              "       [ 0.3686147 ,  0.6318384 , -1.0829395 ],\n",
              "       [ 1.9808269 , -0.7896636 , -0.9551414 ],\n",
              "       [ 1.2870741 , -0.66268367, -0.6582765 ],\n",
              "       [ 1.4892143 , -0.13223326, -1.077814  ],\n",
              "       [ 1.5497949 , -0.08451254, -1.3765476 ],\n",
              "       [ 1.8901166 , -0.7115219 , -0.967218  ],\n",
              "       [ 1.889571  , -0.75175166, -1.000206  ],\n",
              "       [ 0.00942232,  1.4540044 , -1.3293173 ],\n",
              "       [ 1.1378739 ,  0.41251293, -1.2514704 ],\n",
              "       [ 1.7915853 , -0.4004793 , -1.1253668 ],\n",
              "       [ 1.7325108 , -0.337648  , -1.184289  ],\n",
              "       [ 1.8570648 , -0.47986257, -1.2131236 ],\n",
              "       [ 1.8055196 , -0.99326354, -0.6378945 ],\n",
              "       [-0.95439196,  1.9305491 , -0.834837  ],\n",
              "       [-0.3633047 ,  1.7087973 , -1.2660471 ],\n",
              "       [ 0.5168538 ,  0.9094929 , -1.3664932 ],\n",
              "       [-1.041265  ,  1.6575483 , -0.5953946 ],\n",
              "       [-0.64802897,  1.8928053 , -1.1582496 ],\n",
              "       [-0.64853275,  1.6075195 , -0.9617417 ],\n",
              "       [-0.86242455,  1.7871381 , -0.8833577 ],\n",
              "       [ 1.8153905 , -0.5109605 , -1.1247395 ],\n",
              "       [-1.0007039 ,  1.8786577 , -0.8453024 ],\n",
              "       [ 0.6891408 ,  0.957961  , -1.4912182 ],\n",
              "       [-0.7120352 ,  1.8922949 , -1.0781227 ],\n",
              "       [-0.75595605,  1.7184662 , -0.81893766],\n",
              "       [-0.57835764,  1.7208544 , -1.1038685 ],\n",
              "       [-0.8537582 ,  1.7166939 , -0.78148836],\n",
              "       [-0.29447484,  0.686488  , -0.4236848 ],\n",
              "       [-0.13768025,  1.3547934 , -1.0514128 ],\n",
              "       [-0.17671406,  1.5855482 , -1.234666  ],\n",
              "       [-1.4995183 ,  1.1851074 ,  0.16194884],\n",
              "       [-0.7235242 ,  1.8688413 , -1.0453228 ],\n",
              "       [-0.46361816,  1.6950734 , -1.0355047 ],\n",
              "       [-0.61245394,  1.8401223 , -1.0417742 ],\n",
              "       [-0.02799086,  1.4772038 , -1.2579747 ],\n",
              "       [-1.0075387 ,  1.8006135 , -0.8804725 ],\n",
              "       [-0.7014043 ,  1.718487  , -0.8022522 ],\n",
              "       [-0.18063799,  1.7236029 , -1.2089386 ],\n",
              "       [-0.62895566,  1.4585162 , -0.8851661 ],\n",
              "       [ 0.25766724,  1.3163717 , -1.3180995 ],\n",
              "       [-1.2254043 ,  1.6966298 , -0.5251434 ],\n",
              "       [-1.1250075 ,  1.7676829 , -0.74831843],\n",
              "       [-0.5524857 ,  1.7999014 , -1.1031517 ],\n",
              "       [ 1.5383714 ,  0.04458287, -1.4134371 ],\n",
              "       [-1.4004248 ,  1.0927905 , -0.04302153],\n",
              "       [-0.70969385,  1.8626081 , -0.9898297 ],\n",
              "       [-0.56136143,  1.8069764 , -1.0697755 ],\n",
              "       [-0.7553971 ,  1.8429226 , -0.9830437 ],\n",
              "       [-0.8147822 ,  1.8404106 , -0.92212707],\n",
              "       [-0.91234946,  1.7254422 , -0.8264349 ],\n",
              "       [-0.7816001 ,  1.6609823 , -0.7761766 ],\n",
              "       [-0.6047205 ,  1.714292  , -0.87324965],\n",
              "       [-0.7677523 ,  1.5836341 , -0.8402141 ],\n",
              "       [-1.1613492 ,  0.45955935,  0.5179199 ],\n",
              "       [ 0.41664   ,  1.1233841 , -1.3087515 ],\n",
              "       [ 0.8843731 ,  0.59188503, -1.2544516 ],\n",
              "       [-1.2725447 , -1.0942531 ,  1.8375632 ],\n",
              "       [-1.4397883 , -0.4901407 ,  1.5012894 ],\n",
              "       [-1.3432806 ,  0.42337504,  0.39016682],\n",
              "       [-1.3364421 , -0.9278649 ,  1.7880857 ],\n",
              "       [-1.209245  , -1.2086583 ,  1.832216  ],\n",
              "       [-1.132612  , -1.0247731 ,  1.7453636 ],\n",
              "       [-1.1027753 , -1.0683638 ,  1.8186079 ],\n",
              "       [-0.96575147, -1.2718817 ,  1.824106  ],\n",
              "       [-1.2511809 , -0.40831196,  1.2684143 ],\n",
              "       [-1.124042  , -1.1923891 ,  1.7741103 ],\n",
              "       [-1.150154  , -1.071995  ,  1.7292495 ],\n",
              "       [-1.2283934 , -1.0185301 ,  1.7451291 ],\n",
              "       [-1.1354167 , -1.2506286 ,  1.8298968 ],\n",
              "       [-1.1661184 , -1.0993897 ,  1.7662938 ],\n",
              "       [-1.0881723 , -1.2001613 ,  1.7785257 ],\n",
              "       [-1.246814  , -0.9806808 ,  1.7266688 ],\n",
              "       [-1.0973582 , -1.2297401 ,  1.8132986 ],\n",
              "       [-1.5733916 ,  0.53647476,  0.66251254],\n",
              "       [-1.2123804 , -1.0978825 ,  1.7893726 ],\n",
              "       [-1.1601083 , -1.201951  ,  1.8216676 ],\n",
              "       [-0.6973199 , -0.21277066,  0.4547021 ],\n",
              "       [-1.3377699 , -0.9443917 ,  1.6304384 ],\n",
              "       [-1.2918649 , -1.0269011 ,  1.8670826 ],\n",
              "       [-1.2325228 , -1.1674708 ,  1.7671884 ],\n",
              "       [-1.2475148 , -0.910477  ,  1.6934104 ],\n",
              "       [-1.1493444 , -1.20639   ,  1.8333945 ],\n",
              "       [-1.141491  , -1.1846114 ,  1.7431735 ],\n",
              "       [-1.2252939 , -1.0877846 ,  1.7384338 ],\n",
              "       [-1.0853219 , -1.114236  ,  1.7721277 ],\n",
              "       [-0.66593504, -0.00357277,  0.2043943 ],\n",
              "       [-1.1750215 , -0.9702699 ,  1.6121658 ],\n",
              "       [-1.2612259 , -1.0847052 ,  1.7760408 ],\n",
              "       [-1.0956813 , -1.2343743 ,  1.7943939 ],\n",
              "       [-1.1101654 , -1.1611915 ,  1.7371645 ],\n",
              "       [-1.2186947 , -1.0877832 ,  1.8454468 ],\n",
              "       [-0.92312634, -0.8351116 ,  1.4117701 ],\n",
              "       [-1.0881401 , -1.1066248 ,  1.802286  ],\n",
              "       [-1.0073396 , -1.2696964 ,  1.7550186 ],\n",
              "       [-1.1950734 , -1.0016395 ,  1.7311547 ],\n",
              "       [-1.032212  , -1.1587365 ,  1.7648189 ],\n",
              "       [-1.0600655 , -1.2270148 ,  1.7854874 ],\n",
              "       [-1.2969388 , -0.97373796,  1.7400461 ]], dtype=float32), label_ids=array([0, 0, 0, 0, 0, 0, 0, 0, 0, 0, 0, 0, 0, 0, 0, 0, 0, 0, 0, 0, 0, 0,\n",
              "       0, 0, 0, 0, 0, 0, 0, 0, 0, 0, 0, 0, 0, 0, 0, 0, 0, 0, 0, 0, 0, 1,\n",
              "       1, 1, 1, 1, 1, 1, 1, 1, 1, 1, 1, 1, 1, 1, 1, 1, 1, 1, 1, 1, 1, 1,\n",
              "       1, 1, 1, 1, 1, 1, 1, 1, 1, 1, 1, 1, 1, 1, 1, 1, 1, 1, 1, 1, 2, 2,\n",
              "       2, 2, 2, 2, 2, 2, 2, 2, 2, 2, 2, 2, 2, 2, 2, 2, 2, 2, 2, 2, 2, 2,\n",
              "       2, 2, 2, 2, 2, 2, 2, 2, 2, 2, 2, 2, 2, 2, 2, 2, 2, 2]), metrics={'test_loss': 0.23684580624103546, 'test_accuracy': 0.9453125, 'test_runtime': 2.8329, 'test_samples_per_second': 45.183, 'test_steps_per_second': 2.824})"
            ]
          },
          "metadata": {},
          "execution_count": 73
        }
      ]
    },
    {
      "cell_type": "code",
      "source": [
        "trainer.predict(beans_transformed['validation'])"
      ],
      "metadata": {
        "colab": {
          "base_uri": "https://localhost:8080/",
          "height": 1000
        },
        "id": "nCF6Qa0bGmSQ",
        "outputId": "094ecc7f-db37-47a5-9815-795f83ed956b"
      },
      "execution_count": 76,
      "outputs": [
        {
          "output_type": "display_data",
          "data": {
            "text/plain": [
              "<IPython.core.display.HTML object>"
            ],
            "text/html": [
              "\n",
              "    <div>\n",
              "      \n",
              "      <progress value='15' max='48' style='width:300px; height:20px; vertical-align: middle;'></progress>\n",
              "      [15/48 00:33 < 01:26, 0.38 it/s, Epoch 0.86/3]\n",
              "    </div>\n",
              "    <table border=\"1\" class=\"dataframe\">\n",
              "  <thead>\n",
              " <tr style=\"text-align: left;\">\n",
              "      <th>Epoch</th>\n",
              "      <th>Training Loss</th>\n",
              "      <th>Validation Loss</th>\n",
              "    </tr>\n",
              "  </thead>\n",
              "  <tbody>\n",
              "  </tbody>\n",
              "</table><p>\n",
              "    <div>\n",
              "      \n",
              "      <progress value='9' max='9' style='width:300px; height:20px; vertical-align: middle;'></progress>\n",
              "      [9/9 00:02]\n",
              "    </div>\n",
              "    "
            ]
          },
          "metadata": {}
        },
        {
          "output_type": "execute_result",
          "data": {
            "text/plain": [
              "PredictionOutput(predictions=array([[ 0.8000405 , -0.92818934,  0.12784581],\n",
              "       [ 1.9372741 , -0.60281605, -1.1085403 ],\n",
              "       [ 0.8780525 ,  0.6257383 , -1.2412354 ],\n",
              "       [ 1.5211828 , -0.5383561 , -0.8619014 ],\n",
              "       [ 1.6849012 , -0.11260232, -1.3651241 ],\n",
              "       [ 1.7937692 , -0.7900353 , -0.8409129 ],\n",
              "       [ 1.8032097 , -0.5773151 , -1.1264687 ],\n",
              "       [ 1.9347205 , -0.49882457, -1.1915483 ],\n",
              "       [ 1.7637843 , -0.3833258 , -1.1165355 ],\n",
              "       [ 1.1474229 , -0.47546008, -0.724119  ],\n",
              "       [ 0.7895981 ,  0.47447443, -1.0427448 ],\n",
              "       [ 1.9331582 , -0.68168336, -1.0795399 ],\n",
              "       [ 1.8854135 , -0.6797295 , -0.9138533 ],\n",
              "       [ 1.3484445 ,  0.02939295, -1.1245676 ],\n",
              "       [ 1.5844223 , -0.5211496 , -0.99905664],\n",
              "       [ 1.8982148 , -0.743205  , -0.8692014 ],\n",
              "       [ 1.7821523 , -0.55442435, -1.1076715 ],\n",
              "       [ 1.7871689 , -0.6340307 , -0.8777991 ],\n",
              "       [ 1.9762684 , -0.8046707 , -0.86160135],\n",
              "       [ 1.37077   , -0.87287116, -0.5581405 ],\n",
              "       [ 1.8395414 , -0.7757254 , -0.85794896],\n",
              "       [ 1.6893033 , -0.39550242, -0.9877138 ],\n",
              "       [ 1.7803442 , -0.8100792 , -0.78895664],\n",
              "       [ 2.0029247 , -0.8204684 , -0.85755044],\n",
              "       [ 1.5820884 ,  0.1218929 , -1.3496505 ],\n",
              "       [ 1.7358587 , -0.7021091 , -0.94588906],\n",
              "       [ 1.8460553 , -0.88645095, -0.70857435],\n",
              "       [ 1.7509363 , -0.3435146 , -1.1302491 ],\n",
              "       [ 1.6951567 , -0.32593182, -1.1075662 ],\n",
              "       [ 1.7007284 , -0.6237988 , -0.94138384],\n",
              "       [ 1.8454437 , -0.6477173 , -1.0365502 ],\n",
              "       [ 1.193113  ,  0.35586888, -1.4669325 ],\n",
              "       [ 1.867152  , -0.72302115, -0.96019846],\n",
              "       [ 1.6698154 , -0.3577224 , -1.1638806 ],\n",
              "       [ 1.6600121 , -0.46099076, -1.0518575 ],\n",
              "       [ 1.5770712 , -0.610673  , -0.93854976],\n",
              "       [ 1.8926785 , -0.4360428 , -1.3105274 ],\n",
              "       [ 1.9498994 , -0.8092638 , -0.8749136 ],\n",
              "       [ 1.7455736 , -0.61817825, -0.81457716],\n",
              "       [ 1.750247  , -0.8238787 , -0.79773784],\n",
              "       [ 1.8298701 , -0.4331301 , -1.1770526 ],\n",
              "       [ 1.9517016 , -0.6125263 , -1.1398671 ],\n",
              "       [ 1.9146844 , -0.81121486, -0.8962974 ],\n",
              "       [ 1.9803829 , -0.7555964 , -0.9739514 ],\n",
              "       [-1.18145   ,  1.7296053 , -0.64190525],\n",
              "       [-0.62566113,  1.7112545 , -1.0567297 ],\n",
              "       [-1.2878462 ,  1.3381951 , -0.29703224],\n",
              "       [-1.0215374 ,  1.3565223 , -0.52412736],\n",
              "       [-0.59921235,  1.7528977 , -0.95654285],\n",
              "       [-1.3400431 ,  1.0943671 ,  0.13753732],\n",
              "       [-0.85804635,  1.9209236 , -0.92673784],\n",
              "       [-0.7430693 ,  1.7517575 , -0.98117703],\n",
              "       [-1.4973981 ,  1.0772175 ,  0.15190417],\n",
              "       [-0.4849964 ,  1.7718799 , -1.1057844 ],\n",
              "       [-1.0941447 ,  1.7706164 , -0.6522555 ],\n",
              "       [-0.5139311 ,  1.7348813 , -1.000349  ],\n",
              "       [-0.8992139 ,  1.9290296 , -0.9209964 ],\n",
              "       [-0.8882349 ,  1.7740518 , -0.7888223 ],\n",
              "       [-1.0204301 ,  1.6619719 , -0.68093246],\n",
              "       [-0.7607595 ,  1.7860167 , -0.8080268 ],\n",
              "       [-0.9178539 ,  1.7049729 , -0.8346756 ],\n",
              "       [-1.005028  ,  1.723008  , -0.808966  ],\n",
              "       [-0.9155222 ,  1.8968649 , -0.90274614],\n",
              "       [-1.00508   ,  1.810576  , -0.7758927 ],\n",
              "       [ 0.11165571,  0.93018675, -0.6830608 ],\n",
              "       [-0.3849305 ,  1.2772093 , -0.898387  ],\n",
              "       [-0.93365383,  1.8722452 , -0.8268783 ],\n",
              "       [-0.6459399 ,  1.8890369 , -1.0940592 ],\n",
              "       [-0.9993996 ,  1.8173542 , -0.8475264 ],\n",
              "       [-0.7943189 ,  1.819799  , -0.91140634],\n",
              "       [-0.5352473 ,  1.6980875 , -1.1923968 ],\n",
              "       [-0.6278195 ,  1.7653838 , -1.053534  ],\n",
              "       [-0.35492125,  1.7084261 , -1.1951693 ],\n",
              "       [-0.63651156,  1.8603597 , -0.9918017 ],\n",
              "       [-1.2817475 ,  1.5975128 , -0.497273  ],\n",
              "       [-0.93073875,  1.8724962 , -0.92092794],\n",
              "       [ 1.5747995 , -0.38803235, -1.0264219 ],\n",
              "       [-0.79827785,  1.874956  , -0.95513254],\n",
              "       [-0.6454513 ,  1.7422558 , -1.0858077 ],\n",
              "       [-0.55140156,  1.8478768 , -1.055881  ],\n",
              "       [-0.7923114 ,  1.9037553 , -0.94261515],\n",
              "       [-0.3553764 ,  1.8248986 , -1.1237153 ],\n",
              "       [-0.40456784,  1.7870016 , -1.181522  ],\n",
              "       [-0.6140431 ,  1.5512007 , -0.9928952 ],\n",
              "       [-0.61428314,  1.5448457 , -0.8898658 ],\n",
              "       [-0.15655759,  1.7379434 , -1.3349983 ],\n",
              "       [-0.39120886,  1.7792733 , -1.1089487 ],\n",
              "       [-1.355875  ,  0.91671133,  0.03914995],\n",
              "       [-0.74620545,  1.8252476 , -0.9737749 ],\n",
              "       [-1.3114163 , -0.8760702 ,  1.6680017 ],\n",
              "       [-1.4082625 , -0.55229837,  1.5203371 ],\n",
              "       [-1.2269895 , -0.62078243,  1.3008586 ],\n",
              "       [-1.2247896 , -1.1376919 ,  1.7772098 ],\n",
              "       [-1.1097648 , -1.1544452 ,  1.7369787 ],\n",
              "       [-0.9538152 , -1.3229913 ,  1.8005364 ],\n",
              "       [-1.2699205 , -1.0608162 ,  1.8291129 ],\n",
              "       [-1.0855082 , -1.0333441 ,  1.6963068 ],\n",
              "       [-1.0648026 , -1.2423255 ,  1.8426242 ],\n",
              "       [-1.2050456 , -1.1367017 ,  1.7876527 ],\n",
              "       [-1.0315932 , -1.2154702 ,  1.7504411 ],\n",
              "       [-1.0985724 , -1.002348  ,  1.6867247 ],\n",
              "       [-1.2271178 , -1.0886385 ,  1.835498  ],\n",
              "       [-0.84867764, -1.1638634 ,  1.5977529 ],\n",
              "       [-1.0238881 , -1.2387506 ,  1.7903601 ],\n",
              "       [-1.109694  , -1.1432604 ,  1.7955347 ],\n",
              "       [-1.1128004 , -0.9135252 ,  1.6143001 ],\n",
              "       [-1.201099  , -1.0021569 ,  1.7921191 ],\n",
              "       [-1.3546305 , -0.8388707 ,  1.7070931 ],\n",
              "       [-1.244249  , -0.84440595,  1.5663834 ],\n",
              "       [-1.2610978 , -1.097321  ,  1.8036971 ],\n",
              "       [-1.3997676 , -0.63331026,  1.5776869 ],\n",
              "       [-0.96731496, -1.1011188 ,  1.6451542 ],\n",
              "       [-1.4667935 , -0.6459057 ,  1.5917798 ],\n",
              "       [-0.94136786, -1.3026283 ,  1.6700989 ],\n",
              "       [-1.0506407 , -1.1487806 ,  1.7641466 ],\n",
              "       [-1.1411219 , -1.1777855 ,  1.8403658 ],\n",
              "       [-1.1333753 , -1.1985658 ,  1.8565369 ],\n",
              "       [-1.4529281 , -0.6551352 ,  1.5155052 ],\n",
              "       [-0.97320735, -1.1650726 ,  1.6813831 ],\n",
              "       [-1.1489441 , -1.1841819 ,  1.7239828 ],\n",
              "       [-1.1052799 , -1.2575812 ,  1.778878  ],\n",
              "       [-0.93984485, -1.1914207 ,  1.6572157 ],\n",
              "       [-1.171581  , -1.1251242 ,  1.7273141 ],\n",
              "       [-1.1630278 , -1.1722833 ,  1.7991879 ],\n",
              "       [-1.1937802 , -1.1302625 ,  1.7040919 ],\n",
              "       [-1.0896817 , -1.2214822 ,  1.8068382 ],\n",
              "       [-1.2809429 , -1.04275   ,  1.784891  ],\n",
              "       [-1.2061315 , -0.89631754,  1.6021045 ],\n",
              "       [-1.0199788 , -1.2424396 ,  1.7016703 ],\n",
              "       [-1.1578227 , -1.1376176 ,  1.7976459 ],\n",
              "       [-1.2163123 , -1.1324539 ,  1.8189017 ],\n",
              "       [-1.18171   , -1.096114  ,  1.7655487 ],\n",
              "       [-1.071356  , -1.2256386 ,  1.843696  ]], dtype=float32), label_ids=array([0, 0, 0, 0, 0, 0, 0, 0, 0, 0, 0, 0, 0, 0, 0, 0, 0, 0, 0, 0, 0, 0,\n",
              "       0, 0, 0, 0, 0, 0, 0, 0, 0, 0, 0, 0, 0, 0, 0, 0, 0, 0, 0, 0, 0, 0,\n",
              "       1, 1, 1, 1, 1, 1, 1, 1, 1, 1, 1, 1, 1, 1, 1, 1, 1, 1, 1, 1, 1, 1,\n",
              "       1, 1, 1, 1, 1, 1, 1, 1, 1, 1, 1, 1, 1, 1, 1, 1, 1, 1, 1, 1, 1, 1,\n",
              "       1, 2, 2, 2, 2, 2, 2, 2, 2, 2, 2, 2, 2, 2, 2, 2, 2, 2, 2, 2, 2, 2,\n",
              "       2, 2, 2, 2, 2, 2, 2, 2, 2, 2, 2, 2, 2, 2, 2, 2, 2, 2, 2, 2, 2, 2,\n",
              "       2]), metrics={'test_loss': 0.17503076791763306, 'test_accuracy': 0.9924812030075187, 'test_runtime': 3.4013, 'test_samples_per_second': 39.103, 'test_steps_per_second': 2.646})"
            ]
          },
          "metadata": {},
          "execution_count": 76
        }
      ]
    },
    {
      "cell_type": "code",
      "source": [
        "trainer.predict(beans_transformed['train'])"
      ],
      "metadata": {
        "colab": {
          "base_uri": "https://localhost:8080/",
          "height": 261
        },
        "id": "dVLkyIk6Gqpv",
        "outputId": "f2d106c0-e357-4531-8f8e-75ff619a76db"
      },
      "execution_count": 77,
      "outputs": [
        {
          "output_type": "display_data",
          "data": {
            "text/plain": [
              "<IPython.core.display.HTML object>"
            ],
            "text/html": [
              "\n",
              "    <div>\n",
              "      \n",
              "      <progress value='15' max='48' style='width:300px; height:20px; vertical-align: middle;'></progress>\n",
              "      [15/48 00:33 < 01:26, 0.38 it/s, Epoch 0.86/3]\n",
              "    </div>\n",
              "    <table border=\"1\" class=\"dataframe\">\n",
              "  <thead>\n",
              " <tr style=\"text-align: left;\">\n",
              "      <th>Epoch</th>\n",
              "      <th>Training Loss</th>\n",
              "      <th>Validation Loss</th>\n",
              "    </tr>\n",
              "  </thead>\n",
              "  <tbody>\n",
              "  </tbody>\n",
              "</table><p>\n",
              "    <div>\n",
              "      \n",
              "      <progress value='65' max='65' style='width:300px; height:20px; vertical-align: middle;'></progress>\n",
              "      [65/65 00:24]\n",
              "    </div>\n",
              "    "
            ]
          },
          "metadata": {}
        },
        {
          "output_type": "execute_result",
          "data": {
            "text/plain": [
              "PredictionOutput(predictions=array([[ 1.7644843 , -0.19525261, -1.2971038 ],\n",
              "       [ 0.9244202 ,  0.7174584 , -1.2946124 ],\n",
              "       [ 1.8386614 , -0.50805205, -1.0686916 ],\n",
              "       ...,\n",
              "       [-1.1940371 , -1.1341105 ,  1.8119662 ],\n",
              "       [-1.1127908 , -1.2361574 ,  1.8518451 ],\n",
              "       [-1.291438  , -1.0782846 ,  1.7906755 ]], dtype=float32), label_ids=array([0, 0, 0, ..., 2, 2, 2]), metrics={'test_loss': 0.20515252649784088, 'test_accuracy': 0.9642166344294004, 'test_runtime': 24.834, 'test_samples_per_second': 41.637, 'test_steps_per_second': 2.617})"
            ]
          },
          "metadata": {},
          "execution_count": 77
        }
      ]
    },
    {
      "cell_type": "code",
      "source": [
        "type((beans_transformed['test']))"
      ],
      "metadata": {
        "colab": {
          "base_uri": "https://localhost:8080/",
          "height": 139
        },
        "id": "xCo7VEAFGrZX",
        "outputId": "8369e3aa-1b6e-449f-8fe7-0948ff189daa"
      },
      "execution_count": 78,
      "outputs": [
        {
          "output_type": "execute_result",
          "data": {
            "text/plain": [
              "datasets.arrow_dataset.Dataset"
            ],
            "text/html": [
              "<div style=\"max-width:800px; border: 1px solid var(--colab-border-color);\"><style>\n",
              "      pre.function-repr-contents {\n",
              "        overflow-x: auto;\n",
              "        padding: 8px 12px;\n",
              "        max-height: 500px;\n",
              "      }\n",
              "\n",
              "      pre.function-repr-contents.function-repr-contents-collapsed {\n",
              "        cursor: pointer;\n",
              "        max-height: 100px;\n",
              "      }\n",
              "    </style>\n",
              "    <pre style=\"white-space: initial; background:\n",
              "         var(--colab-secondary-surface-color); padding: 8px 12px;\n",
              "         border-bottom: 1px solid var(--colab-border-color);\"><b>datasets.arrow_dataset.Dataset</b><br/>def __init__(arrow_table: Table, info: Optional[DatasetInfo]=None, split: Optional[NamedSplit]=None, indices_table: Optional[Table]=None, fingerprint: Optional[str]=None)</pre><pre class=\"function-repr-contents function-repr-contents-collapsed\" style=\"\"><a class=\"filepath\" style=\"display:none\" href=\"#\">/usr/local/lib/python3.10/dist-packages/datasets/arrow_dataset.py</a>A Dataset backed by an Arrow table.</pre>\n",
              "      <script>\n",
              "      if (google.colab.kernel.accessAllowed && google.colab.files && google.colab.files.view) {\n",
              "        for (const element of document.querySelectorAll('.filepath')) {\n",
              "          element.style.display = 'block'\n",
              "          element.onclick = (event) => {\n",
              "            event.preventDefault();\n",
              "            event.stopPropagation();\n",
              "            google.colab.files.view(element.textContent, 631);\n",
              "          };\n",
              "        }\n",
              "      }\n",
              "      for (const element of document.querySelectorAll('.function-repr-contents')) {\n",
              "        element.onclick = (event) => {\n",
              "          event.preventDefault();\n",
              "          event.stopPropagation();\n",
              "          element.classList.toggle('function-repr-contents-collapsed');\n",
              "        };\n",
              "      }\n",
              "      </script>\n",
              "      </div>"
            ]
          },
          "metadata": {},
          "execution_count": 78
        }
      ]
    },
    {
      "cell_type": "code",
      "source": [
        "이미지 = beans['train'][10]"
      ],
      "metadata": {
        "id": "_Ri9gzWeGvzP"
      },
      "execution_count": 79,
      "outputs": []
    },
    {
      "cell_type": "code",
      "source": [
        "우악 = data_collator([beans_transformed['train'][0]])['pixel_values']"
      ],
      "metadata": {
        "id": "WGvrXgP3HJpR"
      },
      "execution_count": 90,
      "outputs": []
    },
    {
      "cell_type": "code",
      "source": [
        "model(data_collator([beans_transformed['train'][0]])['pixel_values'])"
      ],
      "metadata": {
        "colab": {
          "base_uri": "https://localhost:8080/",
          "height": 318
        },
        "id": "gvzLRITaHrZp",
        "outputId": "3711e764-e887-4fd1-c7f9-76b0208478f6"
      },
      "execution_count": 89,
      "outputs": [
        {
          "output_type": "error",
          "ename": "RuntimeError",
          "evalue": "Input type (torch.FloatTensor) and weight type (torch.cuda.FloatTensor) should be the same or input should be a MKLDNN tensor and weight is a dense tensor",
          "traceback": [
            "\u001b[0;31m---------------------------------------------------------------------------\u001b[0m",
            "\u001b[0;31mRuntimeError\u001b[0m                              Traceback (most recent call last)",
            "\u001b[0;32m<ipython-input-89-f63d552aa75f>\u001b[0m in \u001b[0;36m<cell line: 1>\u001b[0;34m()\u001b[0m\n\u001b[0;32m----> 1\u001b[0;31m \u001b[0mmodel\u001b[0m\u001b[0;34m(\u001b[0m\u001b[0mdata_collator\u001b[0m\u001b[0;34m(\u001b[0m\u001b[0;34m[\u001b[0m\u001b[0mbeans_transformed\u001b[0m\u001b[0;34m[\u001b[0m\u001b[0;34m'train'\u001b[0m\u001b[0;34m]\u001b[0m\u001b[0;34m[\u001b[0m\u001b[0;36m0\u001b[0m\u001b[0;34m]\u001b[0m\u001b[0;34m]\u001b[0m\u001b[0;34m)\u001b[0m\u001b[0;34m[\u001b[0m\u001b[0;34m'pixel_values'\u001b[0m\u001b[0;34m]\u001b[0m\u001b[0;34m)\u001b[0m\u001b[0;34m\u001b[0m\u001b[0;34m\u001b[0m\u001b[0m\n\u001b[0m",
            "\u001b[0;32m/usr/local/lib/python3.10/dist-packages/torch/nn/modules/module.py\u001b[0m in \u001b[0;36m_wrapped_call_impl\u001b[0;34m(self, *args, **kwargs)\u001b[0m\n\u001b[1;32m   1551\u001b[0m             \u001b[0;32mreturn\u001b[0m \u001b[0mself\u001b[0m\u001b[0;34m.\u001b[0m\u001b[0m_compiled_call_impl\u001b[0m\u001b[0;34m(\u001b[0m\u001b[0;34m*\u001b[0m\u001b[0margs\u001b[0m\u001b[0;34m,\u001b[0m \u001b[0;34m**\u001b[0m\u001b[0mkwargs\u001b[0m\u001b[0;34m)\u001b[0m  \u001b[0;31m# type: ignore[misc]\u001b[0m\u001b[0;34m\u001b[0m\u001b[0;34m\u001b[0m\u001b[0m\n\u001b[1;32m   1552\u001b[0m         \u001b[0;32melse\u001b[0m\u001b[0;34m:\u001b[0m\u001b[0;34m\u001b[0m\u001b[0;34m\u001b[0m\u001b[0m\n\u001b[0;32m-> 1553\u001b[0;31m             \u001b[0;32mreturn\u001b[0m \u001b[0mself\u001b[0m\u001b[0;34m.\u001b[0m\u001b[0m_call_impl\u001b[0m\u001b[0;34m(\u001b[0m\u001b[0;34m*\u001b[0m\u001b[0margs\u001b[0m\u001b[0;34m,\u001b[0m \u001b[0;34m**\u001b[0m\u001b[0mkwargs\u001b[0m\u001b[0;34m)\u001b[0m\u001b[0;34m\u001b[0m\u001b[0;34m\u001b[0m\u001b[0m\n\u001b[0m\u001b[1;32m   1554\u001b[0m \u001b[0;34m\u001b[0m\u001b[0m\n\u001b[1;32m   1555\u001b[0m     \u001b[0;32mdef\u001b[0m \u001b[0m_call_impl\u001b[0m\u001b[0;34m(\u001b[0m\u001b[0mself\u001b[0m\u001b[0;34m,\u001b[0m \u001b[0;34m*\u001b[0m\u001b[0margs\u001b[0m\u001b[0;34m,\u001b[0m \u001b[0;34m**\u001b[0m\u001b[0mkwargs\u001b[0m\u001b[0;34m)\u001b[0m\u001b[0;34m:\u001b[0m\u001b[0;34m\u001b[0m\u001b[0;34m\u001b[0m\u001b[0m\n",
            "\u001b[0;32m/usr/local/lib/python3.10/dist-packages/torch/nn/modules/module.py\u001b[0m in \u001b[0;36m_call_impl\u001b[0;34m(self, *args, **kwargs)\u001b[0m\n\u001b[1;32m   1560\u001b[0m                 \u001b[0;32mor\u001b[0m \u001b[0m_global_backward_pre_hooks\u001b[0m \u001b[0;32mor\u001b[0m \u001b[0m_global_backward_hooks\u001b[0m\u001b[0;34m\u001b[0m\u001b[0;34m\u001b[0m\u001b[0m\n\u001b[1;32m   1561\u001b[0m                 or _global_forward_hooks or _global_forward_pre_hooks):\n\u001b[0;32m-> 1562\u001b[0;31m             \u001b[0;32mreturn\u001b[0m \u001b[0mforward_call\u001b[0m\u001b[0;34m(\u001b[0m\u001b[0;34m*\u001b[0m\u001b[0margs\u001b[0m\u001b[0;34m,\u001b[0m \u001b[0;34m**\u001b[0m\u001b[0mkwargs\u001b[0m\u001b[0;34m)\u001b[0m\u001b[0;34m\u001b[0m\u001b[0;34m\u001b[0m\u001b[0m\n\u001b[0m\u001b[1;32m   1563\u001b[0m \u001b[0;34m\u001b[0m\u001b[0m\n\u001b[1;32m   1564\u001b[0m         \u001b[0;32mtry\u001b[0m\u001b[0;34m:\u001b[0m\u001b[0;34m\u001b[0m\u001b[0;34m\u001b[0m\u001b[0m\n",
            "\u001b[0;32m/usr/local/lib/python3.10/dist-packages/transformers/models/vit/modeling_vit.py\u001b[0m in \u001b[0;36mforward\u001b[0;34m(self, pixel_values, head_mask, labels, output_attentions, output_hidden_states, interpolate_pos_encoding, return_dict)\u001b[0m\n\u001b[1;32m    829\u001b[0m         \u001b[0mreturn_dict\u001b[0m \u001b[0;34m=\u001b[0m \u001b[0mreturn_dict\u001b[0m \u001b[0;32mif\u001b[0m \u001b[0mreturn_dict\u001b[0m \u001b[0;32mis\u001b[0m \u001b[0;32mnot\u001b[0m \u001b[0;32mNone\u001b[0m \u001b[0;32melse\u001b[0m \u001b[0mself\u001b[0m\u001b[0;34m.\u001b[0m\u001b[0mconfig\u001b[0m\u001b[0;34m.\u001b[0m\u001b[0muse_return_dict\u001b[0m\u001b[0;34m\u001b[0m\u001b[0;34m\u001b[0m\u001b[0m\n\u001b[1;32m    830\u001b[0m \u001b[0;34m\u001b[0m\u001b[0m\n\u001b[0;32m--> 831\u001b[0;31m         outputs = self.vit(\n\u001b[0m\u001b[1;32m    832\u001b[0m             \u001b[0mpixel_values\u001b[0m\u001b[0;34m,\u001b[0m\u001b[0;34m\u001b[0m\u001b[0;34m\u001b[0m\u001b[0m\n\u001b[1;32m    833\u001b[0m             \u001b[0mhead_mask\u001b[0m\u001b[0;34m=\u001b[0m\u001b[0mhead_mask\u001b[0m\u001b[0;34m,\u001b[0m\u001b[0;34m\u001b[0m\u001b[0;34m\u001b[0m\u001b[0m\n",
            "\u001b[0;32m/usr/local/lib/python3.10/dist-packages/torch/nn/modules/module.py\u001b[0m in \u001b[0;36m_wrapped_call_impl\u001b[0;34m(self, *args, **kwargs)\u001b[0m\n\u001b[1;32m   1551\u001b[0m             \u001b[0;32mreturn\u001b[0m \u001b[0mself\u001b[0m\u001b[0;34m.\u001b[0m\u001b[0m_compiled_call_impl\u001b[0m\u001b[0;34m(\u001b[0m\u001b[0;34m*\u001b[0m\u001b[0margs\u001b[0m\u001b[0;34m,\u001b[0m \u001b[0;34m**\u001b[0m\u001b[0mkwargs\u001b[0m\u001b[0;34m)\u001b[0m  \u001b[0;31m# type: ignore[misc]\u001b[0m\u001b[0;34m\u001b[0m\u001b[0;34m\u001b[0m\u001b[0m\n\u001b[1;32m   1552\u001b[0m         \u001b[0;32melse\u001b[0m\u001b[0;34m:\u001b[0m\u001b[0;34m\u001b[0m\u001b[0;34m\u001b[0m\u001b[0m\n\u001b[0;32m-> 1553\u001b[0;31m             \u001b[0;32mreturn\u001b[0m \u001b[0mself\u001b[0m\u001b[0;34m.\u001b[0m\u001b[0m_call_impl\u001b[0m\u001b[0;34m(\u001b[0m\u001b[0;34m*\u001b[0m\u001b[0margs\u001b[0m\u001b[0;34m,\u001b[0m \u001b[0;34m**\u001b[0m\u001b[0mkwargs\u001b[0m\u001b[0;34m)\u001b[0m\u001b[0;34m\u001b[0m\u001b[0;34m\u001b[0m\u001b[0m\n\u001b[0m\u001b[1;32m   1554\u001b[0m \u001b[0;34m\u001b[0m\u001b[0m\n\u001b[1;32m   1555\u001b[0m     \u001b[0;32mdef\u001b[0m \u001b[0m_call_impl\u001b[0m\u001b[0;34m(\u001b[0m\u001b[0mself\u001b[0m\u001b[0;34m,\u001b[0m \u001b[0;34m*\u001b[0m\u001b[0margs\u001b[0m\u001b[0;34m,\u001b[0m \u001b[0;34m**\u001b[0m\u001b[0mkwargs\u001b[0m\u001b[0;34m)\u001b[0m\u001b[0;34m:\u001b[0m\u001b[0;34m\u001b[0m\u001b[0;34m\u001b[0m\u001b[0m\n",
            "\u001b[0;32m/usr/local/lib/python3.10/dist-packages/torch/nn/modules/module.py\u001b[0m in \u001b[0;36m_call_impl\u001b[0;34m(self, *args, **kwargs)\u001b[0m\n\u001b[1;32m   1560\u001b[0m                 \u001b[0;32mor\u001b[0m \u001b[0m_global_backward_pre_hooks\u001b[0m \u001b[0;32mor\u001b[0m \u001b[0m_global_backward_hooks\u001b[0m\u001b[0;34m\u001b[0m\u001b[0;34m\u001b[0m\u001b[0m\n\u001b[1;32m   1561\u001b[0m                 or _global_forward_hooks or _global_forward_pre_hooks):\n\u001b[0;32m-> 1562\u001b[0;31m             \u001b[0;32mreturn\u001b[0m \u001b[0mforward_call\u001b[0m\u001b[0;34m(\u001b[0m\u001b[0;34m*\u001b[0m\u001b[0margs\u001b[0m\u001b[0;34m,\u001b[0m \u001b[0;34m**\u001b[0m\u001b[0mkwargs\u001b[0m\u001b[0;34m)\u001b[0m\u001b[0;34m\u001b[0m\u001b[0;34m\u001b[0m\u001b[0m\n\u001b[0m\u001b[1;32m   1563\u001b[0m \u001b[0;34m\u001b[0m\u001b[0m\n\u001b[1;32m   1564\u001b[0m         \u001b[0;32mtry\u001b[0m\u001b[0;34m:\u001b[0m\u001b[0;34m\u001b[0m\u001b[0;34m\u001b[0m\u001b[0m\n",
            "\u001b[0;32m/usr/local/lib/python3.10/dist-packages/transformers/models/vit/modeling_vit.py\u001b[0m in \u001b[0;36mforward\u001b[0;34m(self, pixel_values, bool_masked_pos, head_mask, output_attentions, output_hidden_states, interpolate_pos_encoding, return_dict)\u001b[0m\n\u001b[1;32m    608\u001b[0m             \u001b[0mpixel_values\u001b[0m \u001b[0;34m=\u001b[0m \u001b[0mpixel_values\u001b[0m\u001b[0;34m.\u001b[0m\u001b[0mto\u001b[0m\u001b[0;34m(\u001b[0m\u001b[0mexpected_dtype\u001b[0m\u001b[0;34m)\u001b[0m\u001b[0;34m\u001b[0m\u001b[0;34m\u001b[0m\u001b[0m\n\u001b[1;32m    609\u001b[0m \u001b[0;34m\u001b[0m\u001b[0m\n\u001b[0;32m--> 610\u001b[0;31m         embedding_output = self.embeddings(\n\u001b[0m\u001b[1;32m    611\u001b[0m             \u001b[0mpixel_values\u001b[0m\u001b[0;34m,\u001b[0m \u001b[0mbool_masked_pos\u001b[0m\u001b[0;34m=\u001b[0m\u001b[0mbool_masked_pos\u001b[0m\u001b[0;34m,\u001b[0m \u001b[0minterpolate_pos_encoding\u001b[0m\u001b[0;34m=\u001b[0m\u001b[0minterpolate_pos_encoding\u001b[0m\u001b[0;34m\u001b[0m\u001b[0;34m\u001b[0m\u001b[0m\n\u001b[1;32m    612\u001b[0m         )\n",
            "\u001b[0;32m/usr/local/lib/python3.10/dist-packages/torch/nn/modules/module.py\u001b[0m in \u001b[0;36m_wrapped_call_impl\u001b[0;34m(self, *args, **kwargs)\u001b[0m\n\u001b[1;32m   1551\u001b[0m             \u001b[0;32mreturn\u001b[0m \u001b[0mself\u001b[0m\u001b[0;34m.\u001b[0m\u001b[0m_compiled_call_impl\u001b[0m\u001b[0;34m(\u001b[0m\u001b[0;34m*\u001b[0m\u001b[0margs\u001b[0m\u001b[0;34m,\u001b[0m \u001b[0;34m**\u001b[0m\u001b[0mkwargs\u001b[0m\u001b[0;34m)\u001b[0m  \u001b[0;31m# type: ignore[misc]\u001b[0m\u001b[0;34m\u001b[0m\u001b[0;34m\u001b[0m\u001b[0m\n\u001b[1;32m   1552\u001b[0m         \u001b[0;32melse\u001b[0m\u001b[0;34m:\u001b[0m\u001b[0;34m\u001b[0m\u001b[0;34m\u001b[0m\u001b[0m\n\u001b[0;32m-> 1553\u001b[0;31m             \u001b[0;32mreturn\u001b[0m \u001b[0mself\u001b[0m\u001b[0;34m.\u001b[0m\u001b[0m_call_impl\u001b[0m\u001b[0;34m(\u001b[0m\u001b[0;34m*\u001b[0m\u001b[0margs\u001b[0m\u001b[0;34m,\u001b[0m \u001b[0;34m**\u001b[0m\u001b[0mkwargs\u001b[0m\u001b[0;34m)\u001b[0m\u001b[0;34m\u001b[0m\u001b[0;34m\u001b[0m\u001b[0m\n\u001b[0m\u001b[1;32m   1554\u001b[0m \u001b[0;34m\u001b[0m\u001b[0m\n\u001b[1;32m   1555\u001b[0m     \u001b[0;32mdef\u001b[0m \u001b[0m_call_impl\u001b[0m\u001b[0;34m(\u001b[0m\u001b[0mself\u001b[0m\u001b[0;34m,\u001b[0m \u001b[0;34m*\u001b[0m\u001b[0margs\u001b[0m\u001b[0;34m,\u001b[0m \u001b[0;34m**\u001b[0m\u001b[0mkwargs\u001b[0m\u001b[0;34m)\u001b[0m\u001b[0;34m:\u001b[0m\u001b[0;34m\u001b[0m\u001b[0;34m\u001b[0m\u001b[0m\n",
            "\u001b[0;32m/usr/local/lib/python3.10/dist-packages/torch/nn/modules/module.py\u001b[0m in \u001b[0;36m_call_impl\u001b[0;34m(self, *args, **kwargs)\u001b[0m\n\u001b[1;32m   1560\u001b[0m                 \u001b[0;32mor\u001b[0m \u001b[0m_global_backward_pre_hooks\u001b[0m \u001b[0;32mor\u001b[0m \u001b[0m_global_backward_hooks\u001b[0m\u001b[0;34m\u001b[0m\u001b[0;34m\u001b[0m\u001b[0m\n\u001b[1;32m   1561\u001b[0m                 or _global_forward_hooks or _global_forward_pre_hooks):\n\u001b[0;32m-> 1562\u001b[0;31m             \u001b[0;32mreturn\u001b[0m \u001b[0mforward_call\u001b[0m\u001b[0;34m(\u001b[0m\u001b[0;34m*\u001b[0m\u001b[0margs\u001b[0m\u001b[0;34m,\u001b[0m \u001b[0;34m**\u001b[0m\u001b[0mkwargs\u001b[0m\u001b[0;34m)\u001b[0m\u001b[0;34m\u001b[0m\u001b[0;34m\u001b[0m\u001b[0m\n\u001b[0m\u001b[1;32m   1563\u001b[0m \u001b[0;34m\u001b[0m\u001b[0m\n\u001b[1;32m   1564\u001b[0m         \u001b[0;32mtry\u001b[0m\u001b[0;34m:\u001b[0m\u001b[0;34m\u001b[0m\u001b[0;34m\u001b[0m\u001b[0m\n",
            "\u001b[0;32m/usr/local/lib/python3.10/dist-packages/transformers/models/vit/modeling_vit.py\u001b[0m in \u001b[0;36mforward\u001b[0;34m(self, pixel_values, bool_masked_pos, interpolate_pos_encoding)\u001b[0m\n\u001b[1;32m    113\u001b[0m     ) -> torch.Tensor:\n\u001b[1;32m    114\u001b[0m         \u001b[0mbatch_size\u001b[0m\u001b[0;34m,\u001b[0m \u001b[0mnum_channels\u001b[0m\u001b[0;34m,\u001b[0m \u001b[0mheight\u001b[0m\u001b[0;34m,\u001b[0m \u001b[0mwidth\u001b[0m \u001b[0;34m=\u001b[0m \u001b[0mpixel_values\u001b[0m\u001b[0;34m.\u001b[0m\u001b[0mshape\u001b[0m\u001b[0;34m\u001b[0m\u001b[0;34m\u001b[0m\u001b[0m\n\u001b[0;32m--> 115\u001b[0;31m         \u001b[0membeddings\u001b[0m \u001b[0;34m=\u001b[0m \u001b[0mself\u001b[0m\u001b[0;34m.\u001b[0m\u001b[0mpatch_embeddings\u001b[0m\u001b[0;34m(\u001b[0m\u001b[0mpixel_values\u001b[0m\u001b[0;34m,\u001b[0m \u001b[0minterpolate_pos_encoding\u001b[0m\u001b[0;34m=\u001b[0m\u001b[0minterpolate_pos_encoding\u001b[0m\u001b[0;34m)\u001b[0m\u001b[0;34m\u001b[0m\u001b[0;34m\u001b[0m\u001b[0m\n\u001b[0m\u001b[1;32m    116\u001b[0m \u001b[0;34m\u001b[0m\u001b[0m\n\u001b[1;32m    117\u001b[0m         \u001b[0;32mif\u001b[0m \u001b[0mbool_masked_pos\u001b[0m \u001b[0;32mis\u001b[0m \u001b[0;32mnot\u001b[0m \u001b[0;32mNone\u001b[0m\u001b[0;34m:\u001b[0m\u001b[0;34m\u001b[0m\u001b[0;34m\u001b[0m\u001b[0m\n",
            "\u001b[0;32m/usr/local/lib/python3.10/dist-packages/torch/nn/modules/module.py\u001b[0m in \u001b[0;36m_wrapped_call_impl\u001b[0;34m(self, *args, **kwargs)\u001b[0m\n\u001b[1;32m   1551\u001b[0m             \u001b[0;32mreturn\u001b[0m \u001b[0mself\u001b[0m\u001b[0;34m.\u001b[0m\u001b[0m_compiled_call_impl\u001b[0m\u001b[0;34m(\u001b[0m\u001b[0;34m*\u001b[0m\u001b[0margs\u001b[0m\u001b[0;34m,\u001b[0m \u001b[0;34m**\u001b[0m\u001b[0mkwargs\u001b[0m\u001b[0;34m)\u001b[0m  \u001b[0;31m# type: ignore[misc]\u001b[0m\u001b[0;34m\u001b[0m\u001b[0;34m\u001b[0m\u001b[0m\n\u001b[1;32m   1552\u001b[0m         \u001b[0;32melse\u001b[0m\u001b[0;34m:\u001b[0m\u001b[0;34m\u001b[0m\u001b[0;34m\u001b[0m\u001b[0m\n\u001b[0;32m-> 1553\u001b[0;31m             \u001b[0;32mreturn\u001b[0m \u001b[0mself\u001b[0m\u001b[0;34m.\u001b[0m\u001b[0m_call_impl\u001b[0m\u001b[0;34m(\u001b[0m\u001b[0;34m*\u001b[0m\u001b[0margs\u001b[0m\u001b[0;34m,\u001b[0m \u001b[0;34m**\u001b[0m\u001b[0mkwargs\u001b[0m\u001b[0;34m)\u001b[0m\u001b[0;34m\u001b[0m\u001b[0;34m\u001b[0m\u001b[0m\n\u001b[0m\u001b[1;32m   1554\u001b[0m \u001b[0;34m\u001b[0m\u001b[0m\n\u001b[1;32m   1555\u001b[0m     \u001b[0;32mdef\u001b[0m \u001b[0m_call_impl\u001b[0m\u001b[0;34m(\u001b[0m\u001b[0mself\u001b[0m\u001b[0;34m,\u001b[0m \u001b[0;34m*\u001b[0m\u001b[0margs\u001b[0m\u001b[0;34m,\u001b[0m \u001b[0;34m**\u001b[0m\u001b[0mkwargs\u001b[0m\u001b[0;34m)\u001b[0m\u001b[0;34m:\u001b[0m\u001b[0;34m\u001b[0m\u001b[0;34m\u001b[0m\u001b[0m\n",
            "\u001b[0;32m/usr/local/lib/python3.10/dist-packages/torch/nn/modules/module.py\u001b[0m in \u001b[0;36m_call_impl\u001b[0;34m(self, *args, **kwargs)\u001b[0m\n\u001b[1;32m   1560\u001b[0m                 \u001b[0;32mor\u001b[0m \u001b[0m_global_backward_pre_hooks\u001b[0m \u001b[0;32mor\u001b[0m \u001b[0m_global_backward_hooks\u001b[0m\u001b[0;34m\u001b[0m\u001b[0;34m\u001b[0m\u001b[0m\n\u001b[1;32m   1561\u001b[0m                 or _global_forward_hooks or _global_forward_pre_hooks):\n\u001b[0;32m-> 1562\u001b[0;31m             \u001b[0;32mreturn\u001b[0m \u001b[0mforward_call\u001b[0m\u001b[0;34m(\u001b[0m\u001b[0;34m*\u001b[0m\u001b[0margs\u001b[0m\u001b[0;34m,\u001b[0m \u001b[0;34m**\u001b[0m\u001b[0mkwargs\u001b[0m\u001b[0;34m)\u001b[0m\u001b[0;34m\u001b[0m\u001b[0;34m\u001b[0m\u001b[0m\n\u001b[0m\u001b[1;32m   1563\u001b[0m \u001b[0;34m\u001b[0m\u001b[0m\n\u001b[1;32m   1564\u001b[0m         \u001b[0;32mtry\u001b[0m\u001b[0;34m:\u001b[0m\u001b[0;34m\u001b[0m\u001b[0;34m\u001b[0m\u001b[0m\n",
            "\u001b[0;32m/usr/local/lib/python3.10/dist-packages/transformers/models/vit/modeling_vit.py\u001b[0m in \u001b[0;36mforward\u001b[0;34m(self, pixel_values, interpolate_pos_encoding)\u001b[0m\n\u001b[1;32m    172\u001b[0m                     \u001b[0;34mf\" ({self.image_size[0]}*{self.image_size[1]}).\"\u001b[0m\u001b[0;34m\u001b[0m\u001b[0;34m\u001b[0m\u001b[0m\n\u001b[1;32m    173\u001b[0m                 )\n\u001b[0;32m--> 174\u001b[0;31m         \u001b[0membeddings\u001b[0m \u001b[0;34m=\u001b[0m \u001b[0mself\u001b[0m\u001b[0;34m.\u001b[0m\u001b[0mprojection\u001b[0m\u001b[0;34m(\u001b[0m\u001b[0mpixel_values\u001b[0m\u001b[0;34m)\u001b[0m\u001b[0;34m.\u001b[0m\u001b[0mflatten\u001b[0m\u001b[0;34m(\u001b[0m\u001b[0;36m2\u001b[0m\u001b[0;34m)\u001b[0m\u001b[0;34m.\u001b[0m\u001b[0mtranspose\u001b[0m\u001b[0;34m(\u001b[0m\u001b[0;36m1\u001b[0m\u001b[0;34m,\u001b[0m \u001b[0;36m2\u001b[0m\u001b[0;34m)\u001b[0m\u001b[0;34m\u001b[0m\u001b[0;34m\u001b[0m\u001b[0m\n\u001b[0m\u001b[1;32m    175\u001b[0m         \u001b[0;32mreturn\u001b[0m \u001b[0membeddings\u001b[0m\u001b[0;34m\u001b[0m\u001b[0;34m\u001b[0m\u001b[0m\n\u001b[1;32m    176\u001b[0m \u001b[0;34m\u001b[0m\u001b[0m\n",
            "\u001b[0;32m/usr/local/lib/python3.10/dist-packages/torch/nn/modules/module.py\u001b[0m in \u001b[0;36m_wrapped_call_impl\u001b[0;34m(self, *args, **kwargs)\u001b[0m\n\u001b[1;32m   1551\u001b[0m             \u001b[0;32mreturn\u001b[0m \u001b[0mself\u001b[0m\u001b[0;34m.\u001b[0m\u001b[0m_compiled_call_impl\u001b[0m\u001b[0;34m(\u001b[0m\u001b[0;34m*\u001b[0m\u001b[0margs\u001b[0m\u001b[0;34m,\u001b[0m \u001b[0;34m**\u001b[0m\u001b[0mkwargs\u001b[0m\u001b[0;34m)\u001b[0m  \u001b[0;31m# type: ignore[misc]\u001b[0m\u001b[0;34m\u001b[0m\u001b[0;34m\u001b[0m\u001b[0m\n\u001b[1;32m   1552\u001b[0m         \u001b[0;32melse\u001b[0m\u001b[0;34m:\u001b[0m\u001b[0;34m\u001b[0m\u001b[0;34m\u001b[0m\u001b[0m\n\u001b[0;32m-> 1553\u001b[0;31m             \u001b[0;32mreturn\u001b[0m \u001b[0mself\u001b[0m\u001b[0;34m.\u001b[0m\u001b[0m_call_impl\u001b[0m\u001b[0;34m(\u001b[0m\u001b[0;34m*\u001b[0m\u001b[0margs\u001b[0m\u001b[0;34m,\u001b[0m \u001b[0;34m**\u001b[0m\u001b[0mkwargs\u001b[0m\u001b[0;34m)\u001b[0m\u001b[0;34m\u001b[0m\u001b[0;34m\u001b[0m\u001b[0m\n\u001b[0m\u001b[1;32m   1554\u001b[0m \u001b[0;34m\u001b[0m\u001b[0m\n\u001b[1;32m   1555\u001b[0m     \u001b[0;32mdef\u001b[0m \u001b[0m_call_impl\u001b[0m\u001b[0;34m(\u001b[0m\u001b[0mself\u001b[0m\u001b[0;34m,\u001b[0m \u001b[0;34m*\u001b[0m\u001b[0margs\u001b[0m\u001b[0;34m,\u001b[0m \u001b[0;34m**\u001b[0m\u001b[0mkwargs\u001b[0m\u001b[0;34m)\u001b[0m\u001b[0;34m:\u001b[0m\u001b[0;34m\u001b[0m\u001b[0;34m\u001b[0m\u001b[0m\n",
            "\u001b[0;32m/usr/local/lib/python3.10/dist-packages/torch/nn/modules/module.py\u001b[0m in \u001b[0;36m_call_impl\u001b[0;34m(self, *args, **kwargs)\u001b[0m\n\u001b[1;32m   1560\u001b[0m                 \u001b[0;32mor\u001b[0m \u001b[0m_global_backward_pre_hooks\u001b[0m \u001b[0;32mor\u001b[0m \u001b[0m_global_backward_hooks\u001b[0m\u001b[0;34m\u001b[0m\u001b[0;34m\u001b[0m\u001b[0m\n\u001b[1;32m   1561\u001b[0m                 or _global_forward_hooks or _global_forward_pre_hooks):\n\u001b[0;32m-> 1562\u001b[0;31m             \u001b[0;32mreturn\u001b[0m \u001b[0mforward_call\u001b[0m\u001b[0;34m(\u001b[0m\u001b[0;34m*\u001b[0m\u001b[0margs\u001b[0m\u001b[0;34m,\u001b[0m \u001b[0;34m**\u001b[0m\u001b[0mkwargs\u001b[0m\u001b[0;34m)\u001b[0m\u001b[0;34m\u001b[0m\u001b[0;34m\u001b[0m\u001b[0m\n\u001b[0m\u001b[1;32m   1563\u001b[0m \u001b[0;34m\u001b[0m\u001b[0m\n\u001b[1;32m   1564\u001b[0m         \u001b[0;32mtry\u001b[0m\u001b[0;34m:\u001b[0m\u001b[0;34m\u001b[0m\u001b[0;34m\u001b[0m\u001b[0m\n",
            "\u001b[0;32m/usr/local/lib/python3.10/dist-packages/torch/nn/modules/conv.py\u001b[0m in \u001b[0;36mforward\u001b[0;34m(self, input)\u001b[0m\n\u001b[1;32m    456\u001b[0m \u001b[0;34m\u001b[0m\u001b[0m\n\u001b[1;32m    457\u001b[0m     \u001b[0;32mdef\u001b[0m \u001b[0mforward\u001b[0m\u001b[0;34m(\u001b[0m\u001b[0mself\u001b[0m\u001b[0;34m,\u001b[0m \u001b[0minput\u001b[0m\u001b[0;34m:\u001b[0m \u001b[0mTensor\u001b[0m\u001b[0;34m)\u001b[0m \u001b[0;34m->\u001b[0m \u001b[0mTensor\u001b[0m\u001b[0;34m:\u001b[0m\u001b[0;34m\u001b[0m\u001b[0;34m\u001b[0m\u001b[0m\n\u001b[0;32m--> 458\u001b[0;31m         \u001b[0;32mreturn\u001b[0m \u001b[0mself\u001b[0m\u001b[0;34m.\u001b[0m\u001b[0m_conv_forward\u001b[0m\u001b[0;34m(\u001b[0m\u001b[0minput\u001b[0m\u001b[0;34m,\u001b[0m \u001b[0mself\u001b[0m\u001b[0;34m.\u001b[0m\u001b[0mweight\u001b[0m\u001b[0;34m,\u001b[0m \u001b[0mself\u001b[0m\u001b[0;34m.\u001b[0m\u001b[0mbias\u001b[0m\u001b[0;34m)\u001b[0m\u001b[0;34m\u001b[0m\u001b[0;34m\u001b[0m\u001b[0m\n\u001b[0m\u001b[1;32m    459\u001b[0m \u001b[0;34m\u001b[0m\u001b[0m\n\u001b[1;32m    460\u001b[0m \u001b[0;32mclass\u001b[0m \u001b[0mConv3d\u001b[0m\u001b[0;34m(\u001b[0m\u001b[0m_ConvNd\u001b[0m\u001b[0;34m)\u001b[0m\u001b[0;34m:\u001b[0m\u001b[0;34m\u001b[0m\u001b[0;34m\u001b[0m\u001b[0m\n",
            "\u001b[0;32m/usr/local/lib/python3.10/dist-packages/torch/nn/modules/conv.py\u001b[0m in \u001b[0;36m_conv_forward\u001b[0;34m(self, input, weight, bias)\u001b[0m\n\u001b[1;32m    452\u001b[0m                             \u001b[0mweight\u001b[0m\u001b[0;34m,\u001b[0m \u001b[0mbias\u001b[0m\u001b[0;34m,\u001b[0m \u001b[0mself\u001b[0m\u001b[0;34m.\u001b[0m\u001b[0mstride\u001b[0m\u001b[0;34m,\u001b[0m\u001b[0;34m\u001b[0m\u001b[0;34m\u001b[0m\u001b[0m\n\u001b[1;32m    453\u001b[0m                             _pair(0), self.dilation, self.groups)\n\u001b[0;32m--> 454\u001b[0;31m         return F.conv2d(input, weight, bias, self.stride,\n\u001b[0m\u001b[1;32m    455\u001b[0m                         self.padding, self.dilation, self.groups)\n\u001b[1;32m    456\u001b[0m \u001b[0;34m\u001b[0m\u001b[0m\n",
            "\u001b[0;31mRuntimeError\u001b[0m: Input type (torch.FloatTensor) and weight type (torch.cuda.FloatTensor) should be the same or input should be a MKLDNN tensor and weight is a dense tensor"
          ]
        }
      ]
    },
    {
      "cell_type": "code",
      "source": [
        "trainer.predict(우악)"
      ],
      "metadata": {
        "colab": {
          "base_uri": "https://localhost:8080/",
          "height": 318
        },
        "id": "Fve3zbSbHWnT",
        "outputId": "531da205-9752-47be-efbe-49dd7f58a674"
      },
      "execution_count": 93,
      "outputs": [
        {
          "output_type": "error",
          "ename": "TypeError",
          "evalue": "can only join an iterable",
          "traceback": [
            "\u001b[0;31m---------------------------------------------------------------------------\u001b[0m",
            "\u001b[0;31mTypeError\u001b[0m                                 Traceback (most recent call last)",
            "\u001b[0;32m<ipython-input-93-263320c20e3f>\u001b[0m in \u001b[0;36m<cell line: 1>\u001b[0;34m()\u001b[0m\n\u001b[0;32m----> 1\u001b[0;31m \u001b[0mtrainer\u001b[0m\u001b[0;34m.\u001b[0m\u001b[0mpredict\u001b[0m\u001b[0;34m(\u001b[0m\u001b[0m우악\u001b[0m\u001b[0;34m)\u001b[0m\u001b[0;34m\u001b[0m\u001b[0;34m\u001b[0m\u001b[0m\n\u001b[0m",
            "\u001b[0;32m/usr/local/lib/python3.10/dist-packages/transformers/trainer.py\u001b[0m in \u001b[0;36mpredict\u001b[0;34m(self, test_dataset, ignore_keys, metric_key_prefix)\u001b[0m\n\u001b[1;32m   3742\u001b[0m \u001b[0;34m\u001b[0m\u001b[0m\n\u001b[1;32m   3743\u001b[0m         \u001b[0meval_loop\u001b[0m \u001b[0;34m=\u001b[0m \u001b[0mself\u001b[0m\u001b[0;34m.\u001b[0m\u001b[0mprediction_loop\u001b[0m \u001b[0;32mif\u001b[0m \u001b[0mself\u001b[0m\u001b[0;34m.\u001b[0m\u001b[0margs\u001b[0m\u001b[0;34m.\u001b[0m\u001b[0muse_legacy_prediction_loop\u001b[0m \u001b[0;32melse\u001b[0m \u001b[0mself\u001b[0m\u001b[0;34m.\u001b[0m\u001b[0mevaluation_loop\u001b[0m\u001b[0;34m\u001b[0m\u001b[0;34m\u001b[0m\u001b[0m\n\u001b[0;32m-> 3744\u001b[0;31m         output = eval_loop(\n\u001b[0m\u001b[1;32m   3745\u001b[0m             \u001b[0mtest_dataloader\u001b[0m\u001b[0;34m,\u001b[0m \u001b[0mdescription\u001b[0m\u001b[0;34m=\u001b[0m\u001b[0;34m\"Prediction\"\u001b[0m\u001b[0;34m,\u001b[0m \u001b[0mignore_keys\u001b[0m\u001b[0;34m=\u001b[0m\u001b[0mignore_keys\u001b[0m\u001b[0;34m,\u001b[0m \u001b[0mmetric_key_prefix\u001b[0m\u001b[0;34m=\u001b[0m\u001b[0mmetric_key_prefix\u001b[0m\u001b[0;34m\u001b[0m\u001b[0;34m\u001b[0m\u001b[0m\n\u001b[1;32m   3746\u001b[0m         )\n",
            "\u001b[0;32m/usr/local/lib/python3.10/dist-packages/transformers/trainer.py\u001b[0m in \u001b[0;36mevaluation_loop\u001b[0;34m(self, dataloader, description, prediction_loss_only, ignore_keys, metric_key_prefix)\u001b[0m\n\u001b[1;32m   3855\u001b[0m \u001b[0;34m\u001b[0m\u001b[0m\n\u001b[1;32m   3856\u001b[0m             \u001b[0;31m# Prediction step\u001b[0m\u001b[0;34m\u001b[0m\u001b[0;34m\u001b[0m\u001b[0m\n\u001b[0;32m-> 3857\u001b[0;31m             \u001b[0mlosses\u001b[0m\u001b[0;34m,\u001b[0m \u001b[0mlogits\u001b[0m\u001b[0;34m,\u001b[0m \u001b[0mlabels\u001b[0m \u001b[0;34m=\u001b[0m \u001b[0mself\u001b[0m\u001b[0;34m.\u001b[0m\u001b[0mprediction_step\u001b[0m\u001b[0;34m(\u001b[0m\u001b[0mmodel\u001b[0m\u001b[0;34m,\u001b[0m \u001b[0minputs\u001b[0m\u001b[0;34m,\u001b[0m \u001b[0mprediction_loss_only\u001b[0m\u001b[0;34m,\u001b[0m \u001b[0mignore_keys\u001b[0m\u001b[0;34m=\u001b[0m\u001b[0mignore_keys\u001b[0m\u001b[0;34m)\u001b[0m\u001b[0;34m\u001b[0m\u001b[0;34m\u001b[0m\u001b[0m\n\u001b[0m\u001b[1;32m   3858\u001b[0m             \u001b[0mmain_input_name\u001b[0m \u001b[0;34m=\u001b[0m \u001b[0mgetattr\u001b[0m\u001b[0;34m(\u001b[0m\u001b[0mself\u001b[0m\u001b[0;34m.\u001b[0m\u001b[0mmodel\u001b[0m\u001b[0;34m,\u001b[0m \u001b[0;34m\"main_input_name\"\u001b[0m\u001b[0;34m,\u001b[0m \u001b[0;34m\"input_ids\"\u001b[0m\u001b[0;34m)\u001b[0m\u001b[0;34m\u001b[0m\u001b[0;34m\u001b[0m\u001b[0m\n\u001b[1;32m   3859\u001b[0m             \u001b[0minputs_decode\u001b[0m \u001b[0;34m=\u001b[0m \u001b[0mself\u001b[0m\u001b[0;34m.\u001b[0m\u001b[0m_prepare_input\u001b[0m\u001b[0;34m(\u001b[0m\u001b[0minputs\u001b[0m\u001b[0;34m[\u001b[0m\u001b[0mmain_input_name\u001b[0m\u001b[0;34m]\u001b[0m\u001b[0;34m)\u001b[0m \u001b[0;32mif\u001b[0m \u001b[0margs\u001b[0m\u001b[0;34m.\u001b[0m\u001b[0minclude_inputs_for_metrics\u001b[0m \u001b[0;32melse\u001b[0m \u001b[0;32mNone\u001b[0m\u001b[0;34m\u001b[0m\u001b[0;34m\u001b[0m\u001b[0m\n",
            "\u001b[0;32m/usr/local/lib/python3.10/dist-packages/transformers/trainer.py\u001b[0m in \u001b[0;36mprediction_step\u001b[0;34m(self, model, inputs, prediction_loss_only, ignore_keys)\u001b[0m\n\u001b[1;32m   4035\u001b[0m         \u001b[0mloss_without_labels\u001b[0m \u001b[0;34m=\u001b[0m \u001b[0;32mTrue\u001b[0m \u001b[0;32mif\u001b[0m \u001b[0mlen\u001b[0m\u001b[0;34m(\u001b[0m\u001b[0mself\u001b[0m\u001b[0;34m.\u001b[0m\u001b[0mlabel_names\u001b[0m\u001b[0;34m)\u001b[0m \u001b[0;34m==\u001b[0m \u001b[0;36m0\u001b[0m \u001b[0;32mand\u001b[0m \u001b[0mreturn_loss\u001b[0m \u001b[0;32melse\u001b[0m \u001b[0;32mFalse\u001b[0m\u001b[0;34m\u001b[0m\u001b[0;34m\u001b[0m\u001b[0m\n\u001b[1;32m   4036\u001b[0m \u001b[0;34m\u001b[0m\u001b[0m\n\u001b[0;32m-> 4037\u001b[0;31m         \u001b[0minputs\u001b[0m \u001b[0;34m=\u001b[0m \u001b[0mself\u001b[0m\u001b[0;34m.\u001b[0m\u001b[0m_prepare_inputs\u001b[0m\u001b[0;34m(\u001b[0m\u001b[0minputs\u001b[0m\u001b[0;34m)\u001b[0m\u001b[0;34m\u001b[0m\u001b[0;34m\u001b[0m\u001b[0m\n\u001b[0m\u001b[1;32m   4038\u001b[0m         \u001b[0;32mif\u001b[0m \u001b[0mignore_keys\u001b[0m \u001b[0;32mis\u001b[0m \u001b[0;32mNone\u001b[0m\u001b[0;34m:\u001b[0m\u001b[0;34m\u001b[0m\u001b[0;34m\u001b[0m\u001b[0m\n\u001b[1;32m   4039\u001b[0m             \u001b[0;32mif\u001b[0m \u001b[0mhasattr\u001b[0m\u001b[0;34m(\u001b[0m\u001b[0mself\u001b[0m\u001b[0;34m.\u001b[0m\u001b[0mmodel\u001b[0m\u001b[0;34m,\u001b[0m \u001b[0;34m\"config\"\u001b[0m\u001b[0;34m)\u001b[0m\u001b[0;34m:\u001b[0m\u001b[0;34m\u001b[0m\u001b[0;34m\u001b[0m\u001b[0m\n",
            "\u001b[0;32m/usr/local/lib/python3.10/dist-packages/transformers/trainer.py\u001b[0m in \u001b[0;36m_prepare_inputs\u001b[0;34m(self, inputs)\u001b[0m\n\u001b[1;32m   3266\u001b[0m             raise ValueError(\n\u001b[1;32m   3267\u001b[0m                 \u001b[0;34m\"The batch received was empty, your model won't be able to train on it. Double-check that your \"\u001b[0m\u001b[0;34m\u001b[0m\u001b[0;34m\u001b[0m\u001b[0m\n\u001b[0;32m-> 3268\u001b[0;31m                 \u001b[0;34mf\"training dataset contains keys expected by the model: {','.join(self._signature_columns)}.\"\u001b[0m\u001b[0;34m\u001b[0m\u001b[0;34m\u001b[0m\u001b[0m\n\u001b[0m\u001b[1;32m   3269\u001b[0m             )\n\u001b[1;32m   3270\u001b[0m         \u001b[0;32mif\u001b[0m \u001b[0mself\u001b[0m\u001b[0;34m.\u001b[0m\u001b[0margs\u001b[0m\u001b[0;34m.\u001b[0m\u001b[0mpast_index\u001b[0m \u001b[0;34m>=\u001b[0m \u001b[0;36m0\u001b[0m \u001b[0;32mand\u001b[0m \u001b[0mself\u001b[0m\u001b[0;34m.\u001b[0m\u001b[0m_past\u001b[0m \u001b[0;32mis\u001b[0m \u001b[0;32mnot\u001b[0m \u001b[0;32mNone\u001b[0m\u001b[0;34m:\u001b[0m\u001b[0;34m\u001b[0m\u001b[0;34m\u001b[0m\u001b[0m\n",
            "\u001b[0;31mTypeError\u001b[0m: can only join an iterable"
          ]
        }
      ]
    },
    {
      "cell_type": "code",
      "source": [],
      "metadata": {
        "id": "WTLqUVMQH6yq"
      },
      "execution_count": null,
      "outputs": []
    }
  ]
}