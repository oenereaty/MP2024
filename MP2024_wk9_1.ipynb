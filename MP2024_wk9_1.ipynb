{
  "nbformat": 4,
  "nbformat_minor": 0,
  "metadata": {
    "colab": {
      "provenance": [],
      "gpuType": "T4",
      "authorship_tag": "ABX9TyMU87kMGQvdC+EPkX7durIo",
      "include_colab_link": true
    },
    "kernelspec": {
      "name": "python3",
      "display_name": "Python 3"
    },
    "language_info": {
      "name": "python"
    },
    "accelerator": "GPU",
    "widgets": {
      "application/vnd.jupyter.widget-state+json": {
        "a5ab3490c2c04cd6a6a097bbf96dd4c3": {
          "model_module": "@jupyter-widgets/controls",
          "model_name": "HBoxModel",
          "model_module_version": "1.5.0",
          "state": {
            "_dom_classes": [],
            "_model_module": "@jupyter-widgets/controls",
            "_model_module_version": "1.5.0",
            "_model_name": "HBoxModel",
            "_view_count": null,
            "_view_module": "@jupyter-widgets/controls",
            "_view_module_version": "1.5.0",
            "_view_name": "HBoxView",
            "box_style": "",
            "children": [
              "IPY_MODEL_0d72bd33108d463e898632d7387a873a",
              "IPY_MODEL_929dbe4f276946cdad4b0aec1443c1fa",
              "IPY_MODEL_517487920d7b406e8f49735a373b0a7d"
            ],
            "layout": "IPY_MODEL_f8cf866bac7340ab8d3a4bd00b5fb3e8"
          }
        },
        "0d72bd33108d463e898632d7387a873a": {
          "model_module": "@jupyter-widgets/controls",
          "model_name": "HTMLModel",
          "model_module_version": "1.5.0",
          "state": {
            "_dom_classes": [],
            "_model_module": "@jupyter-widgets/controls",
            "_model_module_version": "1.5.0",
            "_model_name": "HTMLModel",
            "_view_count": null,
            "_view_module": "@jupyter-widgets/controls",
            "_view_module_version": "1.5.0",
            "_view_name": "HTMLView",
            "description": "",
            "description_tooltip": null,
            "layout": "IPY_MODEL_787553241d88442b880e90a27653e422",
            "placeholder": "​",
            "style": "IPY_MODEL_3e496021dcc24257a185a3edec85a998",
            "value": "config.json: 100%"
          }
        },
        "929dbe4f276946cdad4b0aec1443c1fa": {
          "model_module": "@jupyter-widgets/controls",
          "model_name": "FloatProgressModel",
          "model_module_version": "1.5.0",
          "state": {
            "_dom_classes": [],
            "_model_module": "@jupyter-widgets/controls",
            "_model_module_version": "1.5.0",
            "_model_name": "FloatProgressModel",
            "_view_count": null,
            "_view_module": "@jupyter-widgets/controls",
            "_view_module_version": "1.5.0",
            "_view_name": "ProgressView",
            "bar_style": "success",
            "description": "",
            "description_tooltip": null,
            "layout": "IPY_MODEL_e38373cbb2c742bcbaa80abf4a9df572",
            "max": 483,
            "min": 0,
            "orientation": "horizontal",
            "style": "IPY_MODEL_a5b7621b6fe4401ab5be929b99b204af",
            "value": 483
          }
        },
        "517487920d7b406e8f49735a373b0a7d": {
          "model_module": "@jupyter-widgets/controls",
          "model_name": "HTMLModel",
          "model_module_version": "1.5.0",
          "state": {
            "_dom_classes": [],
            "_model_module": "@jupyter-widgets/controls",
            "_model_module_version": "1.5.0",
            "_model_name": "HTMLModel",
            "_view_count": null,
            "_view_module": "@jupyter-widgets/controls",
            "_view_module_version": "1.5.0",
            "_view_name": "HTMLView",
            "description": "",
            "description_tooltip": null,
            "layout": "IPY_MODEL_31dfbc9fc24a4a689eb85fd5deb39e1e",
            "placeholder": "​",
            "style": "IPY_MODEL_2e349efce35a40dd822e1be0c33d849a",
            "value": " 483/483 [00:00&lt;00:00, 12.2kB/s]"
          }
        },
        "f8cf866bac7340ab8d3a4bd00b5fb3e8": {
          "model_module": "@jupyter-widgets/base",
          "model_name": "LayoutModel",
          "model_module_version": "1.2.0",
          "state": {
            "_model_module": "@jupyter-widgets/base",
            "_model_module_version": "1.2.0",
            "_model_name": "LayoutModel",
            "_view_count": null,
            "_view_module": "@jupyter-widgets/base",
            "_view_module_version": "1.2.0",
            "_view_name": "LayoutView",
            "align_content": null,
            "align_items": null,
            "align_self": null,
            "border": null,
            "bottom": null,
            "display": null,
            "flex": null,
            "flex_flow": null,
            "grid_area": null,
            "grid_auto_columns": null,
            "grid_auto_flow": null,
            "grid_auto_rows": null,
            "grid_column": null,
            "grid_gap": null,
            "grid_row": null,
            "grid_template_areas": null,
            "grid_template_columns": null,
            "grid_template_rows": null,
            "height": null,
            "justify_content": null,
            "justify_items": null,
            "left": null,
            "margin": null,
            "max_height": null,
            "max_width": null,
            "min_height": null,
            "min_width": null,
            "object_fit": null,
            "object_position": null,
            "order": null,
            "overflow": null,
            "overflow_x": null,
            "overflow_y": null,
            "padding": null,
            "right": null,
            "top": null,
            "visibility": null,
            "width": null
          }
        },
        "787553241d88442b880e90a27653e422": {
          "model_module": "@jupyter-widgets/base",
          "model_name": "LayoutModel",
          "model_module_version": "1.2.0",
          "state": {
            "_model_module": "@jupyter-widgets/base",
            "_model_module_version": "1.2.0",
            "_model_name": "LayoutModel",
            "_view_count": null,
            "_view_module": "@jupyter-widgets/base",
            "_view_module_version": "1.2.0",
            "_view_name": "LayoutView",
            "align_content": null,
            "align_items": null,
            "align_self": null,
            "border": null,
            "bottom": null,
            "display": null,
            "flex": null,
            "flex_flow": null,
            "grid_area": null,
            "grid_auto_columns": null,
            "grid_auto_flow": null,
            "grid_auto_rows": null,
            "grid_column": null,
            "grid_gap": null,
            "grid_row": null,
            "grid_template_areas": null,
            "grid_template_columns": null,
            "grid_template_rows": null,
            "height": null,
            "justify_content": null,
            "justify_items": null,
            "left": null,
            "margin": null,
            "max_height": null,
            "max_width": null,
            "min_height": null,
            "min_width": null,
            "object_fit": null,
            "object_position": null,
            "order": null,
            "overflow": null,
            "overflow_x": null,
            "overflow_y": null,
            "padding": null,
            "right": null,
            "top": null,
            "visibility": null,
            "width": null
          }
        },
        "3e496021dcc24257a185a3edec85a998": {
          "model_module": "@jupyter-widgets/controls",
          "model_name": "DescriptionStyleModel",
          "model_module_version": "1.5.0",
          "state": {
            "_model_module": "@jupyter-widgets/controls",
            "_model_module_version": "1.5.0",
            "_model_name": "DescriptionStyleModel",
            "_view_count": null,
            "_view_module": "@jupyter-widgets/base",
            "_view_module_version": "1.2.0",
            "_view_name": "StyleView",
            "description_width": ""
          }
        },
        "e38373cbb2c742bcbaa80abf4a9df572": {
          "model_module": "@jupyter-widgets/base",
          "model_name": "LayoutModel",
          "model_module_version": "1.2.0",
          "state": {
            "_model_module": "@jupyter-widgets/base",
            "_model_module_version": "1.2.0",
            "_model_name": "LayoutModel",
            "_view_count": null,
            "_view_module": "@jupyter-widgets/base",
            "_view_module_version": "1.2.0",
            "_view_name": "LayoutView",
            "align_content": null,
            "align_items": null,
            "align_self": null,
            "border": null,
            "bottom": null,
            "display": null,
            "flex": null,
            "flex_flow": null,
            "grid_area": null,
            "grid_auto_columns": null,
            "grid_auto_flow": null,
            "grid_auto_rows": null,
            "grid_column": null,
            "grid_gap": null,
            "grid_row": null,
            "grid_template_areas": null,
            "grid_template_columns": null,
            "grid_template_rows": null,
            "height": null,
            "justify_content": null,
            "justify_items": null,
            "left": null,
            "margin": null,
            "max_height": null,
            "max_width": null,
            "min_height": null,
            "min_width": null,
            "object_fit": null,
            "object_position": null,
            "order": null,
            "overflow": null,
            "overflow_x": null,
            "overflow_y": null,
            "padding": null,
            "right": null,
            "top": null,
            "visibility": null,
            "width": null
          }
        },
        "a5b7621b6fe4401ab5be929b99b204af": {
          "model_module": "@jupyter-widgets/controls",
          "model_name": "ProgressStyleModel",
          "model_module_version": "1.5.0",
          "state": {
            "_model_module": "@jupyter-widgets/controls",
            "_model_module_version": "1.5.0",
            "_model_name": "ProgressStyleModel",
            "_view_count": null,
            "_view_module": "@jupyter-widgets/base",
            "_view_module_version": "1.2.0",
            "_view_name": "StyleView",
            "bar_color": null,
            "description_width": ""
          }
        },
        "31dfbc9fc24a4a689eb85fd5deb39e1e": {
          "model_module": "@jupyter-widgets/base",
          "model_name": "LayoutModel",
          "model_module_version": "1.2.0",
          "state": {
            "_model_module": "@jupyter-widgets/base",
            "_model_module_version": "1.2.0",
            "_model_name": "LayoutModel",
            "_view_count": null,
            "_view_module": "@jupyter-widgets/base",
            "_view_module_version": "1.2.0",
            "_view_name": "LayoutView",
            "align_content": null,
            "align_items": null,
            "align_self": null,
            "border": null,
            "bottom": null,
            "display": null,
            "flex": null,
            "flex_flow": null,
            "grid_area": null,
            "grid_auto_columns": null,
            "grid_auto_flow": null,
            "grid_auto_rows": null,
            "grid_column": null,
            "grid_gap": null,
            "grid_row": null,
            "grid_template_areas": null,
            "grid_template_columns": null,
            "grid_template_rows": null,
            "height": null,
            "justify_content": null,
            "justify_items": null,
            "left": null,
            "margin": null,
            "max_height": null,
            "max_width": null,
            "min_height": null,
            "min_width": null,
            "object_fit": null,
            "object_position": null,
            "order": null,
            "overflow": null,
            "overflow_x": null,
            "overflow_y": null,
            "padding": null,
            "right": null,
            "top": null,
            "visibility": null,
            "width": null
          }
        },
        "2e349efce35a40dd822e1be0c33d849a": {
          "model_module": "@jupyter-widgets/controls",
          "model_name": "DescriptionStyleModel",
          "model_module_version": "1.5.0",
          "state": {
            "_model_module": "@jupyter-widgets/controls",
            "_model_module_version": "1.5.0",
            "_model_name": "DescriptionStyleModel",
            "_view_count": null,
            "_view_module": "@jupyter-widgets/base",
            "_view_module_version": "1.2.0",
            "_view_name": "StyleView",
            "description_width": ""
          }
        },
        "17d6fb115f8c44d59d9d19b9f5f6127d": {
          "model_module": "@jupyter-widgets/controls",
          "model_name": "HBoxModel",
          "model_module_version": "1.5.0",
          "state": {
            "_dom_classes": [],
            "_model_module": "@jupyter-widgets/controls",
            "_model_module_version": "1.5.0",
            "_model_name": "HBoxModel",
            "_view_count": null,
            "_view_module": "@jupyter-widgets/controls",
            "_view_module_version": "1.5.0",
            "_view_name": "HBoxView",
            "box_style": "",
            "children": [
              "IPY_MODEL_7c70fbef84a946ebaa83ed7aaf65b573",
              "IPY_MODEL_dc74933bc0c649a9afc76e31d948938c",
              "IPY_MODEL_f95d546eebc64c94b6dd3bac7a9d5f98"
            ],
            "layout": "IPY_MODEL_3e89a7a3946c4e4b85d79f25f73ae140"
          }
        },
        "7c70fbef84a946ebaa83ed7aaf65b573": {
          "model_module": "@jupyter-widgets/controls",
          "model_name": "HTMLModel",
          "model_module_version": "1.5.0",
          "state": {
            "_dom_classes": [],
            "_model_module": "@jupyter-widgets/controls",
            "_model_module_version": "1.5.0",
            "_model_name": "HTMLModel",
            "_view_count": null,
            "_view_module": "@jupyter-widgets/controls",
            "_view_module_version": "1.5.0",
            "_view_name": "HTMLView",
            "description": "",
            "description_tooltip": null,
            "layout": "IPY_MODEL_61318cb8de834e9bb9b9dacc6a3d9d09",
            "placeholder": "​",
            "style": "IPY_MODEL_20654fb5d9c44e8db776e4649ed88600",
            "value": "model.safetensors: 100%"
          }
        },
        "dc74933bc0c649a9afc76e31d948938c": {
          "model_module": "@jupyter-widgets/controls",
          "model_name": "FloatProgressModel",
          "model_module_version": "1.5.0",
          "state": {
            "_dom_classes": [],
            "_model_module": "@jupyter-widgets/controls",
            "_model_module_version": "1.5.0",
            "_model_name": "FloatProgressModel",
            "_view_count": null,
            "_view_module": "@jupyter-widgets/controls",
            "_view_module_version": "1.5.0",
            "_view_name": "ProgressView",
            "bar_style": "success",
            "description": "",
            "description_tooltip": null,
            "layout": "IPY_MODEL_bd7a2ab48bfe41eeaf48d719e7df9f6e",
            "max": 267954768,
            "min": 0,
            "orientation": "horizontal",
            "style": "IPY_MODEL_198903a1b5a049259bac768d6b3d31a4",
            "value": 267954768
          }
        },
        "f95d546eebc64c94b6dd3bac7a9d5f98": {
          "model_module": "@jupyter-widgets/controls",
          "model_name": "HTMLModel",
          "model_module_version": "1.5.0",
          "state": {
            "_dom_classes": [],
            "_model_module": "@jupyter-widgets/controls",
            "_model_module_version": "1.5.0",
            "_model_name": "HTMLModel",
            "_view_count": null,
            "_view_module": "@jupyter-widgets/controls",
            "_view_module_version": "1.5.0",
            "_view_name": "HTMLView",
            "description": "",
            "description_tooltip": null,
            "layout": "IPY_MODEL_c3a9e32a2549461cb3d234005bb5e67b",
            "placeholder": "​",
            "style": "IPY_MODEL_8293c779acd04a3d83dca071f4564340",
            "value": " 268M/268M [00:01&lt;00:00, 226MB/s]"
          }
        },
        "3e89a7a3946c4e4b85d79f25f73ae140": {
          "model_module": "@jupyter-widgets/base",
          "model_name": "LayoutModel",
          "model_module_version": "1.2.0",
          "state": {
            "_model_module": "@jupyter-widgets/base",
            "_model_module_version": "1.2.0",
            "_model_name": "LayoutModel",
            "_view_count": null,
            "_view_module": "@jupyter-widgets/base",
            "_view_module_version": "1.2.0",
            "_view_name": "LayoutView",
            "align_content": null,
            "align_items": null,
            "align_self": null,
            "border": null,
            "bottom": null,
            "display": null,
            "flex": null,
            "flex_flow": null,
            "grid_area": null,
            "grid_auto_columns": null,
            "grid_auto_flow": null,
            "grid_auto_rows": null,
            "grid_column": null,
            "grid_gap": null,
            "grid_row": null,
            "grid_template_areas": null,
            "grid_template_columns": null,
            "grid_template_rows": null,
            "height": null,
            "justify_content": null,
            "justify_items": null,
            "left": null,
            "margin": null,
            "max_height": null,
            "max_width": null,
            "min_height": null,
            "min_width": null,
            "object_fit": null,
            "object_position": null,
            "order": null,
            "overflow": null,
            "overflow_x": null,
            "overflow_y": null,
            "padding": null,
            "right": null,
            "top": null,
            "visibility": null,
            "width": null
          }
        },
        "61318cb8de834e9bb9b9dacc6a3d9d09": {
          "model_module": "@jupyter-widgets/base",
          "model_name": "LayoutModel",
          "model_module_version": "1.2.0",
          "state": {
            "_model_module": "@jupyter-widgets/base",
            "_model_module_version": "1.2.0",
            "_model_name": "LayoutModel",
            "_view_count": null,
            "_view_module": "@jupyter-widgets/base",
            "_view_module_version": "1.2.0",
            "_view_name": "LayoutView",
            "align_content": null,
            "align_items": null,
            "align_self": null,
            "border": null,
            "bottom": null,
            "display": null,
            "flex": null,
            "flex_flow": null,
            "grid_area": null,
            "grid_auto_columns": null,
            "grid_auto_flow": null,
            "grid_auto_rows": null,
            "grid_column": null,
            "grid_gap": null,
            "grid_row": null,
            "grid_template_areas": null,
            "grid_template_columns": null,
            "grid_template_rows": null,
            "height": null,
            "justify_content": null,
            "justify_items": null,
            "left": null,
            "margin": null,
            "max_height": null,
            "max_width": null,
            "min_height": null,
            "min_width": null,
            "object_fit": null,
            "object_position": null,
            "order": null,
            "overflow": null,
            "overflow_x": null,
            "overflow_y": null,
            "padding": null,
            "right": null,
            "top": null,
            "visibility": null,
            "width": null
          }
        },
        "20654fb5d9c44e8db776e4649ed88600": {
          "model_module": "@jupyter-widgets/controls",
          "model_name": "DescriptionStyleModel",
          "model_module_version": "1.5.0",
          "state": {
            "_model_module": "@jupyter-widgets/controls",
            "_model_module_version": "1.5.0",
            "_model_name": "DescriptionStyleModel",
            "_view_count": null,
            "_view_module": "@jupyter-widgets/base",
            "_view_module_version": "1.2.0",
            "_view_name": "StyleView",
            "description_width": ""
          }
        },
        "bd7a2ab48bfe41eeaf48d719e7df9f6e": {
          "model_module": "@jupyter-widgets/base",
          "model_name": "LayoutModel",
          "model_module_version": "1.2.0",
          "state": {
            "_model_module": "@jupyter-widgets/base",
            "_model_module_version": "1.2.0",
            "_model_name": "LayoutModel",
            "_view_count": null,
            "_view_module": "@jupyter-widgets/base",
            "_view_module_version": "1.2.0",
            "_view_name": "LayoutView",
            "align_content": null,
            "align_items": null,
            "align_self": null,
            "border": null,
            "bottom": null,
            "display": null,
            "flex": null,
            "flex_flow": null,
            "grid_area": null,
            "grid_auto_columns": null,
            "grid_auto_flow": null,
            "grid_auto_rows": null,
            "grid_column": null,
            "grid_gap": null,
            "grid_row": null,
            "grid_template_areas": null,
            "grid_template_columns": null,
            "grid_template_rows": null,
            "height": null,
            "justify_content": null,
            "justify_items": null,
            "left": null,
            "margin": null,
            "max_height": null,
            "max_width": null,
            "min_height": null,
            "min_width": null,
            "object_fit": null,
            "object_position": null,
            "order": null,
            "overflow": null,
            "overflow_x": null,
            "overflow_y": null,
            "padding": null,
            "right": null,
            "top": null,
            "visibility": null,
            "width": null
          }
        },
        "198903a1b5a049259bac768d6b3d31a4": {
          "model_module": "@jupyter-widgets/controls",
          "model_name": "ProgressStyleModel",
          "model_module_version": "1.5.0",
          "state": {
            "_model_module": "@jupyter-widgets/controls",
            "_model_module_version": "1.5.0",
            "_model_name": "ProgressStyleModel",
            "_view_count": null,
            "_view_module": "@jupyter-widgets/base",
            "_view_module_version": "1.2.0",
            "_view_name": "StyleView",
            "bar_color": null,
            "description_width": ""
          }
        },
        "c3a9e32a2549461cb3d234005bb5e67b": {
          "model_module": "@jupyter-widgets/base",
          "model_name": "LayoutModel",
          "model_module_version": "1.2.0",
          "state": {
            "_model_module": "@jupyter-widgets/base",
            "_model_module_version": "1.2.0",
            "_model_name": "LayoutModel",
            "_view_count": null,
            "_view_module": "@jupyter-widgets/base",
            "_view_module_version": "1.2.0",
            "_view_name": "LayoutView",
            "align_content": null,
            "align_items": null,
            "align_self": null,
            "border": null,
            "bottom": null,
            "display": null,
            "flex": null,
            "flex_flow": null,
            "grid_area": null,
            "grid_auto_columns": null,
            "grid_auto_flow": null,
            "grid_auto_rows": null,
            "grid_column": null,
            "grid_gap": null,
            "grid_row": null,
            "grid_template_areas": null,
            "grid_template_columns": null,
            "grid_template_rows": null,
            "height": null,
            "justify_content": null,
            "justify_items": null,
            "left": null,
            "margin": null,
            "max_height": null,
            "max_width": null,
            "min_height": null,
            "min_width": null,
            "object_fit": null,
            "object_position": null,
            "order": null,
            "overflow": null,
            "overflow_x": null,
            "overflow_y": null,
            "padding": null,
            "right": null,
            "top": null,
            "visibility": null,
            "width": null
          }
        },
        "8293c779acd04a3d83dca071f4564340": {
          "model_module": "@jupyter-widgets/controls",
          "model_name": "DescriptionStyleModel",
          "model_module_version": "1.5.0",
          "state": {
            "_model_module": "@jupyter-widgets/controls",
            "_model_module_version": "1.5.0",
            "_model_name": "DescriptionStyleModel",
            "_view_count": null,
            "_view_module": "@jupyter-widgets/base",
            "_view_module_version": "1.2.0",
            "_view_name": "StyleView",
            "description_width": ""
          }
        }
      }
    }
  },
  "cells": [
    {
      "cell_type": "markdown",
      "metadata": {
        "id": "view-in-github",
        "colab_type": "text"
      },
      "source": [
        "<a href=\"https://colab.research.google.com/github/oenereaty/MP2024/blob/main/MP2024_wk9_1.ipynb\" target=\"_parent\"><img src=\"https://colab.research.google.com/assets/colab-badge.svg\" alt=\"Open In Colab\"/></a>"
      ]
    },
    {
      "cell_type": "markdown",
      "source": [
        "# Imports"
      ],
      "metadata": {
        "id": "m_SxrcxsiH6D"
      }
    },
    {
      "cell_type": "code",
      "execution_count": 1,
      "metadata": {
        "id": "671YeBnmh_4L"
      },
      "outputs": [],
      "source": [
        "import numpy as np\n",
        "import pandas as pd\n",
        "import matplotlib.pyplot as plt\n",
        "import time\n",
        "#---#\n",
        "import torch\n",
        "import transformers\n",
        "import tarfile"
      ]
    },
    {
      "cell_type": "markdown",
      "source": [
        "# with"
      ],
      "metadata": {
        "id": "X_MmVl8aiXka"
      }
    },
    {
      "cell_type": "markdown",
      "source": [
        "## 기본사용"
      ],
      "metadata": {
        "id": "szCLK6-Hio1h"
      }
    },
    {
      "cell_type": "markdown",
      "source": [
        "### 예제1: `__enter__` 와 `__exit__`"
      ],
      "metadata": {
        "id": "iZQnjBBTi5kr"
      }
    },
    {
      "cell_type": "markdown",
      "source": [
        "↓ context manager 를 찍어내는 Dummy 클래스\n",
        "\n"
      ],
      "metadata": {
        "id": "-TXQiLkXi8t9"
      }
    },
    {
      "cell_type": "code",
      "source": [
        "class Dummy:\n",
        "    def __enter__(self):\n",
        "        print(\"enter\")\n",
        "    def __exit__(self,*args): # *args는 에러처리 관련된 __exit__의 입력변수들.\n",
        "                              # args를 받을 거라고 선언하지만 실제로 사용하지는 않음\n",
        "        print(\"exit\")"
      ],
      "metadata": {
        "id": "Mw0Zif6biZ1V"
      },
      "execution_count": 8,
      "outputs": []
    },
    {
      "cell_type": "code",
      "source": [
        "dir(d)\n",
        "\n",
        "#__enter__ 와 __exit__가 존재함"
      ],
      "metadata": {
        "colab": {
          "base_uri": "https://localhost:8080/"
        },
        "id": "mUK1jz8yjfUG",
        "outputId": "d2fb18e9-ed81-488b-9265-42ad443bb037"
      },
      "execution_count": 11,
      "outputs": [
        {
          "output_type": "execute_result",
          "data": {
            "text/plain": [
              "['__class__',\n",
              " '__delattr__',\n",
              " '__dict__',\n",
              " '__dir__',\n",
              " '__doc__',\n",
              " '__enter__',\n",
              " '__eq__',\n",
              " '__exit__',\n",
              " '__format__',\n",
              " '__ge__',\n",
              " '__getattribute__',\n",
              " '__gt__',\n",
              " '__hash__',\n",
              " '__init__',\n",
              " '__init_subclass__',\n",
              " '__le__',\n",
              " '__lt__',\n",
              " '__module__',\n",
              " '__ne__',\n",
              " '__new__',\n",
              " '__reduce__',\n",
              " '__reduce_ex__',\n",
              " '__repr__',\n",
              " '__setattr__',\n",
              " '__sizeof__',\n",
              " '__str__',\n",
              " '__subclasshook__',\n",
              " '__weakref__']"
            ]
          },
          "metadata": {},
          "execution_count": 11
        }
      ]
    },
    {
      "cell_type": "code",
      "source": [
        "d = Dummy()\n",
        "d.__enter__()\n",
        "print(\"context\") # context를 출력함.\n",
        "d.__exit__()"
      ],
      "metadata": {
        "colab": {
          "base_uri": "https://localhost:8080/"
        },
        "id": "oFQx8xySiDOW",
        "outputId": "dd0626ad-7e70-41db-a425-46ff5f06ee13"
      },
      "execution_count": 5,
      "outputs": [
        {
          "output_type": "stream",
          "name": "stdout",
          "text": [
            "enter\n",
            "context\n",
            "exit\n"
          ]
        }
      ]
    },
    {
      "cell_type": "code",
      "source": [
        "d = Dummy()\n",
        "with d:\n",
        "    print(\"context\")"
      ],
      "metadata": {
        "colab": {
          "base_uri": "https://localhost:8080/"
        },
        "id": "g6K8vlmIjD51",
        "outputId": "4fb444cf-9d68-487c-a1e6-70620b1a3a48"
      },
      "execution_count": 6,
      "outputs": [
        {
          "output_type": "stream",
          "name": "stdout",
          "text": [
            "enter\n",
            "context\n",
            "exit\n"
          ]
        }
      ]
    },
    {
      "cell_type": "code",
      "source": [
        "with 1:\n",
        "  print(\"일단 시작해보자\") # 오류 발생"
      ],
      "metadata": {
        "colab": {
          "base_uri": "https://localhost:8080/",
          "height": 165
        },
        "id": "FpVRlda_jwG0",
        "outputId": "b38bb812-c10a-45bb-d3ff-e362f8539e34"
      },
      "execution_count": 13,
      "outputs": [
        {
          "output_type": "error",
          "ename": "AttributeError",
          "evalue": "__enter__",
          "traceback": [
            "\u001b[0;31m---------------------------------------------------------------------------\u001b[0m",
            "\u001b[0;31mAttributeError\u001b[0m                            Traceback (most recent call last)",
            "\u001b[0;32m<ipython-input-13-afa6dfd48ad9>\u001b[0m in \u001b[0;36m<cell line: 1>\u001b[0;34m()\u001b[0m\n\u001b[0;32m----> 1\u001b[0;31m \u001b[0;32mwith\u001b[0m \u001b[0;36m1\u001b[0m\u001b[0;34m:\u001b[0m\u001b[0;34m\u001b[0m\u001b[0;34m\u001b[0m\u001b[0m\n\u001b[0m\u001b[1;32m      2\u001b[0m   \u001b[0mprint\u001b[0m\u001b[0;34m(\u001b[0m\u001b[0;34m\"일단 시작해보자\"\u001b[0m\u001b[0;34m)\u001b[0m \u001b[0;31m# 오류 발생\u001b[0m\u001b[0;34m\u001b[0m\u001b[0;34m\u001b[0m\u001b[0m\n",
            "\u001b[0;31mAttributeError\u001b[0m: __enter__"
          ]
        }
      ]
    },
    {
      "cell_type": "markdown",
      "source": [
        "↓ 내가 만든 예시"
      ],
      "metadata": {
        "id": "dQ_eQjmzlKO2"
      }
    },
    {
      "cell_type": "code",
      "source": [
        "class Dummy:\n",
        "    def __enter__(self):\n",
        "        print(\"교수님 ㅎㅇ\")\n",
        "    def __exit__(self,*args): # *args는 에러처리 관련된 __exit__의 입력변수들.\n",
        "                              # args를 받을 거라고 선언하지만 실제로 사용하지는 않음\n",
        "        print(\"교수님 ㅂㅇ\")\n",
        "\n",
        "d = Dummy()\n",
        "with d:\n",
        "  print(\"으왕\")\n",
        "  print(\"유튜브강의좀들어라수강생들아\")"
      ],
      "metadata": {
        "colab": {
          "base_uri": "https://localhost:8080/"
        },
        "id": "GRQKc7H2lGc-",
        "outputId": "95395e8b-edb5-49a7-9cfa-2e5588f6a6d2"
      },
      "execution_count": 17,
      "outputs": [
        {
          "output_type": "stream",
          "name": "stdout",
          "text": [
            "교수님 ㅎㅇ\n",
            "으왕\n",
            "유튜브강의좀들어라수강생들아\n",
            "교수님 ㅂㅇ\n"
          ]
        }
      ]
    },
    {
      "cell_type": "markdown",
      "source": [
        "`with` 뒤에 올 수 있는 오브젝트는 `__enter__` 와 `__exit__` 를 포함해야 한다"
      ],
      "metadata": {
        "id": "R35JFDNOjHZ2"
      }
    },
    {
      "cell_type": "code",
      "source": [
        "lst = [1,2,3]\n",
        "with lst:\n",
        "    pass\n",
        "\n",
        "# 오류 발생 이유: `__enter__`도 없고 __exit__도 없어서"
      ],
      "metadata": {
        "colab": {
          "base_uri": "https://localhost:8080/",
          "height": 219
        },
        "id": "olEmjf02jFoG",
        "outputId": "af7c710d-1f6f-4b9d-a2f5-12833428d824"
      },
      "execution_count": 19,
      "outputs": [
        {
          "output_type": "error",
          "ename": "AttributeError",
          "evalue": "__enter__",
          "traceback": [
            "\u001b[0;31m---------------------------------------------------------------------------\u001b[0m",
            "\u001b[0;31mAttributeError\u001b[0m                            Traceback (most recent call last)",
            "\u001b[0;32m<ipython-input-19-312cf9103a41>\u001b[0m in \u001b[0;36m<cell line: 2>\u001b[0;34m()\u001b[0m\n\u001b[1;32m      1\u001b[0m \u001b[0mlst\u001b[0m \u001b[0;34m=\u001b[0m \u001b[0;34m[\u001b[0m\u001b[0;36m1\u001b[0m\u001b[0;34m,\u001b[0m\u001b[0;36m2\u001b[0m\u001b[0;34m,\u001b[0m\u001b[0;36m3\u001b[0m\u001b[0;34m]\u001b[0m\u001b[0;34m\u001b[0m\u001b[0;34m\u001b[0m\u001b[0m\n\u001b[0;32m----> 2\u001b[0;31m \u001b[0;32mwith\u001b[0m \u001b[0mlst\u001b[0m\u001b[0;34m:\u001b[0m\u001b[0;34m\u001b[0m\u001b[0;34m\u001b[0m\u001b[0m\n\u001b[0m\u001b[1;32m      3\u001b[0m     \u001b[0;32mpass\u001b[0m\u001b[0;34m\u001b[0m\u001b[0;34m\u001b[0m\u001b[0m\n\u001b[1;32m      4\u001b[0m \u001b[0;34m\u001b[0m\u001b[0m\n\u001b[1;32m      5\u001b[0m \u001b[0;31m# 오류 발생 이유: `__enter__`도 없고 __exit__도 없어서\u001b[0m\u001b[0;34m\u001b[0m\u001b[0;34m\u001b[0m\u001b[0m\n",
            "\u001b[0;31mAttributeError\u001b[0m: __enter__"
          ]
        }
      ]
    },
    {
      "cell_type": "code",
      "source": [
        "dir(list)"
      ],
      "metadata": {
        "colab": {
          "base_uri": "https://localhost:8080/"
        },
        "id": "pxAJUVIXmJbR",
        "outputId": "9319accc-d54c-49a1-bf78-9a41ccaf9927"
      },
      "execution_count": 20,
      "outputs": [
        {
          "output_type": "execute_result",
          "data": {
            "text/plain": [
              "['__add__',\n",
              " '__class__',\n",
              " '__class_getitem__',\n",
              " '__contains__',\n",
              " '__delattr__',\n",
              " '__delitem__',\n",
              " '__dir__',\n",
              " '__doc__',\n",
              " '__eq__',\n",
              " '__format__',\n",
              " '__ge__',\n",
              " '__getattribute__',\n",
              " '__getitem__',\n",
              " '__gt__',\n",
              " '__hash__',\n",
              " '__iadd__',\n",
              " '__imul__',\n",
              " '__init__',\n",
              " '__init_subclass__',\n",
              " '__iter__',\n",
              " '__le__',\n",
              " '__len__',\n",
              " '__lt__',\n",
              " '__mul__',\n",
              " '__ne__',\n",
              " '__new__',\n",
              " '__reduce__',\n",
              " '__reduce_ex__',\n",
              " '__repr__',\n",
              " '__reversed__',\n",
              " '__rmul__',\n",
              " '__setattr__',\n",
              " '__setitem__',\n",
              " '__sizeof__',\n",
              " '__str__',\n",
              " '__subclasshook__',\n",
              " 'append',\n",
              " 'clear',\n",
              " 'copy',\n",
              " 'count',\n",
              " 'extend',\n",
              " 'index',\n",
              " 'insert',\n",
              " 'pop',\n",
              " 'remove',\n",
              " 'reverse',\n",
              " 'sort']"
            ]
          },
          "metadata": {},
          "execution_count": 20
        }
      ]
    },
    {
      "cell_type": "markdown",
      "source": [
        "### 예제2: `time`"
      ],
      "metadata": {
        "id": "Y9tcimo5mYQn"
      }
    },
    {
      "cell_type": "markdown",
      "source": [
        "원래 사용하던 패턴 (코드 실행되는 시간)"
      ],
      "metadata": {
        "id": "wS5G2FE1moiu"
      }
    },
    {
      "cell_type": "code",
      "source": [
        "t1 = time.time()\n",
        "np.random.randn(100,100) + 30\n",
        "t2 = time.time()\n",
        "t2-t1"
      ],
      "metadata": {
        "colab": {
          "base_uri": "https://localhost:8080/"
        },
        "id": "mL5rmDJSmVCf",
        "outputId": "0345030e-e440-4327-b8b3-9ec9156bf861"
      },
      "execution_count": 32,
      "outputs": [
        {
          "output_type": "execute_result",
          "data": {
            "text/plain": [
              "0.0011227130889892578"
            ]
          },
          "metadata": {},
          "execution_count": 32
        }
      ]
    },
    {
      "cell_type": "markdown",
      "source": [
        "이렇게도 사용할 수 있지 않을까?"
      ],
      "metadata": {
        "id": "Y2VwLkWsnQ_J"
      }
    },
    {
      "cell_type": "code",
      "source": [
        "class Timer:\n",
        "    def __enter__(self):\n",
        "        self.t1 = time.time()\n",
        "    def __exit__(self,*args):\n",
        "        self.t2 = time.time()\n",
        "        print(f\"{self.t2 - self.t1:.7f} 초 걸림\")"
      ],
      "metadata": {
        "id": "OwEDkmvYmtyD"
      },
      "execution_count": 36,
      "outputs": []
    },
    {
      "cell_type": "code",
      "source": [
        "with Timer():\n",
        "    np.random.randn(100,100) + 30\n",
        "\n",
        "# `__enter__ 와 `__exit__`가 있기 때문에 실행되는 class"
      ],
      "metadata": {
        "colab": {
          "base_uri": "https://localhost:8080/"
        },
        "id": "wIxz-CxtmrCc",
        "outputId": "e8a7e6a4-2d93-4a95-f034-bb8499be7c1f"
      },
      "execution_count": 41,
      "outputs": [
        {
          "output_type": "stream",
          "name": "stdout",
          "text": [
            "0.0009418 초 걸림\n"
          ]
        }
      ]
    },
    {
      "cell_type": "code",
      "source": [
        "set(dir(Timer))"
      ],
      "metadata": {
        "colab": {
          "base_uri": "https://localhost:8080/"
        },
        "id": "-hLRux9xnzCV",
        "outputId": "175e31ba-4d2f-45af-df16-f33cf9dc39a1"
      },
      "execution_count": 46,
      "outputs": [
        {
          "output_type": "execute_result",
          "data": {
            "text/plain": [
              "{'__class__',\n",
              " '__delattr__',\n",
              " '__dict__',\n",
              " '__dir__',\n",
              " '__doc__',\n",
              " '__enter__',\n",
              " '__eq__',\n",
              " '__exit__',\n",
              " '__format__',\n",
              " '__ge__',\n",
              " '__getattribute__',\n",
              " '__gt__',\n",
              " '__hash__',\n",
              " '__init__',\n",
              " '__init_subclass__',\n",
              " '__le__',\n",
              " '__lt__',\n",
              " '__module__',\n",
              " '__ne__',\n",
              " '__new__',\n",
              " '__reduce__',\n",
              " '__reduce_ex__',\n",
              " '__repr__',\n",
              " '__setattr__',\n",
              " '__sizeof__',\n",
              " '__str__',\n",
              " '__subclasshook__',\n",
              " '__weakref__'}"
            ]
          },
          "metadata": {},
          "execution_count": 46
        }
      ]
    },
    {
      "cell_type": "markdown",
      "source": [
        "### 예제3: 미분꼬리표 제거"
      ],
      "metadata": {
        "id": "_TrkBY5RoLsB"
      }
    },
    {
      "cell_type": "code",
      "source": [
        "class 미분꼬리표추적금지:\n",
        "    def __enter__(self):\n",
        "        torch.set_grad_enabled(False)\n",
        "    def __exit__(self,*args):\n",
        "        torch.set_grad_enabled(True)"
      ],
      "metadata": {
        "id": "VCfkaGR-nasl"
      },
      "execution_count": 57,
      "outputs": []
    },
    {
      "cell_type": "code",
      "source": [
        "a = torch.tensor(1.0,requires_grad = True)\n",
        "a"
      ],
      "metadata": {
        "colab": {
          "base_uri": "https://localhost:8080/"
        },
        "id": "SgAGpafWoPFY",
        "outputId": "10dd1e73-b333-4fc9-a79e-0cd85a34514c"
      },
      "execution_count": 48,
      "outputs": [
        {
          "output_type": "execute_result",
          "data": {
            "text/plain": [
              "tensor(1., requires_grad=True)"
            ]
          },
          "metadata": {},
          "execution_count": 48
        }
      ]
    },
    {
      "cell_type": "code",
      "source": [
        "b = a+1\n",
        "c = 2*b\n",
        "d = c/3\n",
        "b,c,d"
      ],
      "metadata": {
        "colab": {
          "base_uri": "https://localhost:8080/"
        },
        "id": "XmPYkNSOorlF",
        "outputId": "66d608c8-3a29-48a6-e7d7-77270255433d"
      },
      "execution_count": 49,
      "outputs": [
        {
          "output_type": "execute_result",
          "data": {
            "text/plain": [
              "(tensor(2., grad_fn=<AddBackward0>),\n",
              " tensor(4., grad_fn=<MulBackward0>),\n",
              " tensor(1.3333, grad_fn=<DivBackward0>))"
            ]
          },
          "metadata": {},
          "execution_count": 49
        }
      ]
    },
    {
      "cell_type": "code",
      "source": [
        "with 미분꼬리표추적금지():\n",
        "    b = a+1\n",
        "    c = 2*b\n",
        "    d = c/3\n",
        "b,c,d"
      ],
      "metadata": {
        "colab": {
          "base_uri": "https://localhost:8080/"
        },
        "id": "psrCbnkfos5t",
        "outputId": "74b0b149-3bd2-4bc3-c56d-9a5efa26b23b"
      },
      "execution_count": 58,
      "outputs": [
        {
          "output_type": "execute_result",
          "data": {
            "text/plain": [
              "(tensor(2.), tensor(4.), tensor(1.3333))"
            ]
          },
          "metadata": {},
          "execution_count": 58
        }
      ]
    },
    {
      "cell_type": "markdown",
      "source": [
        "### 예제4: 로짓 계산"
      ],
      "metadata": {
        "id": "aBRMWVJ7pfxs"
      }
    },
    {
      "cell_type": "code",
      "source": [
        "model = transformers.AutoModelForSequenceClassification.from_pretrained(\n",
        "    \"distilbert/distilbert-base-uncased\", num_labels=2\n",
        ")\n",
        "model_input = {\n",
        "    'input_ids': torch.tensor([[101, 2023, 3185, 2003, 6659, 2021, 2009, 2038, 2070, 2204, 3896, 1012, 102]]),\n",
        "    'attention_mask': torch.tensor([[1, 1, 1, 1, 1, 1, 1, 1, 1, 1, 1, 1, 1]]),\n",
        "    'labels': torch.tensor([0])\n",
        "}"
      ],
      "metadata": {
        "colab": {
          "base_uri": "https://localhost:8080/",
          "height": 247,
          "referenced_widgets": [
            "a5ab3490c2c04cd6a6a097bbf96dd4c3",
            "0d72bd33108d463e898632d7387a873a",
            "929dbe4f276946cdad4b0aec1443c1fa",
            "517487920d7b406e8f49735a373b0a7d",
            "f8cf866bac7340ab8d3a4bd00b5fb3e8",
            "787553241d88442b880e90a27653e422",
            "3e496021dcc24257a185a3edec85a998",
            "e38373cbb2c742bcbaa80abf4a9df572",
            "a5b7621b6fe4401ab5be929b99b204af",
            "31dfbc9fc24a4a689eb85fd5deb39e1e",
            "2e349efce35a40dd822e1be0c33d849a",
            "17d6fb115f8c44d59d9d19b9f5f6127d",
            "7c70fbef84a946ebaa83ed7aaf65b573",
            "dc74933bc0c649a9afc76e31d948938c",
            "f95d546eebc64c94b6dd3bac7a9d5f98",
            "3e89a7a3946c4e4b85d79f25f73ae140",
            "61318cb8de834e9bb9b9dacc6a3d9d09",
            "20654fb5d9c44e8db776e4649ed88600",
            "bd7a2ab48bfe41eeaf48d719e7df9f6e",
            "198903a1b5a049259bac768d6b3d31a4",
            "c3a9e32a2549461cb3d234005bb5e67b",
            "8293c779acd04a3d83dca071f4564340"
          ]
        },
        "id": "yw022m4voukv",
        "outputId": "76211cd6-bd96-414d-e7a4-43e805b143bb"
      },
      "execution_count": 59,
      "outputs": [
        {
          "output_type": "stream",
          "name": "stderr",
          "text": [
            "/usr/local/lib/python3.10/dist-packages/huggingface_hub/utils/_auth.py:94: UserWarning: \n",
            "The secret `HF_TOKEN` does not exist in your Colab secrets.\n",
            "To authenticate with the Hugging Face Hub, create a token in your settings tab (https://huggingface.co/settings/tokens), set it as secret in your Google Colab and restart your session.\n",
            "You will be able to reuse this secret in all of your notebooks.\n",
            "Please note that authentication is recommended but still optional to access public models or datasets.\n",
            "  warnings.warn(\n"
          ]
        },
        {
          "output_type": "display_data",
          "data": {
            "text/plain": [
              "config.json:   0%|          | 0.00/483 [00:00<?, ?B/s]"
            ],
            "application/vnd.jupyter.widget-view+json": {
              "version_major": 2,
              "version_minor": 0,
              "model_id": "a5ab3490c2c04cd6a6a097bbf96dd4c3"
            }
          },
          "metadata": {}
        },
        {
          "output_type": "display_data",
          "data": {
            "text/plain": [
              "model.safetensors:   0%|          | 0.00/268M [00:00<?, ?B/s]"
            ],
            "application/vnd.jupyter.widget-view+json": {
              "version_major": 2,
              "version_minor": 0,
              "model_id": "17d6fb115f8c44d59d9d19b9f5f6127d"
            }
          },
          "metadata": {}
        },
        {
          "output_type": "stream",
          "name": "stderr",
          "text": [
            "Some weights of DistilBertForSequenceClassification were not initialized from the model checkpoint at distilbert/distilbert-base-uncased and are newly initialized: ['classifier.bias', 'classifier.weight', 'pre_classifier.bias', 'pre_classifier.weight']\n",
            "You should probably TRAIN this model on a down-stream task to be able to use it for predictions and inference.\n"
          ]
        }
      ]
    },
    {
      "cell_type": "code",
      "source": [
        "logits = model(**model_input).logits\n",
        "logits"
      ],
      "metadata": {
        "colab": {
          "base_uri": "https://localhost:8080/"
        },
        "id": "8cfPeSZfplKi",
        "outputId": "747f6724-8d1c-4ca5-abb6-b43fd3f10898"
      },
      "execution_count": 60,
      "outputs": [
        {
          "output_type": "execute_result",
          "data": {
            "text/plain": [
              "tensor([[0.1596, 0.0012]], grad_fn=<AddmmBackward0>)"
            ]
          },
          "metadata": {},
          "execution_count": 60
        }
      ]
    },
    {
      "cell_type": "markdown",
      "source": [
        "**예시1**"
      ],
      "metadata": {
        "id": "lRNKKVZqp64q"
      }
    },
    {
      "cell_type": "code",
      "source": [
        "with 미분꼬리표추적금지():\n",
        "    logits = model(**model_input).logits\n",
        "    print(logits)"
      ],
      "metadata": {
        "colab": {
          "base_uri": "https://localhost:8080/"
        },
        "id": "pHSNoKDQpuJV",
        "outputId": "c05cbdac-91c6-45e6-bf51-277aa07b1277"
      },
      "execution_count": 61,
      "outputs": [
        {
          "output_type": "stream",
          "name": "stdout",
          "text": [
            "tensor([[0.1596, 0.0012]])\n"
          ]
        }
      ]
    },
    {
      "cell_type": "markdown",
      "source": [
        "**예시2**"
      ],
      "metadata": {
        "id": "9GwLCOepp9ZV"
      }
    },
    {
      "cell_type": "code",
      "source": [
        "with torch.no_grad():\n",
        "    logits = model(**model_input).logits\n",
        "    print(logits)"
      ],
      "metadata": {
        "colab": {
          "base_uri": "https://localhost:8080/"
        },
        "id": "eVAwL4P_pyQe",
        "outputId": "aac37adb-d9ad-4367-8e47-be2693046aab"
      },
      "execution_count": 62,
      "outputs": [
        {
          "output_type": "stream",
          "name": "stdout",
          "text": [
            "tensor([[0.1596, 0.0012]])\n"
          ]
        }
      ]
    },
    {
      "cell_type": "code",
      "source": [
        "dir(torch.no_grad)"
      ],
      "metadata": {
        "colab": {
          "base_uri": "https://localhost:8080/"
        },
        "id": "rJTYnc9lqADu",
        "outputId": "95a14e38-1cd2-400b-9bff-be51e93d67f3"
      },
      "execution_count": 63,
      "outputs": [
        {
          "output_type": "execute_result",
          "data": {
            "text/plain": [
              "['__call__',\n",
              " '__class__',\n",
              " '__delattr__',\n",
              " '__dict__',\n",
              " '__dir__',\n",
              " '__doc__',\n",
              " '__enter__',\n",
              " '__eq__',\n",
              " '__exit__',\n",
              " '__format__',\n",
              " '__ge__',\n",
              " '__getattribute__',\n",
              " '__gt__',\n",
              " '__hash__',\n",
              " '__init__',\n",
              " '__init_subclass__',\n",
              " '__le__',\n",
              " '__lt__',\n",
              " '__module__',\n",
              " '__ne__',\n",
              " '__new__',\n",
              " '__reduce__',\n",
              " '__reduce_ex__',\n",
              " '__repr__',\n",
              " '__setattr__',\n",
              " '__sizeof__',\n",
              " '__str__',\n",
              " '__subclasshook__',\n",
              " '__weakref__',\n",
              " 'clone']"
            ]
          },
          "metadata": {},
          "execution_count": 63
        }
      ]
    },
    {
      "cell_type": "markdown",
      "source": [
        "## 고급사용"
      ],
      "metadata": {
        "id": "KvZCi1qJqhGC"
      }
    },
    {
      "cell_type": "markdown",
      "source": [
        "### 예비사용"
      ],
      "metadata": {
        "id": "ZYtfs2KBqrQW"
      }
    },
    {
      "cell_type": "code",
      "source": [
        "plt.plot([1,2,4,3],'--o')"
      ],
      "metadata": {
        "colab": {
          "base_uri": "https://localhost:8080/",
          "height": 448
        },
        "id": "V8hrPafzqLof",
        "outputId": "f3746181-e4e0-43e1-dac5-9081516fe6fd"
      },
      "execution_count": 64,
      "outputs": [
        {
          "output_type": "execute_result",
          "data": {
            "text/plain": [
              "[<matplotlib.lines.Line2D at 0x7efd372318d0>]"
            ]
          },
          "metadata": {},
          "execution_count": 64
        },
        {
          "output_type": "display_data",
          "data": {
            "text/plain": [
              "<Figure size 640x480 with 1 Axes>"
            ],
            "image/png": "[encoded data removed]"
          },
          "metadata": {}
        }
      ]
    },
    {
      "cell_type": "markdown",
      "source": [
        "사이즈가 마음에 들지 않아! 크기 조정(10,3)"
      ],
      "metadata": {
        "id": "Hk0zfvlNqvKq"
      }
    },
    {
      "cell_type": "code",
      "source": [
        "plt.rcParams['figure.figsize'] = [10, 3]\n",
        "plt.plot([1,2,4,3],'--o')"
      ],
      "metadata": {
        "colab": {
          "base_uri": "https://localhost:8080/",
          "height": 277
        },
        "id": "XS2y9CWhqjzH",
        "outputId": "e54f761c-c349-4ac0-cbec-271059366d8f"
      },
      "execution_count": 65,
      "outputs": [
        {
          "output_type": "execute_result",
          "data": {
            "text/plain": [
              "[<matplotlib.lines.Line2D at 0x7efd361a0370>]"
            ]
          },
          "metadata": {},
          "execution_count": 65
        },
        {
          "output_type": "display_data",
          "data": {
            "text/plain": [
              "<Figure size 1000x300 with 1 Axes>"
            ],
            "image/png": "[encoded data removed]"
          },
          "metadata": {}
        }
      ]
    },
    {
      "cell_type": "code",
      "source": [
        "plt.plot([4,3,2,1],'--o')"
      ],
      "metadata": {
        "colab": {
          "base_uri": "https://localhost:8080/",
          "height": 277
        },
        "id": "xEOsQB5Gq16T",
        "outputId": "688d5b17-bd3e-4ce7-bf5d-1896297edd84"
      },
      "execution_count": 66,
      "outputs": [
        {
          "output_type": "execute_result",
          "data": {
            "text/plain": [
              "[<matplotlib.lines.Line2D at 0x7efd36b6d7b0>]"
            ]
          },
          "metadata": {},
          "execution_count": 66
        },
        {
          "output_type": "display_data",
          "data": {
            "text/plain": [
              "<Figure size 1000x300 with 1 Axes>"
            ],
            "image/png": "[encoded data removed]"
          },
          "metadata": {}
        }
      ]
    },
    {
      "cell_type": "code",
      "source": [
        "plt.plot([4,3,2,1],'--o')"
      ],
      "metadata": {
        "colab": {
          "base_uri": "https://localhost:8080/",
          "height": 329
        },
        "id": "2iOdXkELq5JA",
        "outputId": "415d0b82-1875-4886-a9de-5f2099f450b7"
      },
      "execution_count": 67,
      "outputs": [
        {
          "output_type": "execute_result",
          "data": {
            "text/plain": [
              "[<matplotlib.lines.Line2D at 0x7efd361bc5b0>]"
            ]
          },
          "metadata": {},
          "execution_count": 67
        },
        {
          "output_type": "display_data",
          "data": {
            "text/plain": [
              "<Figure size 1000x300 with 1 Axes>"
            ],
            "image/png": "[encoded data removed]"
          },
          "metadata": {}
        }
      ]
    },
    {
      "cell_type": "markdown",
      "source": [
        "⇑ 엥 나 [10,3] 사이즈 별론데\n",
        "\n",
        "다시 되돌릴 수는 없을까?"
      ],
      "metadata": {
        "id": "HTnXTUAerdtm"
      }
    },
    {
      "cell_type": "code",
      "source": [
        "plt.rcdefaults() # 방법1: 설정을 원래대로"
      ],
      "metadata": {
        "id": "K7ZwhdVDrcxn"
      },
      "execution_count": 69,
      "outputs": []
    },
    {
      "cell_type": "code",
      "source": [
        "plt.plot([4,3,2,1],'--o')"
      ],
      "metadata": {
        "colab": {
          "base_uri": "https://localhost:8080/",
          "height": 448
        },
        "id": "Qjb8rnk2rkTH",
        "outputId": "10605524-ffd2-45bd-e8a4-953975988a3a"
      },
      "execution_count": 70,
      "outputs": [
        {
          "output_type": "execute_result",
          "data": {
            "text/plain": [
              "[<matplotlib.lines.Line2D at 0x7efd365a1540>]"
            ]
          },
          "metadata": {},
          "execution_count": 70
        },
        {
          "output_type": "display_data",
          "data": {
            "text/plain": [
              "<Figure size 640x480 with 1 Axes>"
            ],
            "image/png": "[encoded data removed]"
          },
          "metadata": {}
        }
      ]
    },
    {
      "cell_type": "markdown",
      "source": [
        "### 예제1-1: 내 마음대로 크기 조정(`as` 無)"
      ],
      "metadata": {
        "id": "4BVhQkver6tp"
      }
    },
    {
      "cell_type": "code",
      "source": [
        "class FigureSizeContext:\n",
        "    def __enter__(self):\n",
        "        def resize(w,h):\n",
        "            plt.rcParams['figure.figsize'] = [w, h]\n",
        "        return resize\n",
        "    def __exit__(self,*args):\n",
        "        plt.rcdefaults()\n",
        ""
      ],
      "metadata": {
        "id": "cJBRSph7rpKa"
      },
      "execution_count": 71,
      "outputs": []
    },
    {
      "cell_type": "markdown",
      "source": [
        "코드 설명:\n",
        "\n",
        "시작할 때(`__enter__`) 내 마음대로 크기 조정(`w`, `h`)을 한 후,\n",
        "\n",
        "끝날 때? 코드 문 닫고 갈 때?(`__exit__`) `plt.rcdefaulsts()`를 실행함"
      ],
      "metadata": {
        "id": "hQhpNGbZsN5u"
      }
    },
    {
      "cell_type": "code",
      "source": [
        "context_manager = FigureSizeContext()\n",
        "xxxx = context_manager.__enter__()\n",
        "xxxx(3,3)\n",
        "plt.plot([1,2,4,3],'--o')\n",
        "context_manager.__exit__()"
      ],
      "metadata": {
        "colab": {
          "base_uri": "https://localhost:8080/",
          "height": 291
        },
        "id": "qT06nFmssBRl",
        "outputId": "0f7d2fbb-5ed9-4409-9dfb-dc611faef222"
      },
      "execution_count": 72,
      "outputs": [
        {
          "output_type": "display_data",
          "data": {
            "text/plain": [
              "<Figure size 300x300 with 1 Axes>"
            ],
            "image/png": "[encoded data removed]"
          },
          "metadata": {}
        }
      ]
    },
    {
      "cell_type": "markdown",
      "source": [
        "⇑ 내 마음대로 크기 조정해야지~~"
      ],
      "metadata": {
        "id": "dtRlhU4isr_L"
      }
    },
    {
      "cell_type": "code",
      "source": [
        "plt.plot([1,2,4,3],'--o')"
      ],
      "metadata": {
        "colab": {
          "base_uri": "https://localhost:8080/",
          "height": 448
        },
        "id": "pjtX-WWYspTa",
        "outputId": "9a5dc11b-cebb-4d9a-ddaa-30cf50528631"
      },
      "execution_count": 73,
      "outputs": [
        {
          "output_type": "execute_result",
          "data": {
            "text/plain": [
              "[<matplotlib.lines.Line2D at 0x7efd361b0670>]"
            ]
          },
          "metadata": {},
          "execution_count": 73
        },
        {
          "output_type": "display_data",
          "data": {
            "text/plain": [
              "<Figure size 640x480 with 1 Axes>"
            ],
            "image/png": "[encoded data removed]"
          },
          "metadata": {}
        }
      ]
    },
    {
      "cell_type": "markdown",
      "source": [
        "⇑ 크기조정값이 없다면 디폴트 사이즈로 출력"
      ],
      "metadata": {
        "id": "phIRXSLOsz6w"
      }
    },
    {
      "cell_type": "markdown",
      "source": [
        "### 예제1-2: 내 마음대로 크기 조정(`as` 有)"
      ],
      "metadata": {
        "id": "7bGgy4zTtMLn"
      }
    },
    {
      "cell_type": "code",
      "source": [
        "with FigureSizeContext() as xxxx:\n",
        "    xxxx(3,3)\n",
        "    plt.plot([1,2,4,3],'--o')"
      ],
      "metadata": {
        "colab": {
          "base_uri": "https://localhost:8080/",
          "height": 291
        },
        "id": "ohq7oFF-srJD",
        "outputId": "7930e75b-15e7-4d3d-d38d-e7a80f58c3b3"
      },
      "execution_count": 74,
      "outputs": [
        {
          "output_type": "display_data",
          "data": {
            "text/plain": [
              "<Figure size 300x300 with 1 Axes>"
            ],
            "image/png": "[encoded data removed]"
          },
          "metadata": {}
        }
      ]
    },
    {
      "cell_type": "code",
      "source": [
        "plt.plot([1,2,4,3],'--o')"
      ],
      "metadata": {
        "colab": {
          "base_uri": "https://localhost:8080/",
          "height": 448
        },
        "id": "OkbajViEtVK5",
        "outputId": "c22923ff-4348-43c6-c29b-1d791e6d556b"
      },
      "execution_count": 75,
      "outputs": [
        {
          "output_type": "execute_result",
          "data": {
            "text/plain": [
              "[<matplotlib.lines.Line2D at 0x7efd33d2f010>]"
            ]
          },
          "metadata": {},
          "execution_count": 75
        },
        {
          "output_type": "display_data",
          "data": {
            "text/plain": [
              "<Figure size 640x480 with 1 Axes>"
            ],
            "image/png": "[encoded data removed]"
          },
          "metadata": {}
        }
      ]
    },
    {
      "cell_type": "markdown",
      "source": [
        "### 정리"
      ],
      "metadata": {
        "id": "UL7xpS_euKN1"
      }
    },
    {
      "cell_type": "markdown",
      "source": [
        "`with`는 아래와 같이 `as`와 함께 사용 가능하며"
      ],
      "metadata": {
        "id": "J_-X8v5Ztopr"
      }
    },
    {
      "cell_type": "markdown",
      "source": [
        "```python\n",
        "with context_manager as xxxx:\n",
        "    블라블라~\n",
        "    야디야디~\n",
        "```"
      ],
      "metadata": {
        "id": "DItAcAytthKM"
      }
    },
    {
      "cell_type": "markdown",
      "source": [
        "여기에서 `as`뒤의 `xxxx` 자리는 `context_manager.__enter__`의 리턴값이 차지하게 된다."
      ],
      "metadata": {
        "id": "rKT_4ETxtv_y"
      }
    },
    {
      "cell_type": "code",
      "source": [
        "class 미분꼬리표추적금지:\n",
        "    def __enter__(self):\n",
        "        torch.set_grad_enabled(False)\n",
        "    def __exit__(self,*args):\n",
        "        torch.set_grad_enabled(True)"
      ],
      "metadata": {
        "id": "4Mq4tLE4thf5"
      },
      "execution_count": 76,
      "outputs": []
    },
    {
      "cell_type": "code",
      "source": [
        "class 미분꼬리표추적금지:\n",
        "    def __enter__(self):\n",
        "        torch.set_grad_enabled(False)\n",
        "    def __exit__(self,*args):\n",
        "        torch.set_grad_enabled(True)"
      ],
      "metadata": {
        "id": "NHob8MTYuNDJ"
      },
      "execution_count": 79,
      "outputs": []
    },
    {
      "cell_type": "code",
      "source": [
        "with 미분꼬리표추적금지() as xxxx:\n",
        "  print(xxxx)\n",
        "\n",
        "# xxxx == None"
      ],
      "metadata": {
        "colab": {
          "base_uri": "https://localhost:8080/"
        },
        "id": "VnxofSoouQ7K",
        "outputId": "3fdd0fce-ad4d-4e46-cc42-4a33eff7f661"
      },
      "execution_count": 81,
      "outputs": [
        {
          "output_type": "stream",
          "name": "stdout",
          "text": [
            "None\n"
          ]
        }
      ]
    },
    {
      "cell_type": "markdown",
      "source": [
        "### 예제2: 샌드위치 만들기"
      ],
      "metadata": {
        "id": "83YkaPf9u7yZ"
      }
    },
    {
      "cell_type": "code",
      "source": [
        "class 샌드위치생성기간소화:\n",
        "  def __init__(self,빵=\"기본빵\"):\n",
        "    self.빵 = 빵\n",
        "  def __enter__(self):\n",
        "    print(f\"---{self.빵}---\")\n",
        "  def __exit__(self, *args):\n",
        "    print(f\"---{self.빵}---\")"
      ],
      "metadata": {
        "id": "UDXhjVq3wZD1"
      },
      "execution_count": 88,
      "outputs": []
    },
    {
      "cell_type": "code",
      "source": [
        "with 샌드위치생성기간소화(빵='허니오트'):\n",
        "  print(\"치즈\")\n",
        "  print(\"우왕\")"
      ],
      "metadata": {
        "colab": {
          "base_uri": "https://localhost:8080/"
        },
        "id": "01e4uU-Ww4ga",
        "outputId": "d49f36ae-d421-482a-97b8-2862bf32b2d8"
      },
      "execution_count": 90,
      "outputs": [
        {
          "output_type": "stream",
          "name": "stdout",
          "text": [
            "---허니오트---\n",
            "치즈\n",
            "우왕\n",
            "---허니오트---\n"
          ]
        }
      ]
    },
    {
      "cell_type": "code",
      "source": [
        "class 샌드위치생성기:\n",
        "  def __init__(self,빵=\"기본빵\"):\n",
        "    self.빵 = 빵\n",
        "    self.재료들 = []\n",
        "  def __enter__(self):\n",
        "    print(f\"---{self.빵}---\")\n",
        "    return self                   # 1st: \"---{self.빵}---\" 을 프린트\n",
        "                                  # 2nd: `self`를 return\n",
        "                                  # as 뒤의 xxxx 자리에 `__enter__`의 return 값이 들어가므로, xxxx == `샌드위치` -> self == `샌드위치`\n",
        "  def __exit__(self, *args):\n",
        "    print(f\"---{self.빵}---\")\n",
        "\n",
        "  def 재료추가하기(self,재료):   # 3rd: `재료추가하기` 함수를 위해 새로운 함수를 정의한다. 여기서 `self`는 매개변수가 된다\n",
        "    print(재료)\n",
        "    self.재료들.append(재료)"
      ],
      "metadata": {
        "id": "UUxdeNAauUyy"
      },
      "execution_count": 97,
      "outputs": []
    },
    {
      "cell_type": "code",
      "source": [
        "with 샌드위치생성기(빵=\"허니오트\") as 샌드위치:\n",
        "    샌드위치.재료추가하기(\"양상추\")\n",
        "    샌드위치.재료추가하기(\"치즈\")\n",
        "    샌드위치.재료추가하기(\"베이컨\")\n",
        "    샌드위치.재료추가하기(\"오이\")"
      ],
      "metadata": {
        "colab": {
          "base_uri": "https://localhost:8080/"
        },
        "id": "ZyY3ZB8uvCDv",
        "outputId": "51823b94-6873-4b1d-93f6-87b50862ac88"
      },
      "execution_count": 98,
      "outputs": [
        {
          "output_type": "stream",
          "name": "stdout",
          "text": [
            "---허니오트---\n",
            "양상추\n",
            "치즈\n",
            "베이컨\n",
            "오이\n",
            "---허니오트---\n"
          ]
        }
      ]
    },
    {
      "cell_type": "code",
      "source": [
        "샌드위치.빵, 샌드위치.재료들"
      ],
      "metadata": {
        "colab": {
          "base_uri": "https://localhost:8080/"
        },
        "id": "YSi0elkEvdsN",
        "outputId": "219f50df-8a55-4632-f6bf-22a8c0c74764"
      },
      "execution_count": 99,
      "outputs": [
        {
          "output_type": "execute_result",
          "data": {
            "text/plain": [
              "('허니오트', ['양상추', '치즈', '베이컨', '오이'])"
            ]
          },
          "metadata": {},
          "execution_count": 99
        }
      ]
    },
    {
      "cell_type": "markdown",
      "source": [
        "↓ 두 가지 코드가 동일한 기능을 수행한다"
      ],
      "metadata": {
        "id": "m5GcupMHzBLK"
      }
    },
    {
      "cell_type": "code",
      "source": [
        "# 1st\n",
        "\n",
        "with 샌드위치생성기(빵=\"허니오트\") as 샌드위치:\n",
        "    샌드위치.재료추가하기(\"토마토\")\n",
        "    샌드위치.재료추가하기(\"치즈\")\n",
        "    샌드위치.재료추가하기(\"베이컨\")\n",
        "    샌드위치.재료추가하기(\"에그마요\")"
      ],
      "metadata": {
        "colab": {
          "base_uri": "https://localhost:8080/"
        },
        "id": "aHqRXG90vjEV",
        "outputId": "5afdd643-f817-4dae-a724-8de602eaacfd"
      },
      "execution_count": 102,
      "outputs": [
        {
          "output_type": "stream",
          "name": "stdout",
          "text": [
            "---허니오트---\n",
            "토마토\n",
            "치즈\n",
            "베이컨\n",
            "에그마요\n",
            "---허니오트---\n"
          ]
        }
      ]
    },
    {
      "cell_type": "code",
      "source": [
        "# 2nd\n",
        "\n",
        "샌드위치 = 샌드위치생성기(빵=\"허니오트\")\n",
        "샌드위치 = 샌드위치.__enter__()\n",
        "샌드위치.재료추가하기(\"토마토\")\n",
        "샌드위치.재료추가하기(\"치즈\")\n",
        "샌드위치.재료추가하기(\"베이컨\")\n",
        "샌드위치.재료추가하기(\"에그마요\")\n",
        "샌드위치.__exit__()"
      ],
      "metadata": {
        "colab": {
          "base_uri": "https://localhost:8080/"
        },
        "id": "a8Jadb2TzGzk",
        "outputId": "ce0105db-31b0-4ce6-f071-918a4ae3cb23"
      },
      "execution_count": 104,
      "outputs": [
        {
          "output_type": "stream",
          "name": "stdout",
          "text": [
            "---허니오트---\n",
            "토마토\n",
            "치즈\n",
            "베이컨\n",
            "에그마요\n",
            "---허니오트---\n"
          ]
        }
      ]
    },
    {
      "cell_type": "code",
      "source": [],
      "metadata": {
        "id": "T2PlqImszLz4"
      },
      "execution_count": null,
      "outputs": []
    },
    {
      "cell_type": "markdown",
      "source": [
        "따라서 `__enter__` 가 `self`를 리턴하는 경우에는\n",
        "\n",
        "```python\n",
        "with 샌드위치생성기(빵=\"허니오트\") as 샌드위치\n",
        "```\n",
        "\n",
        "이 부분을 해석할 때`“샌드위치생성기(빵=\"허니오트\")` 코드의 실행결과 만들어지는 오브젝트를 `샌드위치`로 저장”한다고 해석해도 무리가 없다.\n",
        "\n",
        "```python\n",
        "with 샌드위치생성기(빵=\"허니오트\") as 샌드위치\n",
        "```\n",
        "           ^^^^^^^^^^^^^^^^^^^^^^^^^^ 이 부분이\n",
        "\n",
        "\n",
        "```python\n",
        "as 샌드위치\n",
        "```\n",
        "\n",
        "의 `샌드위치`에 저장한다고 볼 수 있다"
      ],
      "metadata": {
        "id": "OIlzAE7zzQwp"
      }
    },
    {
      "cell_type": "markdown",
      "source": [
        "### 예제3: example.txt"
      ],
      "metadata": {
        "id": "jeF70MUE0Opq"
      }
    },
    {
      "cell_type": "markdown",
      "source": [
        "`example.txt` 를 만들고 \"asdf” 라는 글자를 넣는 파이썬코드\n",
        "\n"
      ],
      "metadata": {
        "id": "0dUaJ8sN0T8T"
      }
    },
    {
      "cell_type": "code",
      "source": [
        "with open(\"example.txt\",\"w\") as file:\n",
        "    # 대충 해석: open(\"example.txt\",\"w\") 을 실행하여 나오는 오브젝트를 file로 받음\n",
        "    # 왜냐하면 __enter__의 return값이 `self` 일 때만 해당하기 때문\n",
        "    # 더 엄밀한 해석:\n",
        "    # open(\"example.txt\",\"w\") 을 실행하여 나오는 오브젝트를 ???라고 하자.\n",
        "    # 그런데 ??? 에는 `__enter__`가 있을텐데, 그 `__enter__`를 실행하여 나오는 오브젝트를\n",
        "    # file로 받음.\n",
        "    file.write(\"asdf\")  `"
      ],
      "metadata": {
        "id": "5df-1gD2zhHb"
      },
      "execution_count": 110,
      "outputs": []
    },
    {
      "cell_type": "code",
      "source": [
        "file"
      ],
      "metadata": {
        "colab": {
          "base_uri": "https://localhost:8080/"
        },
        "id": "o90kEO9c0YvY",
        "outputId": "245c4b59-eefd-4003-c0b8-8d9c0ae267b0"
      },
      "execution_count": 106,
      "outputs": [
        {
          "output_type": "execute_result",
          "data": {
            "text/plain": [
              "<_io.TextIOWrapper name='example.txt' mode='w' encoding='UTF-8'>"
            ]
          },
          "metadata": {},
          "execution_count": 106
        }
      ]
    },
    {
      "cell_type": "code",
      "source": [
        "context_manager = open(\"example.txt\",\"w\")\n",
        "file = context_manager.__enter__()"
      ],
      "metadata": {
        "id": "zYq9hhT-0bX8"
      },
      "execution_count": 107,
      "outputs": []
    },
    {
      "cell_type": "code",
      "source": [
        "type(context_manager), type(file)\n",
        "# 두 개가 똑같다!"
      ],
      "metadata": {
        "colab": {
          "base_uri": "https://localhost:8080/"
        },
        "id": "g4fSSjwB0dlh",
        "outputId": "0994998b-44f7-451e-e440-1a9825d673dc"
      },
      "execution_count": 111,
      "outputs": [
        {
          "output_type": "execute_result",
          "data": {
            "text/plain": [
              "(_io.TextIOWrapper, _io.TextIOWrapper)"
            ]
          },
          "metadata": {},
          "execution_count": 111
        }
      ]
    },
    {
      "cell_type": "markdown",
      "source": [
        "### 예제4: `tar.gz`로 압축"
      ],
      "metadata": {
        "id": "c0omEtCd1yIz"
      }
    },
    {
      "cell_type": "code",
      "source": [
        "with tarfile.open(\"example.tar.gz\",\"w:gz\") as tar:\n",
        "    tar.add(\"example.txt\", arcname=\"example.txt\")"
      ],
      "metadata": {
        "id": "By-nhNrf0e2s"
      },
      "execution_count": 112,
      "outputs": []
    },
    {
      "cell_type": "markdown",
      "source": [
        "분석하기"
      ],
      "metadata": {
        "id": "AzUQal8q2BYX"
      }
    },
    {
      "cell_type": "code",
      "source": [
        "context_manager = tarfile.open(\"example.tar.gz\",\"w:gz\")\n",
        "type(context_manager), type(tar)\n",
        "# 똑같네용"
      ],
      "metadata": {
        "colab": {
          "base_uri": "https://localhost:8080/"
        },
        "id": "ijZ89N4U19Jt",
        "outputId": "a61b93e9-be53-4c19-f76c-a842748f1a4e"
      },
      "execution_count": 115,
      "outputs": [
        {
          "output_type": "execute_result",
          "data": {
            "text/plain": [
              "(tarfile.TarFile, tarfile.TarFile)"
            ]
          },
          "metadata": {},
          "execution_count": 115
        }
      ]
    },
    {
      "cell_type": "markdown",
      "source": [
        "`context_manager.__enter__()` 는 `self`를 리턴하는 것 같다"
      ],
      "metadata": {
        "id": "8FnGVF7C2QMW"
      }
    },
    {
      "cell_type": "code",
      "source": [],
      "metadata": {
        "id": "qHwTrfBc2FDF"
      },
      "execution_count": null,
      "outputs": []
    }
  ]
}