{
  "nbformat": 4,
  "nbformat_minor": 0,
  "metadata": {
    "colab": {
      "provenance": [],
      "authorship_tag": "ABX9TyN27TAF+3JZR9gjww1x87m7",
      "include_colab_link": true
    },
    "kernelspec": {
      "name": "python3",
      "display_name": "Python 3"
    },
    "language_info": {
      "name": "python"
    }
  },
  "cells": [
    {
      "cell_type": "markdown",
      "metadata": {
        "id": "view-in-github",
        "colab_type": "text"
      },
      "source": [
        "<a href=\"https://colab.research.google.com/github/oenereaty/MP2024/blob/main/MP2024_new_columns.ipynb\" target=\"_parent\"><img src=\"https://colab.research.google.com/assets/colab-badge.svg\" alt=\"Open In Colab\"/></a>"
      ]
    },
    {
      "cell_type": "markdown",
      "source": [
        "```python\n",
        "trainer_input = trainer_input.map(lambda x: {'new_column': x['labels'] * 2})  # 예시로 'labels' 값을 두 배로 한 'new_column'을 추가\n",
        "\n",
        "trainer_input = trainer_input.map(lambda x: {'pixel_values': [0] * 224 * 224})  # 예시로, 224x224 크기의 0 값으로 채워진 리스트\n",
        "\n",
        "여러 컬럼 추가하기\n",
        "여러 컬럼을 추가하고 싶다면, map() 함수 안에서 여러 값을 반환하도록 하면 됩니다:\n",
        "\n",
        "trainer_input = trainer_input.map(lambda x: {'new_column_1': x['labels'] * 2, 'new_column_2': x['labels'] + 5})\n",
        "위 코드에서는 new_column_1과 new_column_2 두 개의 새로운 컬럼을 추가했습니다.\n",
        "```"
      ],
      "metadata": {
        "id": "DyvrBE0kFjjj"
      }
    },
    {
      "cell_type": "code",
      "source": [],
      "metadata": {
        "id": "iG4Oz2RjFVMb"
      },
      "execution_count": null,
      "outputs": []
    }
  ]
}